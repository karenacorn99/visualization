{
 "cells": [
  {
   "cell_type": "markdown",
   "metadata": {},
   "source": [
    "### In class experiments ###"
   ]
  },
  {
   "cell_type": "markdown",
   "metadata": {},
   "source": [
    "Less is more attractive, more effective and more impactive."
   ]
  },
  {
   "cell_type": "code",
   "execution_count": 42,
   "metadata": {},
   "outputs": [],
   "source": [
    "#%matplotlib inline  # need to add everything before calling show()\n",
    "%matplotlib notebook\n",
    "import matplotlib.pyplot as plt"
   ]
  },
  {
   "cell_type": "code",
   "execution_count": 39,
   "metadata": {},
   "outputs": [
    {
     "data": {
      "application/javascript": [
       "/* Put everything inside the global mpl namespace */\n",
       "window.mpl = {};\n",
       "\n",
       "\n",
       "mpl.get_websocket_type = function() {\n",
       "    if (typeof(WebSocket) !== 'undefined') {\n",
       "        return WebSocket;\n",
       "    } else if (typeof(MozWebSocket) !== 'undefined') {\n",
       "        return MozWebSocket;\n",
       "    } else {\n",
       "        alert('Your browser does not have WebSocket support.' +\n",
       "              'Please try Chrome, Safari or Firefox ≥ 6. ' +\n",
       "              'Firefox 4 and 5 are also supported but you ' +\n",
       "              'have to enable WebSockets in about:config.');\n",
       "    };\n",
       "}\n",
       "\n",
       "mpl.figure = function(figure_id, websocket, ondownload, parent_element) {\n",
       "    this.id = figure_id;\n",
       "\n",
       "    this.ws = websocket;\n",
       "\n",
       "    this.supports_binary = (this.ws.binaryType != undefined);\n",
       "\n",
       "    if (!this.supports_binary) {\n",
       "        var warnings = document.getElementById(\"mpl-warnings\");\n",
       "        if (warnings) {\n",
       "            warnings.style.display = 'block';\n",
       "            warnings.textContent = (\n",
       "                \"This browser does not support binary websocket messages. \" +\n",
       "                    \"Performance may be slow.\");\n",
       "        }\n",
       "    }\n",
       "\n",
       "    this.imageObj = new Image();\n",
       "\n",
       "    this.context = undefined;\n",
       "    this.message = undefined;\n",
       "    this.canvas = undefined;\n",
       "    this.rubberband_canvas = undefined;\n",
       "    this.rubberband_context = undefined;\n",
       "    this.format_dropdown = undefined;\n",
       "\n",
       "    this.image_mode = 'full';\n",
       "\n",
       "    this.root = $('<div/>');\n",
       "    this._root_extra_style(this.root)\n",
       "    this.root.attr('style', 'display: inline-block');\n",
       "\n",
       "    $(parent_element).append(this.root);\n",
       "\n",
       "    this._init_header(this);\n",
       "    this._init_canvas(this);\n",
       "    this._init_toolbar(this);\n",
       "\n",
       "    var fig = this;\n",
       "\n",
       "    this.waiting = false;\n",
       "\n",
       "    this.ws.onopen =  function () {\n",
       "            fig.send_message(\"supports_binary\", {value: fig.supports_binary});\n",
       "            fig.send_message(\"send_image_mode\", {});\n",
       "            if (mpl.ratio != 1) {\n",
       "                fig.send_message(\"set_dpi_ratio\", {'dpi_ratio': mpl.ratio});\n",
       "            }\n",
       "            fig.send_message(\"refresh\", {});\n",
       "        }\n",
       "\n",
       "    this.imageObj.onload = function() {\n",
       "            if (fig.image_mode == 'full') {\n",
       "                // Full images could contain transparency (where diff images\n",
       "                // almost always do), so we need to clear the canvas so that\n",
       "                // there is no ghosting.\n",
       "                fig.context.clearRect(0, 0, fig.canvas.width, fig.canvas.height);\n",
       "            }\n",
       "            fig.context.drawImage(fig.imageObj, 0, 0);\n",
       "        };\n",
       "\n",
       "    this.imageObj.onunload = function() {\n",
       "        fig.ws.close();\n",
       "    }\n",
       "\n",
       "    this.ws.onmessage = this._make_on_message_function(this);\n",
       "\n",
       "    this.ondownload = ondownload;\n",
       "}\n",
       "\n",
       "mpl.figure.prototype._init_header = function() {\n",
       "    var titlebar = $(\n",
       "        '<div class=\"ui-dialog-titlebar ui-widget-header ui-corner-all ' +\n",
       "        'ui-helper-clearfix\"/>');\n",
       "    var titletext = $(\n",
       "        '<div class=\"ui-dialog-title\" style=\"width: 100%; ' +\n",
       "        'text-align: center; padding: 3px;\"/>');\n",
       "    titlebar.append(titletext)\n",
       "    this.root.append(titlebar);\n",
       "    this.header = titletext[0];\n",
       "}\n",
       "\n",
       "\n",
       "\n",
       "mpl.figure.prototype._canvas_extra_style = function(canvas_div) {\n",
       "\n",
       "}\n",
       "\n",
       "\n",
       "mpl.figure.prototype._root_extra_style = function(canvas_div) {\n",
       "\n",
       "}\n",
       "\n",
       "mpl.figure.prototype._init_canvas = function() {\n",
       "    var fig = this;\n",
       "\n",
       "    var canvas_div = $('<div/>');\n",
       "\n",
       "    canvas_div.attr('style', 'position: relative; clear: both; outline: 0');\n",
       "\n",
       "    function canvas_keyboard_event(event) {\n",
       "        return fig.key_event(event, event['data']);\n",
       "    }\n",
       "\n",
       "    canvas_div.keydown('key_press', canvas_keyboard_event);\n",
       "    canvas_div.keyup('key_release', canvas_keyboard_event);\n",
       "    this.canvas_div = canvas_div\n",
       "    this._canvas_extra_style(canvas_div)\n",
       "    this.root.append(canvas_div);\n",
       "\n",
       "    var canvas = $('<canvas/>');\n",
       "    canvas.addClass('mpl-canvas');\n",
       "    canvas.attr('style', \"left: 0; top: 0; z-index: 0; outline: 0\")\n",
       "\n",
       "    this.canvas = canvas[0];\n",
       "    this.context = canvas[0].getContext(\"2d\");\n",
       "\n",
       "    var backingStore = this.context.backingStorePixelRatio ||\n",
       "\tthis.context.webkitBackingStorePixelRatio ||\n",
       "\tthis.context.mozBackingStorePixelRatio ||\n",
       "\tthis.context.msBackingStorePixelRatio ||\n",
       "\tthis.context.oBackingStorePixelRatio ||\n",
       "\tthis.context.backingStorePixelRatio || 1;\n",
       "\n",
       "    mpl.ratio = (window.devicePixelRatio || 1) / backingStore;\n",
       "\n",
       "    var rubberband = $('<canvas/>');\n",
       "    rubberband.attr('style', \"position: absolute; left: 0; top: 0; z-index: 1;\")\n",
       "\n",
       "    var pass_mouse_events = true;\n",
       "\n",
       "    canvas_div.resizable({\n",
       "        start: function(event, ui) {\n",
       "            pass_mouse_events = false;\n",
       "        },\n",
       "        resize: function(event, ui) {\n",
       "            fig.request_resize(ui.size.width, ui.size.height);\n",
       "        },\n",
       "        stop: function(event, ui) {\n",
       "            pass_mouse_events = true;\n",
       "            fig.request_resize(ui.size.width, ui.size.height);\n",
       "        },\n",
       "    });\n",
       "\n",
       "    function mouse_event_fn(event) {\n",
       "        if (pass_mouse_events)\n",
       "            return fig.mouse_event(event, event['data']);\n",
       "    }\n",
       "\n",
       "    rubberband.mousedown('button_press', mouse_event_fn);\n",
       "    rubberband.mouseup('button_release', mouse_event_fn);\n",
       "    // Throttle sequential mouse events to 1 every 20ms.\n",
       "    rubberband.mousemove('motion_notify', mouse_event_fn);\n",
       "\n",
       "    rubberband.mouseenter('figure_enter', mouse_event_fn);\n",
       "    rubberband.mouseleave('figure_leave', mouse_event_fn);\n",
       "\n",
       "    canvas_div.on(\"wheel\", function (event) {\n",
       "        event = event.originalEvent;\n",
       "        event['data'] = 'scroll'\n",
       "        if (event.deltaY < 0) {\n",
       "            event.step = 1;\n",
       "        } else {\n",
       "            event.step = -1;\n",
       "        }\n",
       "        mouse_event_fn(event);\n",
       "    });\n",
       "\n",
       "    canvas_div.append(canvas);\n",
       "    canvas_div.append(rubberband);\n",
       "\n",
       "    this.rubberband = rubberband;\n",
       "    this.rubberband_canvas = rubberband[0];\n",
       "    this.rubberband_context = rubberband[0].getContext(\"2d\");\n",
       "    this.rubberband_context.strokeStyle = \"#000000\";\n",
       "\n",
       "    this._resize_canvas = function(width, height) {\n",
       "        // Keep the size of the canvas, canvas container, and rubber band\n",
       "        // canvas in synch.\n",
       "        canvas_div.css('width', width)\n",
       "        canvas_div.css('height', height)\n",
       "\n",
       "        canvas.attr('width', width * mpl.ratio);\n",
       "        canvas.attr('height', height * mpl.ratio);\n",
       "        canvas.attr('style', 'width: ' + width + 'px; height: ' + height + 'px;');\n",
       "\n",
       "        rubberband.attr('width', width);\n",
       "        rubberband.attr('height', height);\n",
       "    }\n",
       "\n",
       "    // Set the figure to an initial 600x600px, this will subsequently be updated\n",
       "    // upon first draw.\n",
       "    this._resize_canvas(600, 600);\n",
       "\n",
       "    // Disable right mouse context menu.\n",
       "    $(this.rubberband_canvas).bind(\"contextmenu\",function(e){\n",
       "        return false;\n",
       "    });\n",
       "\n",
       "    function set_focus () {\n",
       "        canvas.focus();\n",
       "        canvas_div.focus();\n",
       "    }\n",
       "\n",
       "    window.setTimeout(set_focus, 100);\n",
       "}\n",
       "\n",
       "mpl.figure.prototype._init_toolbar = function() {\n",
       "    var fig = this;\n",
       "\n",
       "    var nav_element = $('<div/>')\n",
       "    nav_element.attr('style', 'width: 100%');\n",
       "    this.root.append(nav_element);\n",
       "\n",
       "    // Define a callback function for later on.\n",
       "    function toolbar_event(event) {\n",
       "        return fig.toolbar_button_onclick(event['data']);\n",
       "    }\n",
       "    function toolbar_mouse_event(event) {\n",
       "        return fig.toolbar_button_onmouseover(event['data']);\n",
       "    }\n",
       "\n",
       "    for(var toolbar_ind in mpl.toolbar_items) {\n",
       "        var name = mpl.toolbar_items[toolbar_ind][0];\n",
       "        var tooltip = mpl.toolbar_items[toolbar_ind][1];\n",
       "        var image = mpl.toolbar_items[toolbar_ind][2];\n",
       "        var method_name = mpl.toolbar_items[toolbar_ind][3];\n",
       "\n",
       "        if (!name) {\n",
       "            // put a spacer in here.\n",
       "            continue;\n",
       "        }\n",
       "        var button = $('<button/>');\n",
       "        button.addClass('ui-button ui-widget ui-state-default ui-corner-all ' +\n",
       "                        'ui-button-icon-only');\n",
       "        button.attr('role', 'button');\n",
       "        button.attr('aria-disabled', 'false');\n",
       "        button.click(method_name, toolbar_event);\n",
       "        button.mouseover(tooltip, toolbar_mouse_event);\n",
       "\n",
       "        var icon_img = $('<span/>');\n",
       "        icon_img.addClass('ui-button-icon-primary ui-icon');\n",
       "        icon_img.addClass(image);\n",
       "        icon_img.addClass('ui-corner-all');\n",
       "\n",
       "        var tooltip_span = $('<span/>');\n",
       "        tooltip_span.addClass('ui-button-text');\n",
       "        tooltip_span.html(tooltip);\n",
       "\n",
       "        button.append(icon_img);\n",
       "        button.append(tooltip_span);\n",
       "\n",
       "        nav_element.append(button);\n",
       "    }\n",
       "\n",
       "    var fmt_picker_span = $('<span/>');\n",
       "\n",
       "    var fmt_picker = $('<select/>');\n",
       "    fmt_picker.addClass('mpl-toolbar-option ui-widget ui-widget-content');\n",
       "    fmt_picker_span.append(fmt_picker);\n",
       "    nav_element.append(fmt_picker_span);\n",
       "    this.format_dropdown = fmt_picker[0];\n",
       "\n",
       "    for (var ind in mpl.extensions) {\n",
       "        var fmt = mpl.extensions[ind];\n",
       "        var option = $(\n",
       "            '<option/>', {selected: fmt === mpl.default_extension}).html(fmt);\n",
       "        fmt_picker.append(option)\n",
       "    }\n",
       "\n",
       "    // Add hover states to the ui-buttons\n",
       "    $( \".ui-button\" ).hover(\n",
       "        function() { $(this).addClass(\"ui-state-hover\");},\n",
       "        function() { $(this).removeClass(\"ui-state-hover\");}\n",
       "    );\n",
       "\n",
       "    var status_bar = $('<span class=\"mpl-message\"/>');\n",
       "    nav_element.append(status_bar);\n",
       "    this.message = status_bar[0];\n",
       "}\n",
       "\n",
       "mpl.figure.prototype.request_resize = function(x_pixels, y_pixels) {\n",
       "    // Request matplotlib to resize the figure. Matplotlib will then trigger a resize in the client,\n",
       "    // which will in turn request a refresh of the image.\n",
       "    this.send_message('resize', {'width': x_pixels, 'height': y_pixels});\n",
       "}\n",
       "\n",
       "mpl.figure.prototype.send_message = function(type, properties) {\n",
       "    properties['type'] = type;\n",
       "    properties['figure_id'] = this.id;\n",
       "    this.ws.send(JSON.stringify(properties));\n",
       "}\n",
       "\n",
       "mpl.figure.prototype.send_draw_message = function() {\n",
       "    if (!this.waiting) {\n",
       "        this.waiting = true;\n",
       "        this.ws.send(JSON.stringify({type: \"draw\", figure_id: this.id}));\n",
       "    }\n",
       "}\n",
       "\n",
       "\n",
       "mpl.figure.prototype.handle_save = function(fig, msg) {\n",
       "    var format_dropdown = fig.format_dropdown;\n",
       "    var format = format_dropdown.options[format_dropdown.selectedIndex].value;\n",
       "    fig.ondownload(fig, format);\n",
       "}\n",
       "\n",
       "\n",
       "mpl.figure.prototype.handle_resize = function(fig, msg) {\n",
       "    var size = msg['size'];\n",
       "    if (size[0] != fig.canvas.width || size[1] != fig.canvas.height) {\n",
       "        fig._resize_canvas(size[0], size[1]);\n",
       "        fig.send_message(\"refresh\", {});\n",
       "    };\n",
       "}\n",
       "\n",
       "mpl.figure.prototype.handle_rubberband = function(fig, msg) {\n",
       "    var x0 = msg['x0'] / mpl.ratio;\n",
       "    var y0 = (fig.canvas.height - msg['y0']) / mpl.ratio;\n",
       "    var x1 = msg['x1'] / mpl.ratio;\n",
       "    var y1 = (fig.canvas.height - msg['y1']) / mpl.ratio;\n",
       "    x0 = Math.floor(x0) + 0.5;\n",
       "    y0 = Math.floor(y0) + 0.5;\n",
       "    x1 = Math.floor(x1) + 0.5;\n",
       "    y1 = Math.floor(y1) + 0.5;\n",
       "    var min_x = Math.min(x0, x1);\n",
       "    var min_y = Math.min(y0, y1);\n",
       "    var width = Math.abs(x1 - x0);\n",
       "    var height = Math.abs(y1 - y0);\n",
       "\n",
       "    fig.rubberband_context.clearRect(\n",
       "        0, 0, fig.canvas.width, fig.canvas.height);\n",
       "\n",
       "    fig.rubberband_context.strokeRect(min_x, min_y, width, height);\n",
       "}\n",
       "\n",
       "mpl.figure.prototype.handle_figure_label = function(fig, msg) {\n",
       "    // Updates the figure title.\n",
       "    fig.header.textContent = msg['label'];\n",
       "}\n",
       "\n",
       "mpl.figure.prototype.handle_cursor = function(fig, msg) {\n",
       "    var cursor = msg['cursor'];\n",
       "    switch(cursor)\n",
       "    {\n",
       "    case 0:\n",
       "        cursor = 'pointer';\n",
       "        break;\n",
       "    case 1:\n",
       "        cursor = 'default';\n",
       "        break;\n",
       "    case 2:\n",
       "        cursor = 'crosshair';\n",
       "        break;\n",
       "    case 3:\n",
       "        cursor = 'move';\n",
       "        break;\n",
       "    }\n",
       "    fig.rubberband_canvas.style.cursor = cursor;\n",
       "}\n",
       "\n",
       "mpl.figure.prototype.handle_message = function(fig, msg) {\n",
       "    fig.message.textContent = msg['message'];\n",
       "}\n",
       "\n",
       "mpl.figure.prototype.handle_draw = function(fig, msg) {\n",
       "    // Request the server to send over a new figure.\n",
       "    fig.send_draw_message();\n",
       "}\n",
       "\n",
       "mpl.figure.prototype.handle_image_mode = function(fig, msg) {\n",
       "    fig.image_mode = msg['mode'];\n",
       "}\n",
       "\n",
       "mpl.figure.prototype.updated_canvas_event = function() {\n",
       "    // Called whenever the canvas gets updated.\n",
       "    this.send_message(\"ack\", {});\n",
       "}\n",
       "\n",
       "// A function to construct a web socket function for onmessage handling.\n",
       "// Called in the figure constructor.\n",
       "mpl.figure.prototype._make_on_message_function = function(fig) {\n",
       "    return function socket_on_message(evt) {\n",
       "        if (evt.data instanceof Blob) {\n",
       "            /* FIXME: We get \"Resource interpreted as Image but\n",
       "             * transferred with MIME type text/plain:\" errors on\n",
       "             * Chrome.  But how to set the MIME type?  It doesn't seem\n",
       "             * to be part of the websocket stream */\n",
       "            evt.data.type = \"image/png\";\n",
       "\n",
       "            /* Free the memory for the previous frames */\n",
       "            if (fig.imageObj.src) {\n",
       "                (window.URL || window.webkitURL).revokeObjectURL(\n",
       "                    fig.imageObj.src);\n",
       "            }\n",
       "\n",
       "            fig.imageObj.src = (window.URL || window.webkitURL).createObjectURL(\n",
       "                evt.data);\n",
       "            fig.updated_canvas_event();\n",
       "            fig.waiting = false;\n",
       "            return;\n",
       "        }\n",
       "        else if (typeof evt.data === 'string' && evt.data.slice(0, 21) == \"data:image/png;base64\") {\n",
       "            fig.imageObj.src = evt.data;\n",
       "            fig.updated_canvas_event();\n",
       "            fig.waiting = false;\n",
       "            return;\n",
       "        }\n",
       "\n",
       "        var msg = JSON.parse(evt.data);\n",
       "        var msg_type = msg['type'];\n",
       "\n",
       "        // Call the  \"handle_{type}\" callback, which takes\n",
       "        // the figure and JSON message as its only arguments.\n",
       "        try {\n",
       "            var callback = fig[\"handle_\" + msg_type];\n",
       "        } catch (e) {\n",
       "            console.log(\"No handler for the '\" + msg_type + \"' message type: \", msg);\n",
       "            return;\n",
       "        }\n",
       "\n",
       "        if (callback) {\n",
       "            try {\n",
       "                // console.log(\"Handling '\" + msg_type + \"' message: \", msg);\n",
       "                callback(fig, msg);\n",
       "            } catch (e) {\n",
       "                console.log(\"Exception inside the 'handler_\" + msg_type + \"' callback:\", e, e.stack, msg);\n",
       "            }\n",
       "        }\n",
       "    };\n",
       "}\n",
       "\n",
       "// from http://stackoverflow.com/questions/1114465/getting-mouse-location-in-canvas\n",
       "mpl.findpos = function(e) {\n",
       "    //this section is from http://www.quirksmode.org/js/events_properties.html\n",
       "    var targ;\n",
       "    if (!e)\n",
       "        e = window.event;\n",
       "    if (e.target)\n",
       "        targ = e.target;\n",
       "    else if (e.srcElement)\n",
       "        targ = e.srcElement;\n",
       "    if (targ.nodeType == 3) // defeat Safari bug\n",
       "        targ = targ.parentNode;\n",
       "\n",
       "    // jQuery normalizes the pageX and pageY\n",
       "    // pageX,Y are the mouse positions relative to the document\n",
       "    // offset() returns the position of the element relative to the document\n",
       "    var x = e.pageX - $(targ).offset().left;\n",
       "    var y = e.pageY - $(targ).offset().top;\n",
       "\n",
       "    return {\"x\": x, \"y\": y};\n",
       "};\n",
       "\n",
       "/*\n",
       " * return a copy of an object with only non-object keys\n",
       " * we need this to avoid circular references\n",
       " * http://stackoverflow.com/a/24161582/3208463\n",
       " */\n",
       "function simpleKeys (original) {\n",
       "  return Object.keys(original).reduce(function (obj, key) {\n",
       "    if (typeof original[key] !== 'object')\n",
       "        obj[key] = original[key]\n",
       "    return obj;\n",
       "  }, {});\n",
       "}\n",
       "\n",
       "mpl.figure.prototype.mouse_event = function(event, name) {\n",
       "    var canvas_pos = mpl.findpos(event)\n",
       "\n",
       "    if (name === 'button_press')\n",
       "    {\n",
       "        this.canvas.focus();\n",
       "        this.canvas_div.focus();\n",
       "    }\n",
       "\n",
       "    var x = canvas_pos.x * mpl.ratio;\n",
       "    var y = canvas_pos.y * mpl.ratio;\n",
       "\n",
       "    this.send_message(name, {x: x, y: y, button: event.button,\n",
       "                             step: event.step,\n",
       "                             guiEvent: simpleKeys(event)});\n",
       "\n",
       "    /* This prevents the web browser from automatically changing to\n",
       "     * the text insertion cursor when the button is pressed.  We want\n",
       "     * to control all of the cursor setting manually through the\n",
       "     * 'cursor' event from matplotlib */\n",
       "    event.preventDefault();\n",
       "    return false;\n",
       "}\n",
       "\n",
       "mpl.figure.prototype._key_event_extra = function(event, name) {\n",
       "    // Handle any extra behaviour associated with a key event\n",
       "}\n",
       "\n",
       "mpl.figure.prototype.key_event = function(event, name) {\n",
       "\n",
       "    // Prevent repeat events\n",
       "    if (name == 'key_press')\n",
       "    {\n",
       "        if (event.which === this._key)\n",
       "            return;\n",
       "        else\n",
       "            this._key = event.which;\n",
       "    }\n",
       "    if (name == 'key_release')\n",
       "        this._key = null;\n",
       "\n",
       "    var value = '';\n",
       "    if (event.ctrlKey && event.which != 17)\n",
       "        value += \"ctrl+\";\n",
       "    if (event.altKey && event.which != 18)\n",
       "        value += \"alt+\";\n",
       "    if (event.shiftKey && event.which != 16)\n",
       "        value += \"shift+\";\n",
       "\n",
       "    value += 'k';\n",
       "    value += event.which.toString();\n",
       "\n",
       "    this._key_event_extra(event, name);\n",
       "\n",
       "    this.send_message(name, {key: value,\n",
       "                             guiEvent: simpleKeys(event)});\n",
       "    return false;\n",
       "}\n",
       "\n",
       "mpl.figure.prototype.toolbar_button_onclick = function(name) {\n",
       "    if (name == 'download') {\n",
       "        this.handle_save(this, null);\n",
       "    } else {\n",
       "        this.send_message(\"toolbar_button\", {name: name});\n",
       "    }\n",
       "};\n",
       "\n",
       "mpl.figure.prototype.toolbar_button_onmouseover = function(tooltip) {\n",
       "    this.message.textContent = tooltip;\n",
       "};\n",
       "mpl.toolbar_items = [[\"Home\", \"Reset original view\", \"fa fa-home icon-home\", \"home\"], [\"Back\", \"Back to previous view\", \"fa fa-arrow-left icon-arrow-left\", \"back\"], [\"Forward\", \"Forward to next view\", \"fa fa-arrow-right icon-arrow-right\", \"forward\"], [\"\", \"\", \"\", \"\"], [\"Pan\", \"Pan axes with left mouse, zoom with right\", \"fa fa-arrows icon-move\", \"pan\"], [\"Zoom\", \"Zoom to rectangle\", \"fa fa-square-o icon-check-empty\", \"zoom\"], [\"\", \"\", \"\", \"\"], [\"Download\", \"Download plot\", \"fa fa-floppy-o icon-save\", \"download\"]];\n",
       "\n",
       "mpl.extensions = [\"eps\", \"jpeg\", \"pdf\", \"png\", \"ps\", \"raw\", \"svg\", \"tif\"];\n",
       "\n",
       "mpl.default_extension = \"png\";var comm_websocket_adapter = function(comm) {\n",
       "    // Create a \"websocket\"-like object which calls the given IPython comm\n",
       "    // object with the appropriate methods. Currently this is a non binary\n",
       "    // socket, so there is still some room for performance tuning.\n",
       "    var ws = {};\n",
       "\n",
       "    ws.close = function() {\n",
       "        comm.close()\n",
       "    };\n",
       "    ws.send = function(m) {\n",
       "        //console.log('sending', m);\n",
       "        comm.send(m);\n",
       "    };\n",
       "    // Register the callback with on_msg.\n",
       "    comm.on_msg(function(msg) {\n",
       "        //console.log('receiving', msg['content']['data'], msg);\n",
       "        // Pass the mpl event to the overridden (by mpl) onmessage function.\n",
       "        ws.onmessage(msg['content']['data'])\n",
       "    });\n",
       "    return ws;\n",
       "}\n",
       "\n",
       "mpl.mpl_figure_comm = function(comm, msg) {\n",
       "    // This is the function which gets called when the mpl process\n",
       "    // starts-up an IPython Comm through the \"matplotlib\" channel.\n",
       "\n",
       "    var id = msg.content.data.id;\n",
       "    // Get hold of the div created by the display call when the Comm\n",
       "    // socket was opened in Python.\n",
       "    var element = $(\"#\" + id);\n",
       "    var ws_proxy = comm_websocket_adapter(comm)\n",
       "\n",
       "    function ondownload(figure, format) {\n",
       "        window.open(figure.imageObj.src);\n",
       "    }\n",
       "\n",
       "    var fig = new mpl.figure(id, ws_proxy,\n",
       "                           ondownload,\n",
       "                           element.get(0));\n",
       "\n",
       "    // Call onopen now - mpl needs it, as it is assuming we've passed it a real\n",
       "    // web socket which is closed, not our websocket->open comm proxy.\n",
       "    ws_proxy.onopen();\n",
       "\n",
       "    fig.parent_element = element.get(0);\n",
       "    fig.cell_info = mpl.find_output_cell(\"<div id='\" + id + \"'></div>\");\n",
       "    if (!fig.cell_info) {\n",
       "        console.error(\"Failed to find cell for figure\", id, fig);\n",
       "        return;\n",
       "    }\n",
       "\n",
       "    var output_index = fig.cell_info[2]\n",
       "    var cell = fig.cell_info[0];\n",
       "\n",
       "};\n",
       "\n",
       "mpl.figure.prototype.handle_close = function(fig, msg) {\n",
       "    var width = fig.canvas.width/mpl.ratio\n",
       "    fig.root.unbind('remove')\n",
       "\n",
       "    // Update the output cell to use the data from the current canvas.\n",
       "    fig.push_to_output();\n",
       "    var dataURL = fig.canvas.toDataURL();\n",
       "    // Re-enable the keyboard manager in IPython - without this line, in FF,\n",
       "    // the notebook keyboard shortcuts fail.\n",
       "    IPython.keyboard_manager.enable()\n",
       "    $(fig.parent_element).html('<img src=\"' + dataURL + '\" width=\"' + width + '\">');\n",
       "    fig.close_ws(fig, msg);\n",
       "}\n",
       "\n",
       "mpl.figure.prototype.close_ws = function(fig, msg){\n",
       "    fig.send_message('closing', msg);\n",
       "    // fig.ws.close()\n",
       "}\n",
       "\n",
       "mpl.figure.prototype.push_to_output = function(remove_interactive) {\n",
       "    // Turn the data on the canvas into data in the output cell.\n",
       "    var width = this.canvas.width/mpl.ratio\n",
       "    var dataURL = this.canvas.toDataURL();\n",
       "    this.cell_info[1]['text/html'] = '<img src=\"' + dataURL + '\" width=\"' + width + '\">';\n",
       "}\n",
       "\n",
       "mpl.figure.prototype.updated_canvas_event = function() {\n",
       "    // Tell IPython that the notebook contents must change.\n",
       "    IPython.notebook.set_dirty(true);\n",
       "    this.send_message(\"ack\", {});\n",
       "    var fig = this;\n",
       "    // Wait a second, then push the new image to the DOM so\n",
       "    // that it is saved nicely (might be nice to debounce this).\n",
       "    setTimeout(function () { fig.push_to_output() }, 1000);\n",
       "}\n",
       "\n",
       "mpl.figure.prototype._init_toolbar = function() {\n",
       "    var fig = this;\n",
       "\n",
       "    var nav_element = $('<div/>')\n",
       "    nav_element.attr('style', 'width: 100%');\n",
       "    this.root.append(nav_element);\n",
       "\n",
       "    // Define a callback function for later on.\n",
       "    function toolbar_event(event) {\n",
       "        return fig.toolbar_button_onclick(event['data']);\n",
       "    }\n",
       "    function toolbar_mouse_event(event) {\n",
       "        return fig.toolbar_button_onmouseover(event['data']);\n",
       "    }\n",
       "\n",
       "    for(var toolbar_ind in mpl.toolbar_items){\n",
       "        var name = mpl.toolbar_items[toolbar_ind][0];\n",
       "        var tooltip = mpl.toolbar_items[toolbar_ind][1];\n",
       "        var image = mpl.toolbar_items[toolbar_ind][2];\n",
       "        var method_name = mpl.toolbar_items[toolbar_ind][3];\n",
       "\n",
       "        if (!name) { continue; };\n",
       "\n",
       "        var button = $('<button class=\"btn btn-default\" href=\"#\" title=\"' + name + '\"><i class=\"fa ' + image + ' fa-lg\"></i></button>');\n",
       "        button.click(method_name, toolbar_event);\n",
       "        button.mouseover(tooltip, toolbar_mouse_event);\n",
       "        nav_element.append(button);\n",
       "    }\n",
       "\n",
       "    // Add the status bar.\n",
       "    var status_bar = $('<span class=\"mpl-message\" style=\"text-align:right; float: right;\"/>');\n",
       "    nav_element.append(status_bar);\n",
       "    this.message = status_bar[0];\n",
       "\n",
       "    // Add the close button to the window.\n",
       "    var buttongrp = $('<div class=\"btn-group inline pull-right\"></div>');\n",
       "    var button = $('<button class=\"btn btn-mini btn-primary\" href=\"#\" title=\"Stop Interaction\"><i class=\"fa fa-power-off icon-remove icon-large\"></i></button>');\n",
       "    button.click(function (evt) { fig.handle_close(fig, {}); } );\n",
       "    button.mouseover('Stop Interaction', toolbar_mouse_event);\n",
       "    buttongrp.append(button);\n",
       "    var titlebar = this.root.find($('.ui-dialog-titlebar'));\n",
       "    titlebar.prepend(buttongrp);\n",
       "}\n",
       "\n",
       "mpl.figure.prototype._root_extra_style = function(el){\n",
       "    var fig = this\n",
       "    el.on(\"remove\", function(){\n",
       "\tfig.close_ws(fig, {});\n",
       "    });\n",
       "}\n",
       "\n",
       "mpl.figure.prototype._canvas_extra_style = function(el){\n",
       "    // this is important to make the div 'focusable\n",
       "    el.attr('tabindex', 0)\n",
       "    // reach out to IPython and tell the keyboard manager to turn it's self\n",
       "    // off when our div gets focus\n",
       "\n",
       "    // location in version 3\n",
       "    if (IPython.notebook.keyboard_manager) {\n",
       "        IPython.notebook.keyboard_manager.register_events(el);\n",
       "    }\n",
       "    else {\n",
       "        // location in version 2\n",
       "        IPython.keyboard_manager.register_events(el);\n",
       "    }\n",
       "\n",
       "}\n",
       "\n",
       "mpl.figure.prototype._key_event_extra = function(event, name) {\n",
       "    var manager = IPython.notebook.keyboard_manager;\n",
       "    if (!manager)\n",
       "        manager = IPython.keyboard_manager;\n",
       "\n",
       "    // Check for shift+enter\n",
       "    if (event.shiftKey && event.which == 13) {\n",
       "        this.canvas_div.blur();\n",
       "        event.shiftKey = false;\n",
       "        // Send a \"J\" for go to next cell\n",
       "        event.which = 74;\n",
       "        event.keyCode = 74;\n",
       "        manager.command_mode();\n",
       "        manager.handle_keydown(event);\n",
       "    }\n",
       "}\n",
       "\n",
       "mpl.figure.prototype.handle_save = function(fig, msg) {\n",
       "    fig.ondownload(fig, null);\n",
       "}\n",
       "\n",
       "\n",
       "mpl.find_output_cell = function(html_output) {\n",
       "    // Return the cell and output element which can be found *uniquely* in the notebook.\n",
       "    // Note - this is a bit hacky, but it is done because the \"notebook_saving.Notebook\"\n",
       "    // IPython event is triggered only after the cells have been serialised, which for\n",
       "    // our purposes (turning an active figure into a static one), is too late.\n",
       "    var cells = IPython.notebook.get_cells();\n",
       "    var ncells = cells.length;\n",
       "    for (var i=0; i<ncells; i++) {\n",
       "        var cell = cells[i];\n",
       "        if (cell.cell_type === 'code'){\n",
       "            for (var j=0; j<cell.output_area.outputs.length; j++) {\n",
       "                var data = cell.output_area.outputs[j];\n",
       "                if (data.data) {\n",
       "                    // IPython >= 3 moved mimebundle to data attribute of output\n",
       "                    data = data.data;\n",
       "                }\n",
       "                if (data['text/html'] == html_output) {\n",
       "                    return [cell, data, j];\n",
       "                }\n",
       "            }\n",
       "        }\n",
       "    }\n",
       "}\n",
       "\n",
       "// Register the function which deals with the matplotlib target/channel.\n",
       "// The kernel may be null if the page has been refreshed.\n",
       "if (IPython.notebook.kernel != null) {\n",
       "    IPython.notebook.kernel.comm_manager.register_target('matplotlib', mpl.mpl_figure_comm);\n",
       "}\n"
      ],
      "text/plain": [
       "<IPython.core.display.Javascript object>"
      ]
     },
     "metadata": {},
     "output_type": "display_data"
    },
    {
     "data": {
      "text/html": [
       "<img src=\"data:image/png;base64,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\" width=\"640\">"
      ],
      "text/plain": [
       "<IPython.core.display.HTML object>"
      ]
     },
     "metadata": {},
     "output_type": "display_data"
    },
    {
     "data": {
      "text/plain": [
       "Text(0.5, 1.0, 'Plotting Example')"
      ]
     },
     "execution_count": 39,
     "metadata": {},
     "output_type": "execute_result"
    }
   ],
   "source": [
    "plt.plot(5, 5, 'o')\n",
    "plt.ylabel('y')\n",
    "plt.xlabel('x')\n",
    "plt.title('Plotting Example')"
   ]
  },
  {
   "cell_type": "code",
   "execution_count": 40,
   "metadata": {},
   "outputs": [
    {
     "name": "stdout",
     "output_type": "stream",
     "text": [
      "      India  China\n",
      "1980   8880   5123\n",
      "1981   8670   6682\n",
      "1982   8147   3308\n",
      "1983   7338   1863\n",
      "1984   5704   1527\n"
     ]
    },
    {
     "data": {
      "application/javascript": [
       "/* Put everything inside the global mpl namespace */\n",
       "window.mpl = {};\n",
       "\n",
       "\n",
       "mpl.get_websocket_type = function() {\n",
       "    if (typeof(WebSocket) !== 'undefined') {\n",
       "        return WebSocket;\n",
       "    } else if (typeof(MozWebSocket) !== 'undefined') {\n",
       "        return MozWebSocket;\n",
       "    } else {\n",
       "        alert('Your browser does not have WebSocket support.' +\n",
       "              'Please try Chrome, Safari or Firefox ≥ 6. ' +\n",
       "              'Firefox 4 and 5 are also supported but you ' +\n",
       "              'have to enable WebSockets in about:config.');\n",
       "    };\n",
       "}\n",
       "\n",
       "mpl.figure = function(figure_id, websocket, ondownload, parent_element) {\n",
       "    this.id = figure_id;\n",
       "\n",
       "    this.ws = websocket;\n",
       "\n",
       "    this.supports_binary = (this.ws.binaryType != undefined);\n",
       "\n",
       "    if (!this.supports_binary) {\n",
       "        var warnings = document.getElementById(\"mpl-warnings\");\n",
       "        if (warnings) {\n",
       "            warnings.style.display = 'block';\n",
       "            warnings.textContent = (\n",
       "                \"This browser does not support binary websocket messages. \" +\n",
       "                    \"Performance may be slow.\");\n",
       "        }\n",
       "    }\n",
       "\n",
       "    this.imageObj = new Image();\n",
       "\n",
       "    this.context = undefined;\n",
       "    this.message = undefined;\n",
       "    this.canvas = undefined;\n",
       "    this.rubberband_canvas = undefined;\n",
       "    this.rubberband_context = undefined;\n",
       "    this.format_dropdown = undefined;\n",
       "\n",
       "    this.image_mode = 'full';\n",
       "\n",
       "    this.root = $('<div/>');\n",
       "    this._root_extra_style(this.root)\n",
       "    this.root.attr('style', 'display: inline-block');\n",
       "\n",
       "    $(parent_element).append(this.root);\n",
       "\n",
       "    this._init_header(this);\n",
       "    this._init_canvas(this);\n",
       "    this._init_toolbar(this);\n",
       "\n",
       "    var fig = this;\n",
       "\n",
       "    this.waiting = false;\n",
       "\n",
       "    this.ws.onopen =  function () {\n",
       "            fig.send_message(\"supports_binary\", {value: fig.supports_binary});\n",
       "            fig.send_message(\"send_image_mode\", {});\n",
       "            if (mpl.ratio != 1) {\n",
       "                fig.send_message(\"set_dpi_ratio\", {'dpi_ratio': mpl.ratio});\n",
       "            }\n",
       "            fig.send_message(\"refresh\", {});\n",
       "        }\n",
       "\n",
       "    this.imageObj.onload = function() {\n",
       "            if (fig.image_mode == 'full') {\n",
       "                // Full images could contain transparency (where diff images\n",
       "                // almost always do), so we need to clear the canvas so that\n",
       "                // there is no ghosting.\n",
       "                fig.context.clearRect(0, 0, fig.canvas.width, fig.canvas.height);\n",
       "            }\n",
       "            fig.context.drawImage(fig.imageObj, 0, 0);\n",
       "        };\n",
       "\n",
       "    this.imageObj.onunload = function() {\n",
       "        fig.ws.close();\n",
       "    }\n",
       "\n",
       "    this.ws.onmessage = this._make_on_message_function(this);\n",
       "\n",
       "    this.ondownload = ondownload;\n",
       "}\n",
       "\n",
       "mpl.figure.prototype._init_header = function() {\n",
       "    var titlebar = $(\n",
       "        '<div class=\"ui-dialog-titlebar ui-widget-header ui-corner-all ' +\n",
       "        'ui-helper-clearfix\"/>');\n",
       "    var titletext = $(\n",
       "        '<div class=\"ui-dialog-title\" style=\"width: 100%; ' +\n",
       "        'text-align: center; padding: 3px;\"/>');\n",
       "    titlebar.append(titletext)\n",
       "    this.root.append(titlebar);\n",
       "    this.header = titletext[0];\n",
       "}\n",
       "\n",
       "\n",
       "\n",
       "mpl.figure.prototype._canvas_extra_style = function(canvas_div) {\n",
       "\n",
       "}\n",
       "\n",
       "\n",
       "mpl.figure.prototype._root_extra_style = function(canvas_div) {\n",
       "\n",
       "}\n",
       "\n",
       "mpl.figure.prototype._init_canvas = function() {\n",
       "    var fig = this;\n",
       "\n",
       "    var canvas_div = $('<div/>');\n",
       "\n",
       "    canvas_div.attr('style', 'position: relative; clear: both; outline: 0');\n",
       "\n",
       "    function canvas_keyboard_event(event) {\n",
       "        return fig.key_event(event, event['data']);\n",
       "    }\n",
       "\n",
       "    canvas_div.keydown('key_press', canvas_keyboard_event);\n",
       "    canvas_div.keyup('key_release', canvas_keyboard_event);\n",
       "    this.canvas_div = canvas_div\n",
       "    this._canvas_extra_style(canvas_div)\n",
       "    this.root.append(canvas_div);\n",
       "\n",
       "    var canvas = $('<canvas/>');\n",
       "    canvas.addClass('mpl-canvas');\n",
       "    canvas.attr('style', \"left: 0; top: 0; z-index: 0; outline: 0\")\n",
       "\n",
       "    this.canvas = canvas[0];\n",
       "    this.context = canvas[0].getContext(\"2d\");\n",
       "\n",
       "    var backingStore = this.context.backingStorePixelRatio ||\n",
       "\tthis.context.webkitBackingStorePixelRatio ||\n",
       "\tthis.context.mozBackingStorePixelRatio ||\n",
       "\tthis.context.msBackingStorePixelRatio ||\n",
       "\tthis.context.oBackingStorePixelRatio ||\n",
       "\tthis.context.backingStorePixelRatio || 1;\n",
       "\n",
       "    mpl.ratio = (window.devicePixelRatio || 1) / backingStore;\n",
       "\n",
       "    var rubberband = $('<canvas/>');\n",
       "    rubberband.attr('style', \"position: absolute; left: 0; top: 0; z-index: 1;\")\n",
       "\n",
       "    var pass_mouse_events = true;\n",
       "\n",
       "    canvas_div.resizable({\n",
       "        start: function(event, ui) {\n",
       "            pass_mouse_events = false;\n",
       "        },\n",
       "        resize: function(event, ui) {\n",
       "            fig.request_resize(ui.size.width, ui.size.height);\n",
       "        },\n",
       "        stop: function(event, ui) {\n",
       "            pass_mouse_events = true;\n",
       "            fig.request_resize(ui.size.width, ui.size.height);\n",
       "        },\n",
       "    });\n",
       "\n",
       "    function mouse_event_fn(event) {\n",
       "        if (pass_mouse_events)\n",
       "            return fig.mouse_event(event, event['data']);\n",
       "    }\n",
       "\n",
       "    rubberband.mousedown('button_press', mouse_event_fn);\n",
       "    rubberband.mouseup('button_release', mouse_event_fn);\n",
       "    // Throttle sequential mouse events to 1 every 20ms.\n",
       "    rubberband.mousemove('motion_notify', mouse_event_fn);\n",
       "\n",
       "    rubberband.mouseenter('figure_enter', mouse_event_fn);\n",
       "    rubberband.mouseleave('figure_leave', mouse_event_fn);\n",
       "\n",
       "    canvas_div.on(\"wheel\", function (event) {\n",
       "        event = event.originalEvent;\n",
       "        event['data'] = 'scroll'\n",
       "        if (event.deltaY < 0) {\n",
       "            event.step = 1;\n",
       "        } else {\n",
       "            event.step = -1;\n",
       "        }\n",
       "        mouse_event_fn(event);\n",
       "    });\n",
       "\n",
       "    canvas_div.append(canvas);\n",
       "    canvas_div.append(rubberband);\n",
       "\n",
       "    this.rubberband = rubberband;\n",
       "    this.rubberband_canvas = rubberband[0];\n",
       "    this.rubberband_context = rubberband[0].getContext(\"2d\");\n",
       "    this.rubberband_context.strokeStyle = \"#000000\";\n",
       "\n",
       "    this._resize_canvas = function(width, height) {\n",
       "        // Keep the size of the canvas, canvas container, and rubber band\n",
       "        // canvas in synch.\n",
       "        canvas_div.css('width', width)\n",
       "        canvas_div.css('height', height)\n",
       "\n",
       "        canvas.attr('width', width * mpl.ratio);\n",
       "        canvas.attr('height', height * mpl.ratio);\n",
       "        canvas.attr('style', 'width: ' + width + 'px; height: ' + height + 'px;');\n",
       "\n",
       "        rubberband.attr('width', width);\n",
       "        rubberband.attr('height', height);\n",
       "    }\n",
       "\n",
       "    // Set the figure to an initial 600x600px, this will subsequently be updated\n",
       "    // upon first draw.\n",
       "    this._resize_canvas(600, 600);\n",
       "\n",
       "    // Disable right mouse context menu.\n",
       "    $(this.rubberband_canvas).bind(\"contextmenu\",function(e){\n",
       "        return false;\n",
       "    });\n",
       "\n",
       "    function set_focus () {\n",
       "        canvas.focus();\n",
       "        canvas_div.focus();\n",
       "    }\n",
       "\n",
       "    window.setTimeout(set_focus, 100);\n",
       "}\n",
       "\n",
       "mpl.figure.prototype._init_toolbar = function() {\n",
       "    var fig = this;\n",
       "\n",
       "    var nav_element = $('<div/>')\n",
       "    nav_element.attr('style', 'width: 100%');\n",
       "    this.root.append(nav_element);\n",
       "\n",
       "    // Define a callback function for later on.\n",
       "    function toolbar_event(event) {\n",
       "        return fig.toolbar_button_onclick(event['data']);\n",
       "    }\n",
       "    function toolbar_mouse_event(event) {\n",
       "        return fig.toolbar_button_onmouseover(event['data']);\n",
       "    }\n",
       "\n",
       "    for(var toolbar_ind in mpl.toolbar_items) {\n",
       "        var name = mpl.toolbar_items[toolbar_ind][0];\n",
       "        var tooltip = mpl.toolbar_items[toolbar_ind][1];\n",
       "        var image = mpl.toolbar_items[toolbar_ind][2];\n",
       "        var method_name = mpl.toolbar_items[toolbar_ind][3];\n",
       "\n",
       "        if (!name) {\n",
       "            // put a spacer in here.\n",
       "            continue;\n",
       "        }\n",
       "        var button = $('<button/>');\n",
       "        button.addClass('ui-button ui-widget ui-state-default ui-corner-all ' +\n",
       "                        'ui-button-icon-only');\n",
       "        button.attr('role', 'button');\n",
       "        button.attr('aria-disabled', 'false');\n",
       "        button.click(method_name, toolbar_event);\n",
       "        button.mouseover(tooltip, toolbar_mouse_event);\n",
       "\n",
       "        var icon_img = $('<span/>');\n",
       "        icon_img.addClass('ui-button-icon-primary ui-icon');\n",
       "        icon_img.addClass(image);\n",
       "        icon_img.addClass('ui-corner-all');\n",
       "\n",
       "        var tooltip_span = $('<span/>');\n",
       "        tooltip_span.addClass('ui-button-text');\n",
       "        tooltip_span.html(tooltip);\n",
       "\n",
       "        button.append(icon_img);\n",
       "        button.append(tooltip_span);\n",
       "\n",
       "        nav_element.append(button);\n",
       "    }\n",
       "\n",
       "    var fmt_picker_span = $('<span/>');\n",
       "\n",
       "    var fmt_picker = $('<select/>');\n",
       "    fmt_picker.addClass('mpl-toolbar-option ui-widget ui-widget-content');\n",
       "    fmt_picker_span.append(fmt_picker);\n",
       "    nav_element.append(fmt_picker_span);\n",
       "    this.format_dropdown = fmt_picker[0];\n",
       "\n",
       "    for (var ind in mpl.extensions) {\n",
       "        var fmt = mpl.extensions[ind];\n",
       "        var option = $(\n",
       "            '<option/>', {selected: fmt === mpl.default_extension}).html(fmt);\n",
       "        fmt_picker.append(option)\n",
       "    }\n",
       "\n",
       "    // Add hover states to the ui-buttons\n",
       "    $( \".ui-button\" ).hover(\n",
       "        function() { $(this).addClass(\"ui-state-hover\");},\n",
       "        function() { $(this).removeClass(\"ui-state-hover\");}\n",
       "    );\n",
       "\n",
       "    var status_bar = $('<span class=\"mpl-message\"/>');\n",
       "    nav_element.append(status_bar);\n",
       "    this.message = status_bar[0];\n",
       "}\n",
       "\n",
       "mpl.figure.prototype.request_resize = function(x_pixels, y_pixels) {\n",
       "    // Request matplotlib to resize the figure. Matplotlib will then trigger a resize in the client,\n",
       "    // which will in turn request a refresh of the image.\n",
       "    this.send_message('resize', {'width': x_pixels, 'height': y_pixels});\n",
       "}\n",
       "\n",
       "mpl.figure.prototype.send_message = function(type, properties) {\n",
       "    properties['type'] = type;\n",
       "    properties['figure_id'] = this.id;\n",
       "    this.ws.send(JSON.stringify(properties));\n",
       "}\n",
       "\n",
       "mpl.figure.prototype.send_draw_message = function() {\n",
       "    if (!this.waiting) {\n",
       "        this.waiting = true;\n",
       "        this.ws.send(JSON.stringify({type: \"draw\", figure_id: this.id}));\n",
       "    }\n",
       "}\n",
       "\n",
       "\n",
       "mpl.figure.prototype.handle_save = function(fig, msg) {\n",
       "    var format_dropdown = fig.format_dropdown;\n",
       "    var format = format_dropdown.options[format_dropdown.selectedIndex].value;\n",
       "    fig.ondownload(fig, format);\n",
       "}\n",
       "\n",
       "\n",
       "mpl.figure.prototype.handle_resize = function(fig, msg) {\n",
       "    var size = msg['size'];\n",
       "    if (size[0] != fig.canvas.width || size[1] != fig.canvas.height) {\n",
       "        fig._resize_canvas(size[0], size[1]);\n",
       "        fig.send_message(\"refresh\", {});\n",
       "    };\n",
       "}\n",
       "\n",
       "mpl.figure.prototype.handle_rubberband = function(fig, msg) {\n",
       "    var x0 = msg['x0'] / mpl.ratio;\n",
       "    var y0 = (fig.canvas.height - msg['y0']) / mpl.ratio;\n",
       "    var x1 = msg['x1'] / mpl.ratio;\n",
       "    var y1 = (fig.canvas.height - msg['y1']) / mpl.ratio;\n",
       "    x0 = Math.floor(x0) + 0.5;\n",
       "    y0 = Math.floor(y0) + 0.5;\n",
       "    x1 = Math.floor(x1) + 0.5;\n",
       "    y1 = Math.floor(y1) + 0.5;\n",
       "    var min_x = Math.min(x0, x1);\n",
       "    var min_y = Math.min(y0, y1);\n",
       "    var width = Math.abs(x1 - x0);\n",
       "    var height = Math.abs(y1 - y0);\n",
       "\n",
       "    fig.rubberband_context.clearRect(\n",
       "        0, 0, fig.canvas.width, fig.canvas.height);\n",
       "\n",
       "    fig.rubberband_context.strokeRect(min_x, min_y, width, height);\n",
       "}\n",
       "\n",
       "mpl.figure.prototype.handle_figure_label = function(fig, msg) {\n",
       "    // Updates the figure title.\n",
       "    fig.header.textContent = msg['label'];\n",
       "}\n",
       "\n",
       "mpl.figure.prototype.handle_cursor = function(fig, msg) {\n",
       "    var cursor = msg['cursor'];\n",
       "    switch(cursor)\n",
       "    {\n",
       "    case 0:\n",
       "        cursor = 'pointer';\n",
       "        break;\n",
       "    case 1:\n",
       "        cursor = 'default';\n",
       "        break;\n",
       "    case 2:\n",
       "        cursor = 'crosshair';\n",
       "        break;\n",
       "    case 3:\n",
       "        cursor = 'move';\n",
       "        break;\n",
       "    }\n",
       "    fig.rubberband_canvas.style.cursor = cursor;\n",
       "}\n",
       "\n",
       "mpl.figure.prototype.handle_message = function(fig, msg) {\n",
       "    fig.message.textContent = msg['message'];\n",
       "}\n",
       "\n",
       "mpl.figure.prototype.handle_draw = function(fig, msg) {\n",
       "    // Request the server to send over a new figure.\n",
       "    fig.send_draw_message();\n",
       "}\n",
       "\n",
       "mpl.figure.prototype.handle_image_mode = function(fig, msg) {\n",
       "    fig.image_mode = msg['mode'];\n",
       "}\n",
       "\n",
       "mpl.figure.prototype.updated_canvas_event = function() {\n",
       "    // Called whenever the canvas gets updated.\n",
       "    this.send_message(\"ack\", {});\n",
       "}\n",
       "\n",
       "// A function to construct a web socket function for onmessage handling.\n",
       "// Called in the figure constructor.\n",
       "mpl.figure.prototype._make_on_message_function = function(fig) {\n",
       "    return function socket_on_message(evt) {\n",
       "        if (evt.data instanceof Blob) {\n",
       "            /* FIXME: We get \"Resource interpreted as Image but\n",
       "             * transferred with MIME type text/plain:\" errors on\n",
       "             * Chrome.  But how to set the MIME type?  It doesn't seem\n",
       "             * to be part of the websocket stream */\n",
       "            evt.data.type = \"image/png\";\n",
       "\n",
       "            /* Free the memory for the previous frames */\n",
       "            if (fig.imageObj.src) {\n",
       "                (window.URL || window.webkitURL).revokeObjectURL(\n",
       "                    fig.imageObj.src);\n",
       "            }\n",
       "\n",
       "            fig.imageObj.src = (window.URL || window.webkitURL).createObjectURL(\n",
       "                evt.data);\n",
       "            fig.updated_canvas_event();\n",
       "            fig.waiting = false;\n",
       "            return;\n",
       "        }\n",
       "        else if (typeof evt.data === 'string' && evt.data.slice(0, 21) == \"data:image/png;base64\") {\n",
       "            fig.imageObj.src = evt.data;\n",
       "            fig.updated_canvas_event();\n",
       "            fig.waiting = false;\n",
       "            return;\n",
       "        }\n",
       "\n",
       "        var msg = JSON.parse(evt.data);\n",
       "        var msg_type = msg['type'];\n",
       "\n",
       "        // Call the  \"handle_{type}\" callback, which takes\n",
       "        // the figure and JSON message as its only arguments.\n",
       "        try {\n",
       "            var callback = fig[\"handle_\" + msg_type];\n",
       "        } catch (e) {\n",
       "            console.log(\"No handler for the '\" + msg_type + \"' message type: \", msg);\n",
       "            return;\n",
       "        }\n",
       "\n",
       "        if (callback) {\n",
       "            try {\n",
       "                // console.log(\"Handling '\" + msg_type + \"' message: \", msg);\n",
       "                callback(fig, msg);\n",
       "            } catch (e) {\n",
       "                console.log(\"Exception inside the 'handler_\" + msg_type + \"' callback:\", e, e.stack, msg);\n",
       "            }\n",
       "        }\n",
       "    };\n",
       "}\n",
       "\n",
       "// from http://stackoverflow.com/questions/1114465/getting-mouse-location-in-canvas\n",
       "mpl.findpos = function(e) {\n",
       "    //this section is from http://www.quirksmode.org/js/events_properties.html\n",
       "    var targ;\n",
       "    if (!e)\n",
       "        e = window.event;\n",
       "    if (e.target)\n",
       "        targ = e.target;\n",
       "    else if (e.srcElement)\n",
       "        targ = e.srcElement;\n",
       "    if (targ.nodeType == 3) // defeat Safari bug\n",
       "        targ = targ.parentNode;\n",
       "\n",
       "    // jQuery normalizes the pageX and pageY\n",
       "    // pageX,Y are the mouse positions relative to the document\n",
       "    // offset() returns the position of the element relative to the document\n",
       "    var x = e.pageX - $(targ).offset().left;\n",
       "    var y = e.pageY - $(targ).offset().top;\n",
       "\n",
       "    return {\"x\": x, \"y\": y};\n",
       "};\n",
       "\n",
       "/*\n",
       " * return a copy of an object with only non-object keys\n",
       " * we need this to avoid circular references\n",
       " * http://stackoverflow.com/a/24161582/3208463\n",
       " */\n",
       "function simpleKeys (original) {\n",
       "  return Object.keys(original).reduce(function (obj, key) {\n",
       "    if (typeof original[key] !== 'object')\n",
       "        obj[key] = original[key]\n",
       "    return obj;\n",
       "  }, {});\n",
       "}\n",
       "\n",
       "mpl.figure.prototype.mouse_event = function(event, name) {\n",
       "    var canvas_pos = mpl.findpos(event)\n",
       "\n",
       "    if (name === 'button_press')\n",
       "    {\n",
       "        this.canvas.focus();\n",
       "        this.canvas_div.focus();\n",
       "    }\n",
       "\n",
       "    var x = canvas_pos.x * mpl.ratio;\n",
       "    var y = canvas_pos.y * mpl.ratio;\n",
       "\n",
       "    this.send_message(name, {x: x, y: y, button: event.button,\n",
       "                             step: event.step,\n",
       "                             guiEvent: simpleKeys(event)});\n",
       "\n",
       "    /* This prevents the web browser from automatically changing to\n",
       "     * the text insertion cursor when the button is pressed.  We want\n",
       "     * to control all of the cursor setting manually through the\n",
       "     * 'cursor' event from matplotlib */\n",
       "    event.preventDefault();\n",
       "    return false;\n",
       "}\n",
       "\n",
       "mpl.figure.prototype._key_event_extra = function(event, name) {\n",
       "    // Handle any extra behaviour associated with a key event\n",
       "}\n",
       "\n",
       "mpl.figure.prototype.key_event = function(event, name) {\n",
       "\n",
       "    // Prevent repeat events\n",
       "    if (name == 'key_press')\n",
       "    {\n",
       "        if (event.which === this._key)\n",
       "            return;\n",
       "        else\n",
       "            this._key = event.which;\n",
       "    }\n",
       "    if (name == 'key_release')\n",
       "        this._key = null;\n",
       "\n",
       "    var value = '';\n",
       "    if (event.ctrlKey && event.which != 17)\n",
       "        value += \"ctrl+\";\n",
       "    if (event.altKey && event.which != 18)\n",
       "        value += \"alt+\";\n",
       "    if (event.shiftKey && event.which != 16)\n",
       "        value += \"shift+\";\n",
       "\n",
       "    value += 'k';\n",
       "    value += event.which.toString();\n",
       "\n",
       "    this._key_event_extra(event, name);\n",
       "\n",
       "    this.send_message(name, {key: value,\n",
       "                             guiEvent: simpleKeys(event)});\n",
       "    return false;\n",
       "}\n",
       "\n",
       "mpl.figure.prototype.toolbar_button_onclick = function(name) {\n",
       "    if (name == 'download') {\n",
       "        this.handle_save(this, null);\n",
       "    } else {\n",
       "        this.send_message(\"toolbar_button\", {name: name});\n",
       "    }\n",
       "};\n",
       "\n",
       "mpl.figure.prototype.toolbar_button_onmouseover = function(tooltip) {\n",
       "    this.message.textContent = tooltip;\n",
       "};\n",
       "mpl.toolbar_items = [[\"Home\", \"Reset original view\", \"fa fa-home icon-home\", \"home\"], [\"Back\", \"Back to previous view\", \"fa fa-arrow-left icon-arrow-left\", \"back\"], [\"Forward\", \"Forward to next view\", \"fa fa-arrow-right icon-arrow-right\", \"forward\"], [\"\", \"\", \"\", \"\"], [\"Pan\", \"Pan axes with left mouse, zoom with right\", \"fa fa-arrows icon-move\", \"pan\"], [\"Zoom\", \"Zoom to rectangle\", \"fa fa-square-o icon-check-empty\", \"zoom\"], [\"\", \"\", \"\", \"\"], [\"Download\", \"Download plot\", \"fa fa-floppy-o icon-save\", \"download\"]];\n",
       "\n",
       "mpl.extensions = [\"eps\", \"jpeg\", \"pdf\", \"png\", \"ps\", \"raw\", \"svg\", \"tif\"];\n",
       "\n",
       "mpl.default_extension = \"png\";var comm_websocket_adapter = function(comm) {\n",
       "    // Create a \"websocket\"-like object which calls the given IPython comm\n",
       "    // object with the appropriate methods. Currently this is a non binary\n",
       "    // socket, so there is still some room for performance tuning.\n",
       "    var ws = {};\n",
       "\n",
       "    ws.close = function() {\n",
       "        comm.close()\n",
       "    };\n",
       "    ws.send = function(m) {\n",
       "        //console.log('sending', m);\n",
       "        comm.send(m);\n",
       "    };\n",
       "    // Register the callback with on_msg.\n",
       "    comm.on_msg(function(msg) {\n",
       "        //console.log('receiving', msg['content']['data'], msg);\n",
       "        // Pass the mpl event to the overridden (by mpl) onmessage function.\n",
       "        ws.onmessage(msg['content']['data'])\n",
       "    });\n",
       "    return ws;\n",
       "}\n",
       "\n",
       "mpl.mpl_figure_comm = function(comm, msg) {\n",
       "    // This is the function which gets called when the mpl process\n",
       "    // starts-up an IPython Comm through the \"matplotlib\" channel.\n",
       "\n",
       "    var id = msg.content.data.id;\n",
       "    // Get hold of the div created by the display call when the Comm\n",
       "    // socket was opened in Python.\n",
       "    var element = $(\"#\" + id);\n",
       "    var ws_proxy = comm_websocket_adapter(comm)\n",
       "\n",
       "    function ondownload(figure, format) {\n",
       "        window.open(figure.imageObj.src);\n",
       "    }\n",
       "\n",
       "    var fig = new mpl.figure(id, ws_proxy,\n",
       "                           ondownload,\n",
       "                           element.get(0));\n",
       "\n",
       "    // Call onopen now - mpl needs it, as it is assuming we've passed it a real\n",
       "    // web socket which is closed, not our websocket->open comm proxy.\n",
       "    ws_proxy.onopen();\n",
       "\n",
       "    fig.parent_element = element.get(0);\n",
       "    fig.cell_info = mpl.find_output_cell(\"<div id='\" + id + \"'></div>\");\n",
       "    if (!fig.cell_info) {\n",
       "        console.error(\"Failed to find cell for figure\", id, fig);\n",
       "        return;\n",
       "    }\n",
       "\n",
       "    var output_index = fig.cell_info[2]\n",
       "    var cell = fig.cell_info[0];\n",
       "\n",
       "};\n",
       "\n",
       "mpl.figure.prototype.handle_close = function(fig, msg) {\n",
       "    var width = fig.canvas.width/mpl.ratio\n",
       "    fig.root.unbind('remove')\n",
       "\n",
       "    // Update the output cell to use the data from the current canvas.\n",
       "    fig.push_to_output();\n",
       "    var dataURL = fig.canvas.toDataURL();\n",
       "    // Re-enable the keyboard manager in IPython - without this line, in FF,\n",
       "    // the notebook keyboard shortcuts fail.\n",
       "    IPython.keyboard_manager.enable()\n",
       "    $(fig.parent_element).html('<img src=\"' + dataURL + '\" width=\"' + width + '\">');\n",
       "    fig.close_ws(fig, msg);\n",
       "}\n",
       "\n",
       "mpl.figure.prototype.close_ws = function(fig, msg){\n",
       "    fig.send_message('closing', msg);\n",
       "    // fig.ws.close()\n",
       "}\n",
       "\n",
       "mpl.figure.prototype.push_to_output = function(remove_interactive) {\n",
       "    // Turn the data on the canvas into data in the output cell.\n",
       "    var width = this.canvas.width/mpl.ratio\n",
       "    var dataURL = this.canvas.toDataURL();\n",
       "    this.cell_info[1]['text/html'] = '<img src=\"' + dataURL + '\" width=\"' + width + '\">';\n",
       "}\n",
       "\n",
       "mpl.figure.prototype.updated_canvas_event = function() {\n",
       "    // Tell IPython that the notebook contents must change.\n",
       "    IPython.notebook.set_dirty(true);\n",
       "    this.send_message(\"ack\", {});\n",
       "    var fig = this;\n",
       "    // Wait a second, then push the new image to the DOM so\n",
       "    // that it is saved nicely (might be nice to debounce this).\n",
       "    setTimeout(function () { fig.push_to_output() }, 1000);\n",
       "}\n",
       "\n",
       "mpl.figure.prototype._init_toolbar = function() {\n",
       "    var fig = this;\n",
       "\n",
       "    var nav_element = $('<div/>')\n",
       "    nav_element.attr('style', 'width: 100%');\n",
       "    this.root.append(nav_element);\n",
       "\n",
       "    // Define a callback function for later on.\n",
       "    function toolbar_event(event) {\n",
       "        return fig.toolbar_button_onclick(event['data']);\n",
       "    }\n",
       "    function toolbar_mouse_event(event) {\n",
       "        return fig.toolbar_button_onmouseover(event['data']);\n",
       "    }\n",
       "\n",
       "    for(var toolbar_ind in mpl.toolbar_items){\n",
       "        var name = mpl.toolbar_items[toolbar_ind][0];\n",
       "        var tooltip = mpl.toolbar_items[toolbar_ind][1];\n",
       "        var image = mpl.toolbar_items[toolbar_ind][2];\n",
       "        var method_name = mpl.toolbar_items[toolbar_ind][3];\n",
       "\n",
       "        if (!name) { continue; };\n",
       "\n",
       "        var button = $('<button class=\"btn btn-default\" href=\"#\" title=\"' + name + '\"><i class=\"fa ' + image + ' fa-lg\"></i></button>');\n",
       "        button.click(method_name, toolbar_event);\n",
       "        button.mouseover(tooltip, toolbar_mouse_event);\n",
       "        nav_element.append(button);\n",
       "    }\n",
       "\n",
       "    // Add the status bar.\n",
       "    var status_bar = $('<span class=\"mpl-message\" style=\"text-align:right; float: right;\"/>');\n",
       "    nav_element.append(status_bar);\n",
       "    this.message = status_bar[0];\n",
       "\n",
       "    // Add the close button to the window.\n",
       "    var buttongrp = $('<div class=\"btn-group inline pull-right\"></div>');\n",
       "    var button = $('<button class=\"btn btn-mini btn-primary\" href=\"#\" title=\"Stop Interaction\"><i class=\"fa fa-power-off icon-remove icon-large\"></i></button>');\n",
       "    button.click(function (evt) { fig.handle_close(fig, {}); } );\n",
       "    button.mouseover('Stop Interaction', toolbar_mouse_event);\n",
       "    buttongrp.append(button);\n",
       "    var titlebar = this.root.find($('.ui-dialog-titlebar'));\n",
       "    titlebar.prepend(buttongrp);\n",
       "}\n",
       "\n",
       "mpl.figure.prototype._root_extra_style = function(el){\n",
       "    var fig = this\n",
       "    el.on(\"remove\", function(){\n",
       "\tfig.close_ws(fig, {});\n",
       "    });\n",
       "}\n",
       "\n",
       "mpl.figure.prototype._canvas_extra_style = function(el){\n",
       "    // this is important to make the div 'focusable\n",
       "    el.attr('tabindex', 0)\n",
       "    // reach out to IPython and tell the keyboard manager to turn it's self\n",
       "    // off when our div gets focus\n",
       "\n",
       "    // location in version 3\n",
       "    if (IPython.notebook.keyboard_manager) {\n",
       "        IPython.notebook.keyboard_manager.register_events(el);\n",
       "    }\n",
       "    else {\n",
       "        // location in version 2\n",
       "        IPython.keyboard_manager.register_events(el);\n",
       "    }\n",
       "\n",
       "}\n",
       "\n",
       "mpl.figure.prototype._key_event_extra = function(event, name) {\n",
       "    var manager = IPython.notebook.keyboard_manager;\n",
       "    if (!manager)\n",
       "        manager = IPython.keyboard_manager;\n",
       "\n",
       "    // Check for shift+enter\n",
       "    if (event.shiftKey && event.which == 13) {\n",
       "        this.canvas_div.blur();\n",
       "        event.shiftKey = false;\n",
       "        // Send a \"J\" for go to next cell\n",
       "        event.which = 74;\n",
       "        event.keyCode = 74;\n",
       "        manager.command_mode();\n",
       "        manager.handle_keydown(event);\n",
       "    }\n",
       "}\n",
       "\n",
       "mpl.figure.prototype.handle_save = function(fig, msg) {\n",
       "    fig.ondownload(fig, null);\n",
       "}\n",
       "\n",
       "\n",
       "mpl.find_output_cell = function(html_output) {\n",
       "    // Return the cell and output element which can be found *uniquely* in the notebook.\n",
       "    // Note - this is a bit hacky, but it is done because the \"notebook_saving.Notebook\"\n",
       "    // IPython event is triggered only after the cells have been serialised, which for\n",
       "    // our purposes (turning an active figure into a static one), is too late.\n",
       "    var cells = IPython.notebook.get_cells();\n",
       "    var ncells = cells.length;\n",
       "    for (var i=0; i<ncells; i++) {\n",
       "        var cell = cells[i];\n",
       "        if (cell.cell_type === 'code'){\n",
       "            for (var j=0; j<cell.output_area.outputs.length; j++) {\n",
       "                var data = cell.output_area.outputs[j];\n",
       "                if (data.data) {\n",
       "                    // IPython >= 3 moved mimebundle to data attribute of output\n",
       "                    data = data.data;\n",
       "                }\n",
       "                if (data['text/html'] == html_output) {\n",
       "                    return [cell, data, j];\n",
       "                }\n",
       "            }\n",
       "        }\n",
       "    }\n",
       "}\n",
       "\n",
       "// Register the function which deals with the matplotlib target/channel.\n",
       "// The kernel may be null if the page has been refreshed.\n",
       "if (IPython.notebook.kernel != null) {\n",
       "    IPython.notebook.kernel.comm_manager.register_target('matplotlib', mpl.mpl_figure_comm);\n",
       "}\n"
      ],
      "text/plain": [
       "<IPython.core.display.Javascript object>"
      ]
     },
     "metadata": {},
     "output_type": "display_data"
    },
    {
     "data": {
      "text/html": [
       "<img src=\"data:image/png;base64,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\" width=\"640\">"
      ],
      "text/plain": [
       "<IPython.core.display.HTML object>"
      ]
     },
     "metadata": {},
     "output_type": "display_data"
    },
    {
     "data": {
      "text/plain": [
       "<matplotlib.axes._subplots.AxesSubplot at 0x130082a58>"
      ]
     },
     "execution_count": 40,
     "metadata": {},
     "output_type": "execute_result"
    }
   ],
   "source": [
    "#plotting from data frame\n",
    "import pandas as pd\n",
    "data = [[8880, 5123], [8670, 6682], [8147, 3308], [7338, 1863], [5704, 1527]]\n",
    "df = pd.DataFrame(data, columns = ['India', 'China'], \n",
    "                  index = [1980, 1981, 1982, 1983, 1984])\n",
    "print(df)\n",
    "df.plot(kind='line')"
   ]
  },
  {
   "cell_type": "code",
   "execution_count": 41,
   "metadata": {},
   "outputs": [
    {
     "data": {
      "application/javascript": [
       "/* Put everything inside the global mpl namespace */\n",
       "window.mpl = {};\n",
       "\n",
       "\n",
       "mpl.get_websocket_type = function() {\n",
       "    if (typeof(WebSocket) !== 'undefined') {\n",
       "        return WebSocket;\n",
       "    } else if (typeof(MozWebSocket) !== 'undefined') {\n",
       "        return MozWebSocket;\n",
       "    } else {\n",
       "        alert('Your browser does not have WebSocket support.' +\n",
       "              'Please try Chrome, Safari or Firefox ≥ 6. ' +\n",
       "              'Firefox 4 and 5 are also supported but you ' +\n",
       "              'have to enable WebSockets in about:config.');\n",
       "    };\n",
       "}\n",
       "\n",
       "mpl.figure = function(figure_id, websocket, ondownload, parent_element) {\n",
       "    this.id = figure_id;\n",
       "\n",
       "    this.ws = websocket;\n",
       "\n",
       "    this.supports_binary = (this.ws.binaryType != undefined);\n",
       "\n",
       "    if (!this.supports_binary) {\n",
       "        var warnings = document.getElementById(\"mpl-warnings\");\n",
       "        if (warnings) {\n",
       "            warnings.style.display = 'block';\n",
       "            warnings.textContent = (\n",
       "                \"This browser does not support binary websocket messages. \" +\n",
       "                    \"Performance may be slow.\");\n",
       "        }\n",
       "    }\n",
       "\n",
       "    this.imageObj = new Image();\n",
       "\n",
       "    this.context = undefined;\n",
       "    this.message = undefined;\n",
       "    this.canvas = undefined;\n",
       "    this.rubberband_canvas = undefined;\n",
       "    this.rubberband_context = undefined;\n",
       "    this.format_dropdown = undefined;\n",
       "\n",
       "    this.image_mode = 'full';\n",
       "\n",
       "    this.root = $('<div/>');\n",
       "    this._root_extra_style(this.root)\n",
       "    this.root.attr('style', 'display: inline-block');\n",
       "\n",
       "    $(parent_element).append(this.root);\n",
       "\n",
       "    this._init_header(this);\n",
       "    this._init_canvas(this);\n",
       "    this._init_toolbar(this);\n",
       "\n",
       "    var fig = this;\n",
       "\n",
       "    this.waiting = false;\n",
       "\n",
       "    this.ws.onopen =  function () {\n",
       "            fig.send_message(\"supports_binary\", {value: fig.supports_binary});\n",
       "            fig.send_message(\"send_image_mode\", {});\n",
       "            if (mpl.ratio != 1) {\n",
       "                fig.send_message(\"set_dpi_ratio\", {'dpi_ratio': mpl.ratio});\n",
       "            }\n",
       "            fig.send_message(\"refresh\", {});\n",
       "        }\n",
       "\n",
       "    this.imageObj.onload = function() {\n",
       "            if (fig.image_mode == 'full') {\n",
       "                // Full images could contain transparency (where diff images\n",
       "                // almost always do), so we need to clear the canvas so that\n",
       "                // there is no ghosting.\n",
       "                fig.context.clearRect(0, 0, fig.canvas.width, fig.canvas.height);\n",
       "            }\n",
       "            fig.context.drawImage(fig.imageObj, 0, 0);\n",
       "        };\n",
       "\n",
       "    this.imageObj.onunload = function() {\n",
       "        fig.ws.close();\n",
       "    }\n",
       "\n",
       "    this.ws.onmessage = this._make_on_message_function(this);\n",
       "\n",
       "    this.ondownload = ondownload;\n",
       "}\n",
       "\n",
       "mpl.figure.prototype._init_header = function() {\n",
       "    var titlebar = $(\n",
       "        '<div class=\"ui-dialog-titlebar ui-widget-header ui-corner-all ' +\n",
       "        'ui-helper-clearfix\"/>');\n",
       "    var titletext = $(\n",
       "        '<div class=\"ui-dialog-title\" style=\"width: 100%; ' +\n",
       "        'text-align: center; padding: 3px;\"/>');\n",
       "    titlebar.append(titletext)\n",
       "    this.root.append(titlebar);\n",
       "    this.header = titletext[0];\n",
       "}\n",
       "\n",
       "\n",
       "\n",
       "mpl.figure.prototype._canvas_extra_style = function(canvas_div) {\n",
       "\n",
       "}\n",
       "\n",
       "\n",
       "mpl.figure.prototype._root_extra_style = function(canvas_div) {\n",
       "\n",
       "}\n",
       "\n",
       "mpl.figure.prototype._init_canvas = function() {\n",
       "    var fig = this;\n",
       "\n",
       "    var canvas_div = $('<div/>');\n",
       "\n",
       "    canvas_div.attr('style', 'position: relative; clear: both; outline: 0');\n",
       "\n",
       "    function canvas_keyboard_event(event) {\n",
       "        return fig.key_event(event, event['data']);\n",
       "    }\n",
       "\n",
       "    canvas_div.keydown('key_press', canvas_keyboard_event);\n",
       "    canvas_div.keyup('key_release', canvas_keyboard_event);\n",
       "    this.canvas_div = canvas_div\n",
       "    this._canvas_extra_style(canvas_div)\n",
       "    this.root.append(canvas_div);\n",
       "\n",
       "    var canvas = $('<canvas/>');\n",
       "    canvas.addClass('mpl-canvas');\n",
       "    canvas.attr('style', \"left: 0; top: 0; z-index: 0; outline: 0\")\n",
       "\n",
       "    this.canvas = canvas[0];\n",
       "    this.context = canvas[0].getContext(\"2d\");\n",
       "\n",
       "    var backingStore = this.context.backingStorePixelRatio ||\n",
       "\tthis.context.webkitBackingStorePixelRatio ||\n",
       "\tthis.context.mozBackingStorePixelRatio ||\n",
       "\tthis.context.msBackingStorePixelRatio ||\n",
       "\tthis.context.oBackingStorePixelRatio ||\n",
       "\tthis.context.backingStorePixelRatio || 1;\n",
       "\n",
       "    mpl.ratio = (window.devicePixelRatio || 1) / backingStore;\n",
       "\n",
       "    var rubberband = $('<canvas/>');\n",
       "    rubberband.attr('style', \"position: absolute; left: 0; top: 0; z-index: 1;\")\n",
       "\n",
       "    var pass_mouse_events = true;\n",
       "\n",
       "    canvas_div.resizable({\n",
       "        start: function(event, ui) {\n",
       "            pass_mouse_events = false;\n",
       "        },\n",
       "        resize: function(event, ui) {\n",
       "            fig.request_resize(ui.size.width, ui.size.height);\n",
       "        },\n",
       "        stop: function(event, ui) {\n",
       "            pass_mouse_events = true;\n",
       "            fig.request_resize(ui.size.width, ui.size.height);\n",
       "        },\n",
       "    });\n",
       "\n",
       "    function mouse_event_fn(event) {\n",
       "        if (pass_mouse_events)\n",
       "            return fig.mouse_event(event, event['data']);\n",
       "    }\n",
       "\n",
       "    rubberband.mousedown('button_press', mouse_event_fn);\n",
       "    rubberband.mouseup('button_release', mouse_event_fn);\n",
       "    // Throttle sequential mouse events to 1 every 20ms.\n",
       "    rubberband.mousemove('motion_notify', mouse_event_fn);\n",
       "\n",
       "    rubberband.mouseenter('figure_enter', mouse_event_fn);\n",
       "    rubberband.mouseleave('figure_leave', mouse_event_fn);\n",
       "\n",
       "    canvas_div.on(\"wheel\", function (event) {\n",
       "        event = event.originalEvent;\n",
       "        event['data'] = 'scroll'\n",
       "        if (event.deltaY < 0) {\n",
       "            event.step = 1;\n",
       "        } else {\n",
       "            event.step = -1;\n",
       "        }\n",
       "        mouse_event_fn(event);\n",
       "    });\n",
       "\n",
       "    canvas_div.append(canvas);\n",
       "    canvas_div.append(rubberband);\n",
       "\n",
       "    this.rubberband = rubberband;\n",
       "    this.rubberband_canvas = rubberband[0];\n",
       "    this.rubberband_context = rubberband[0].getContext(\"2d\");\n",
       "    this.rubberband_context.strokeStyle = \"#000000\";\n",
       "\n",
       "    this._resize_canvas = function(width, height) {\n",
       "        // Keep the size of the canvas, canvas container, and rubber band\n",
       "        // canvas in synch.\n",
       "        canvas_div.css('width', width)\n",
       "        canvas_div.css('height', height)\n",
       "\n",
       "        canvas.attr('width', width * mpl.ratio);\n",
       "        canvas.attr('height', height * mpl.ratio);\n",
       "        canvas.attr('style', 'width: ' + width + 'px; height: ' + height + 'px;');\n",
       "\n",
       "        rubberband.attr('width', width);\n",
       "        rubberband.attr('height', height);\n",
       "    }\n",
       "\n",
       "    // Set the figure to an initial 600x600px, this will subsequently be updated\n",
       "    // upon first draw.\n",
       "    this._resize_canvas(600, 600);\n",
       "\n",
       "    // Disable right mouse context menu.\n",
       "    $(this.rubberband_canvas).bind(\"contextmenu\",function(e){\n",
       "        return false;\n",
       "    });\n",
       "\n",
       "    function set_focus () {\n",
       "        canvas.focus();\n",
       "        canvas_div.focus();\n",
       "    }\n",
       "\n",
       "    window.setTimeout(set_focus, 100);\n",
       "}\n",
       "\n",
       "mpl.figure.prototype._init_toolbar = function() {\n",
       "    var fig = this;\n",
       "\n",
       "    var nav_element = $('<div/>')\n",
       "    nav_element.attr('style', 'width: 100%');\n",
       "    this.root.append(nav_element);\n",
       "\n",
       "    // Define a callback function for later on.\n",
       "    function toolbar_event(event) {\n",
       "        return fig.toolbar_button_onclick(event['data']);\n",
       "    }\n",
       "    function toolbar_mouse_event(event) {\n",
       "        return fig.toolbar_button_onmouseover(event['data']);\n",
       "    }\n",
       "\n",
       "    for(var toolbar_ind in mpl.toolbar_items) {\n",
       "        var name = mpl.toolbar_items[toolbar_ind][0];\n",
       "        var tooltip = mpl.toolbar_items[toolbar_ind][1];\n",
       "        var image = mpl.toolbar_items[toolbar_ind][2];\n",
       "        var method_name = mpl.toolbar_items[toolbar_ind][3];\n",
       "\n",
       "        if (!name) {\n",
       "            // put a spacer in here.\n",
       "            continue;\n",
       "        }\n",
       "        var button = $('<button/>');\n",
       "        button.addClass('ui-button ui-widget ui-state-default ui-corner-all ' +\n",
       "                        'ui-button-icon-only');\n",
       "        button.attr('role', 'button');\n",
       "        button.attr('aria-disabled', 'false');\n",
       "        button.click(method_name, toolbar_event);\n",
       "        button.mouseover(tooltip, toolbar_mouse_event);\n",
       "\n",
       "        var icon_img = $('<span/>');\n",
       "        icon_img.addClass('ui-button-icon-primary ui-icon');\n",
       "        icon_img.addClass(image);\n",
       "        icon_img.addClass('ui-corner-all');\n",
       "\n",
       "        var tooltip_span = $('<span/>');\n",
       "        tooltip_span.addClass('ui-button-text');\n",
       "        tooltip_span.html(tooltip);\n",
       "\n",
       "        button.append(icon_img);\n",
       "        button.append(tooltip_span);\n",
       "\n",
       "        nav_element.append(button);\n",
       "    }\n",
       "\n",
       "    var fmt_picker_span = $('<span/>');\n",
       "\n",
       "    var fmt_picker = $('<select/>');\n",
       "    fmt_picker.addClass('mpl-toolbar-option ui-widget ui-widget-content');\n",
       "    fmt_picker_span.append(fmt_picker);\n",
       "    nav_element.append(fmt_picker_span);\n",
       "    this.format_dropdown = fmt_picker[0];\n",
       "\n",
       "    for (var ind in mpl.extensions) {\n",
       "        var fmt = mpl.extensions[ind];\n",
       "        var option = $(\n",
       "            '<option/>', {selected: fmt === mpl.default_extension}).html(fmt);\n",
       "        fmt_picker.append(option)\n",
       "    }\n",
       "\n",
       "    // Add hover states to the ui-buttons\n",
       "    $( \".ui-button\" ).hover(\n",
       "        function() { $(this).addClass(\"ui-state-hover\");},\n",
       "        function() { $(this).removeClass(\"ui-state-hover\");}\n",
       "    );\n",
       "\n",
       "    var status_bar = $('<span class=\"mpl-message\"/>');\n",
       "    nav_element.append(status_bar);\n",
       "    this.message = status_bar[0];\n",
       "}\n",
       "\n",
       "mpl.figure.prototype.request_resize = function(x_pixels, y_pixels) {\n",
       "    // Request matplotlib to resize the figure. Matplotlib will then trigger a resize in the client,\n",
       "    // which will in turn request a refresh of the image.\n",
       "    this.send_message('resize', {'width': x_pixels, 'height': y_pixels});\n",
       "}\n",
       "\n",
       "mpl.figure.prototype.send_message = function(type, properties) {\n",
       "    properties['type'] = type;\n",
       "    properties['figure_id'] = this.id;\n",
       "    this.ws.send(JSON.stringify(properties));\n",
       "}\n",
       "\n",
       "mpl.figure.prototype.send_draw_message = function() {\n",
       "    if (!this.waiting) {\n",
       "        this.waiting = true;\n",
       "        this.ws.send(JSON.stringify({type: \"draw\", figure_id: this.id}));\n",
       "    }\n",
       "}\n",
       "\n",
       "\n",
       "mpl.figure.prototype.handle_save = function(fig, msg) {\n",
       "    var format_dropdown = fig.format_dropdown;\n",
       "    var format = format_dropdown.options[format_dropdown.selectedIndex].value;\n",
       "    fig.ondownload(fig, format);\n",
       "}\n",
       "\n",
       "\n",
       "mpl.figure.prototype.handle_resize = function(fig, msg) {\n",
       "    var size = msg['size'];\n",
       "    if (size[0] != fig.canvas.width || size[1] != fig.canvas.height) {\n",
       "        fig._resize_canvas(size[0], size[1]);\n",
       "        fig.send_message(\"refresh\", {});\n",
       "    };\n",
       "}\n",
       "\n",
       "mpl.figure.prototype.handle_rubberband = function(fig, msg) {\n",
       "    var x0 = msg['x0'] / mpl.ratio;\n",
       "    var y0 = (fig.canvas.height - msg['y0']) / mpl.ratio;\n",
       "    var x1 = msg['x1'] / mpl.ratio;\n",
       "    var y1 = (fig.canvas.height - msg['y1']) / mpl.ratio;\n",
       "    x0 = Math.floor(x0) + 0.5;\n",
       "    y0 = Math.floor(y0) + 0.5;\n",
       "    x1 = Math.floor(x1) + 0.5;\n",
       "    y1 = Math.floor(y1) + 0.5;\n",
       "    var min_x = Math.min(x0, x1);\n",
       "    var min_y = Math.min(y0, y1);\n",
       "    var width = Math.abs(x1 - x0);\n",
       "    var height = Math.abs(y1 - y0);\n",
       "\n",
       "    fig.rubberband_context.clearRect(\n",
       "        0, 0, fig.canvas.width, fig.canvas.height);\n",
       "\n",
       "    fig.rubberband_context.strokeRect(min_x, min_y, width, height);\n",
       "}\n",
       "\n",
       "mpl.figure.prototype.handle_figure_label = function(fig, msg) {\n",
       "    // Updates the figure title.\n",
       "    fig.header.textContent = msg['label'];\n",
       "}\n",
       "\n",
       "mpl.figure.prototype.handle_cursor = function(fig, msg) {\n",
       "    var cursor = msg['cursor'];\n",
       "    switch(cursor)\n",
       "    {\n",
       "    case 0:\n",
       "        cursor = 'pointer';\n",
       "        break;\n",
       "    case 1:\n",
       "        cursor = 'default';\n",
       "        break;\n",
       "    case 2:\n",
       "        cursor = 'crosshair';\n",
       "        break;\n",
       "    case 3:\n",
       "        cursor = 'move';\n",
       "        break;\n",
       "    }\n",
       "    fig.rubberband_canvas.style.cursor = cursor;\n",
       "}\n",
       "\n",
       "mpl.figure.prototype.handle_message = function(fig, msg) {\n",
       "    fig.message.textContent = msg['message'];\n",
       "}\n",
       "\n",
       "mpl.figure.prototype.handle_draw = function(fig, msg) {\n",
       "    // Request the server to send over a new figure.\n",
       "    fig.send_draw_message();\n",
       "}\n",
       "\n",
       "mpl.figure.prototype.handle_image_mode = function(fig, msg) {\n",
       "    fig.image_mode = msg['mode'];\n",
       "}\n",
       "\n",
       "mpl.figure.prototype.updated_canvas_event = function() {\n",
       "    // Called whenever the canvas gets updated.\n",
       "    this.send_message(\"ack\", {});\n",
       "}\n",
       "\n",
       "// A function to construct a web socket function for onmessage handling.\n",
       "// Called in the figure constructor.\n",
       "mpl.figure.prototype._make_on_message_function = function(fig) {\n",
       "    return function socket_on_message(evt) {\n",
       "        if (evt.data instanceof Blob) {\n",
       "            /* FIXME: We get \"Resource interpreted as Image but\n",
       "             * transferred with MIME type text/plain:\" errors on\n",
       "             * Chrome.  But how to set the MIME type?  It doesn't seem\n",
       "             * to be part of the websocket stream */\n",
       "            evt.data.type = \"image/png\";\n",
       "\n",
       "            /* Free the memory for the previous frames */\n",
       "            if (fig.imageObj.src) {\n",
       "                (window.URL || window.webkitURL).revokeObjectURL(\n",
       "                    fig.imageObj.src);\n",
       "            }\n",
       "\n",
       "            fig.imageObj.src = (window.URL || window.webkitURL).createObjectURL(\n",
       "                evt.data);\n",
       "            fig.updated_canvas_event();\n",
       "            fig.waiting = false;\n",
       "            return;\n",
       "        }\n",
       "        else if (typeof evt.data === 'string' && evt.data.slice(0, 21) == \"data:image/png;base64\") {\n",
       "            fig.imageObj.src = evt.data;\n",
       "            fig.updated_canvas_event();\n",
       "            fig.waiting = false;\n",
       "            return;\n",
       "        }\n",
       "\n",
       "        var msg = JSON.parse(evt.data);\n",
       "        var msg_type = msg['type'];\n",
       "\n",
       "        // Call the  \"handle_{type}\" callback, which takes\n",
       "        // the figure and JSON message as its only arguments.\n",
       "        try {\n",
       "            var callback = fig[\"handle_\" + msg_type];\n",
       "        } catch (e) {\n",
       "            console.log(\"No handler for the '\" + msg_type + \"' message type: \", msg);\n",
       "            return;\n",
       "        }\n",
       "\n",
       "        if (callback) {\n",
       "            try {\n",
       "                // console.log(\"Handling '\" + msg_type + \"' message: \", msg);\n",
       "                callback(fig, msg);\n",
       "            } catch (e) {\n",
       "                console.log(\"Exception inside the 'handler_\" + msg_type + \"' callback:\", e, e.stack, msg);\n",
       "            }\n",
       "        }\n",
       "    };\n",
       "}\n",
       "\n",
       "// from http://stackoverflow.com/questions/1114465/getting-mouse-location-in-canvas\n",
       "mpl.findpos = function(e) {\n",
       "    //this section is from http://www.quirksmode.org/js/events_properties.html\n",
       "    var targ;\n",
       "    if (!e)\n",
       "        e = window.event;\n",
       "    if (e.target)\n",
       "        targ = e.target;\n",
       "    else if (e.srcElement)\n",
       "        targ = e.srcElement;\n",
       "    if (targ.nodeType == 3) // defeat Safari bug\n",
       "        targ = targ.parentNode;\n",
       "\n",
       "    // jQuery normalizes the pageX and pageY\n",
       "    // pageX,Y are the mouse positions relative to the document\n",
       "    // offset() returns the position of the element relative to the document\n",
       "    var x = e.pageX - $(targ).offset().left;\n",
       "    var y = e.pageY - $(targ).offset().top;\n",
       "\n",
       "    return {\"x\": x, \"y\": y};\n",
       "};\n",
       "\n",
       "/*\n",
       " * return a copy of an object with only non-object keys\n",
       " * we need this to avoid circular references\n",
       " * http://stackoverflow.com/a/24161582/3208463\n",
       " */\n",
       "function simpleKeys (original) {\n",
       "  return Object.keys(original).reduce(function (obj, key) {\n",
       "    if (typeof original[key] !== 'object')\n",
       "        obj[key] = original[key]\n",
       "    return obj;\n",
       "  }, {});\n",
       "}\n",
       "\n",
       "mpl.figure.prototype.mouse_event = function(event, name) {\n",
       "    var canvas_pos = mpl.findpos(event)\n",
       "\n",
       "    if (name === 'button_press')\n",
       "    {\n",
       "        this.canvas.focus();\n",
       "        this.canvas_div.focus();\n",
       "    }\n",
       "\n",
       "    var x = canvas_pos.x * mpl.ratio;\n",
       "    var y = canvas_pos.y * mpl.ratio;\n",
       "\n",
       "    this.send_message(name, {x: x, y: y, button: event.button,\n",
       "                             step: event.step,\n",
       "                             guiEvent: simpleKeys(event)});\n",
       "\n",
       "    /* This prevents the web browser from automatically changing to\n",
       "     * the text insertion cursor when the button is pressed.  We want\n",
       "     * to control all of the cursor setting manually through the\n",
       "     * 'cursor' event from matplotlib */\n",
       "    event.preventDefault();\n",
       "    return false;\n",
       "}\n",
       "\n",
       "mpl.figure.prototype._key_event_extra = function(event, name) {\n",
       "    // Handle any extra behaviour associated with a key event\n",
       "}\n",
       "\n",
       "mpl.figure.prototype.key_event = function(event, name) {\n",
       "\n",
       "    // Prevent repeat events\n",
       "    if (name == 'key_press')\n",
       "    {\n",
       "        if (event.which === this._key)\n",
       "            return;\n",
       "        else\n",
       "            this._key = event.which;\n",
       "    }\n",
       "    if (name == 'key_release')\n",
       "        this._key = null;\n",
       "\n",
       "    var value = '';\n",
       "    if (event.ctrlKey && event.which != 17)\n",
       "        value += \"ctrl+\";\n",
       "    if (event.altKey && event.which != 18)\n",
       "        value += \"alt+\";\n",
       "    if (event.shiftKey && event.which != 16)\n",
       "        value += \"shift+\";\n",
       "\n",
       "    value += 'k';\n",
       "    value += event.which.toString();\n",
       "\n",
       "    this._key_event_extra(event, name);\n",
       "\n",
       "    this.send_message(name, {key: value,\n",
       "                             guiEvent: simpleKeys(event)});\n",
       "    return false;\n",
       "}\n",
       "\n",
       "mpl.figure.prototype.toolbar_button_onclick = function(name) {\n",
       "    if (name == 'download') {\n",
       "        this.handle_save(this, null);\n",
       "    } else {\n",
       "        this.send_message(\"toolbar_button\", {name: name});\n",
       "    }\n",
       "};\n",
       "\n",
       "mpl.figure.prototype.toolbar_button_onmouseover = function(tooltip) {\n",
       "    this.message.textContent = tooltip;\n",
       "};\n",
       "mpl.toolbar_items = [[\"Home\", \"Reset original view\", \"fa fa-home icon-home\", \"home\"], [\"Back\", \"Back to previous view\", \"fa fa-arrow-left icon-arrow-left\", \"back\"], [\"Forward\", \"Forward to next view\", \"fa fa-arrow-right icon-arrow-right\", \"forward\"], [\"\", \"\", \"\", \"\"], [\"Pan\", \"Pan axes with left mouse, zoom with right\", \"fa fa-arrows icon-move\", \"pan\"], [\"Zoom\", \"Zoom to rectangle\", \"fa fa-square-o icon-check-empty\", \"zoom\"], [\"\", \"\", \"\", \"\"], [\"Download\", \"Download plot\", \"fa fa-floppy-o icon-save\", \"download\"]];\n",
       "\n",
       "mpl.extensions = [\"eps\", \"jpeg\", \"pdf\", \"png\", \"ps\", \"raw\", \"svg\", \"tif\"];\n",
       "\n",
       "mpl.default_extension = \"png\";var comm_websocket_adapter = function(comm) {\n",
       "    // Create a \"websocket\"-like object which calls the given IPython comm\n",
       "    // object with the appropriate methods. Currently this is a non binary\n",
       "    // socket, so there is still some room for performance tuning.\n",
       "    var ws = {};\n",
       "\n",
       "    ws.close = function() {\n",
       "        comm.close()\n",
       "    };\n",
       "    ws.send = function(m) {\n",
       "        //console.log('sending', m);\n",
       "        comm.send(m);\n",
       "    };\n",
       "    // Register the callback with on_msg.\n",
       "    comm.on_msg(function(msg) {\n",
       "        //console.log('receiving', msg['content']['data'], msg);\n",
       "        // Pass the mpl event to the overridden (by mpl) onmessage function.\n",
       "        ws.onmessage(msg['content']['data'])\n",
       "    });\n",
       "    return ws;\n",
       "}\n",
       "\n",
       "mpl.mpl_figure_comm = function(comm, msg) {\n",
       "    // This is the function which gets called when the mpl process\n",
       "    // starts-up an IPython Comm through the \"matplotlib\" channel.\n",
       "\n",
       "    var id = msg.content.data.id;\n",
       "    // Get hold of the div created by the display call when the Comm\n",
       "    // socket was opened in Python.\n",
       "    var element = $(\"#\" + id);\n",
       "    var ws_proxy = comm_websocket_adapter(comm)\n",
       "\n",
       "    function ondownload(figure, format) {\n",
       "        window.open(figure.imageObj.src);\n",
       "    }\n",
       "\n",
       "    var fig = new mpl.figure(id, ws_proxy,\n",
       "                           ondownload,\n",
       "                           element.get(0));\n",
       "\n",
       "    // Call onopen now - mpl needs it, as it is assuming we've passed it a real\n",
       "    // web socket which is closed, not our websocket->open comm proxy.\n",
       "    ws_proxy.onopen();\n",
       "\n",
       "    fig.parent_element = element.get(0);\n",
       "    fig.cell_info = mpl.find_output_cell(\"<div id='\" + id + \"'></div>\");\n",
       "    if (!fig.cell_info) {\n",
       "        console.error(\"Failed to find cell for figure\", id, fig);\n",
       "        return;\n",
       "    }\n",
       "\n",
       "    var output_index = fig.cell_info[2]\n",
       "    var cell = fig.cell_info[0];\n",
       "\n",
       "};\n",
       "\n",
       "mpl.figure.prototype.handle_close = function(fig, msg) {\n",
       "    var width = fig.canvas.width/mpl.ratio\n",
       "    fig.root.unbind('remove')\n",
       "\n",
       "    // Update the output cell to use the data from the current canvas.\n",
       "    fig.push_to_output();\n",
       "    var dataURL = fig.canvas.toDataURL();\n",
       "    // Re-enable the keyboard manager in IPython - without this line, in FF,\n",
       "    // the notebook keyboard shortcuts fail.\n",
       "    IPython.keyboard_manager.enable()\n",
       "    $(fig.parent_element).html('<img src=\"' + dataURL + '\" width=\"' + width + '\">');\n",
       "    fig.close_ws(fig, msg);\n",
       "}\n",
       "\n",
       "mpl.figure.prototype.close_ws = function(fig, msg){\n",
       "    fig.send_message('closing', msg);\n",
       "    // fig.ws.close()\n",
       "}\n",
       "\n",
       "mpl.figure.prototype.push_to_output = function(remove_interactive) {\n",
       "    // Turn the data on the canvas into data in the output cell.\n",
       "    var width = this.canvas.width/mpl.ratio\n",
       "    var dataURL = this.canvas.toDataURL();\n",
       "    this.cell_info[1]['text/html'] = '<img src=\"' + dataURL + '\" width=\"' + width + '\">';\n",
       "}\n",
       "\n",
       "mpl.figure.prototype.updated_canvas_event = function() {\n",
       "    // Tell IPython that the notebook contents must change.\n",
       "    IPython.notebook.set_dirty(true);\n",
       "    this.send_message(\"ack\", {});\n",
       "    var fig = this;\n",
       "    // Wait a second, then push the new image to the DOM so\n",
       "    // that it is saved nicely (might be nice to debounce this).\n",
       "    setTimeout(function () { fig.push_to_output() }, 1000);\n",
       "}\n",
       "\n",
       "mpl.figure.prototype._init_toolbar = function() {\n",
       "    var fig = this;\n",
       "\n",
       "    var nav_element = $('<div/>')\n",
       "    nav_element.attr('style', 'width: 100%');\n",
       "    this.root.append(nav_element);\n",
       "\n",
       "    // Define a callback function for later on.\n",
       "    function toolbar_event(event) {\n",
       "        return fig.toolbar_button_onclick(event['data']);\n",
       "    }\n",
       "    function toolbar_mouse_event(event) {\n",
       "        return fig.toolbar_button_onmouseover(event['data']);\n",
       "    }\n",
       "\n",
       "    for(var toolbar_ind in mpl.toolbar_items){\n",
       "        var name = mpl.toolbar_items[toolbar_ind][0];\n",
       "        var tooltip = mpl.toolbar_items[toolbar_ind][1];\n",
       "        var image = mpl.toolbar_items[toolbar_ind][2];\n",
       "        var method_name = mpl.toolbar_items[toolbar_ind][3];\n",
       "\n",
       "        if (!name) { continue; };\n",
       "\n",
       "        var button = $('<button class=\"btn btn-default\" href=\"#\" title=\"' + name + '\"><i class=\"fa ' + image + ' fa-lg\"></i></button>');\n",
       "        button.click(method_name, toolbar_event);\n",
       "        button.mouseover(tooltip, toolbar_mouse_event);\n",
       "        nav_element.append(button);\n",
       "    }\n",
       "\n",
       "    // Add the status bar.\n",
       "    var status_bar = $('<span class=\"mpl-message\" style=\"text-align:right; float: right;\"/>');\n",
       "    nav_element.append(status_bar);\n",
       "    this.message = status_bar[0];\n",
       "\n",
       "    // Add the close button to the window.\n",
       "    var buttongrp = $('<div class=\"btn-group inline pull-right\"></div>');\n",
       "    var button = $('<button class=\"btn btn-mini btn-primary\" href=\"#\" title=\"Stop Interaction\"><i class=\"fa fa-power-off icon-remove icon-large\"></i></button>');\n",
       "    button.click(function (evt) { fig.handle_close(fig, {}); } );\n",
       "    button.mouseover('Stop Interaction', toolbar_mouse_event);\n",
       "    buttongrp.append(button);\n",
       "    var titlebar = this.root.find($('.ui-dialog-titlebar'));\n",
       "    titlebar.prepend(buttongrp);\n",
       "}\n",
       "\n",
       "mpl.figure.prototype._root_extra_style = function(el){\n",
       "    var fig = this\n",
       "    el.on(\"remove\", function(){\n",
       "\tfig.close_ws(fig, {});\n",
       "    });\n",
       "}\n",
       "\n",
       "mpl.figure.prototype._canvas_extra_style = function(el){\n",
       "    // this is important to make the div 'focusable\n",
       "    el.attr('tabindex', 0)\n",
       "    // reach out to IPython and tell the keyboard manager to turn it's self\n",
       "    // off when our div gets focus\n",
       "\n",
       "    // location in version 3\n",
       "    if (IPython.notebook.keyboard_manager) {\n",
       "        IPython.notebook.keyboard_manager.register_events(el);\n",
       "    }\n",
       "    else {\n",
       "        // location in version 2\n",
       "        IPython.keyboard_manager.register_events(el);\n",
       "    }\n",
       "\n",
       "}\n",
       "\n",
       "mpl.figure.prototype._key_event_extra = function(event, name) {\n",
       "    var manager = IPython.notebook.keyboard_manager;\n",
       "    if (!manager)\n",
       "        manager = IPython.keyboard_manager;\n",
       "\n",
       "    // Check for shift+enter\n",
       "    if (event.shiftKey && event.which == 13) {\n",
       "        this.canvas_div.blur();\n",
       "        event.shiftKey = false;\n",
       "        // Send a \"J\" for go to next cell\n",
       "        event.which = 74;\n",
       "        event.keyCode = 74;\n",
       "        manager.command_mode();\n",
       "        manager.handle_keydown(event);\n",
       "    }\n",
       "}\n",
       "\n",
       "mpl.figure.prototype.handle_save = function(fig, msg) {\n",
       "    fig.ondownload(fig, null);\n",
       "}\n",
       "\n",
       "\n",
       "mpl.find_output_cell = function(html_output) {\n",
       "    // Return the cell and output element which can be found *uniquely* in the notebook.\n",
       "    // Note - this is a bit hacky, but it is done because the \"notebook_saving.Notebook\"\n",
       "    // IPython event is triggered only after the cells have been serialised, which for\n",
       "    // our purposes (turning an active figure into a static one), is too late.\n",
       "    var cells = IPython.notebook.get_cells();\n",
       "    var ncells = cells.length;\n",
       "    for (var i=0; i<ncells; i++) {\n",
       "        var cell = cells[i];\n",
       "        if (cell.cell_type === 'code'){\n",
       "            for (var j=0; j<cell.output_area.outputs.length; j++) {\n",
       "                var data = cell.output_area.outputs[j];\n",
       "                if (data.data) {\n",
       "                    // IPython >= 3 moved mimebundle to data attribute of output\n",
       "                    data = data.data;\n",
       "                }\n",
       "                if (data['text/html'] == html_output) {\n",
       "                    return [cell, data, j];\n",
       "                }\n",
       "            }\n",
       "        }\n",
       "    }\n",
       "}\n",
       "\n",
       "// Register the function which deals with the matplotlib target/channel.\n",
       "// The kernel may be null if the page has been refreshed.\n",
       "if (IPython.notebook.kernel != null) {\n",
       "    IPython.notebook.kernel.comm_manager.register_target('matplotlib', mpl.mpl_figure_comm);\n",
       "}\n"
      ],
      "text/plain": [
       "<IPython.core.display.Javascript object>"
      ]
     },
     "metadata": {},
     "output_type": "display_data"
    },
    {
     "data": {
      "text/html": [
       "<img src=\"data:image/png;base64,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\" width=\"640\">"
      ],
      "text/plain": [
       "<IPython.core.display.HTML object>"
      ]
     },
     "metadata": {},
     "output_type": "display_data"
    },
    {
     "data": {
      "text/plain": [
       "<matplotlib.axes._subplots.AxesSubplot at 0x130089be0>"
      ]
     },
     "execution_count": 41,
     "metadata": {},
     "output_type": "execute_result"
    }
   ],
   "source": [
    "df['India'].plot(kind='hist')"
   ]
  },
  {
   "cell_type": "markdown",
   "metadata": {
    "button": false,
    "new_sheet": false,
    "run_control": {
     "read_only": false
    }
   },
   "source": [
    "<center>\n",
    "    <img src=\"https://cf-courses-data.s3.us.cloud-object-storage.appdomain.cloud/IBMDeveloperSkillsNetwork-DV0101EN-SkillsNetwork/labs/Module%201/images/IDSNlogo.png\" width=\"300\" alt=\"cognitiveclass.ai logo\"  />\n",
    "</center>\n",
    "\n",
    "# Data Visualization\n",
    "\n",
    "Estimated time needed: **30** minutes\n",
    "\n",
    "## Objectives\n",
    "\n",
    "After completing this lab you will be able to:\n",
    "\n",
    "*   Create Data Visualization with Python\n",
    "*   Use various Python libraries for visualization\n"
   ]
  },
  {
   "cell_type": "markdown",
   "metadata": {
    "button": false,
    "new_sheet": false,
    "run_control": {
     "read_only": false
    }
   },
   "source": [
    "## Introduction\n",
    "\n",
    "The aim of these labs is to introduce you to data visualization with Python as concrete and as consistent as possible.\n",
    "Speaking of consistency, because there is no *best* data visualization library available for Python - up to creating these labs - we have to introduce different libraries and show their benefits when we are discussing new visualization concepts. Doing so, we hope to make students well-rounded with visualization libraries and concepts so that they are able to judge and decide on the best visualization technique and tool for a given problem *and* audience.\n",
    "\n",
    "Please make sure that you have completed the prerequisites for this course, namely [**Python Basics for Data Science**](https://www.edx.org/course/python-basics-for-data-science-2?utm_medium=Exinfluencer&utm_source=Exinfluencer&utm_content=000026UJ&utm_term=10006555&utm_id=NA-SkillsNetwork-Channel-SkillsNetworkCoursesIBMDeveloperSkillsNetworkDV0101ENSkillsNetwork20297740-2021-01-01) and [**Analyzing Data with Python**](https://www.edx.org/course/data-analysis-with-python?utm_medium=Exinfluencer&utm_source=Exinfluencer&utm_content=000026UJ&utm_term=10006555&utm_id=NA-SkillsNetwork-Channel-SkillsNetworkCoursesIBMDeveloperSkillsNetworkDV0101ENSkillsNetwork20297740-2021-01-01).\n",
    "\n",
    "**Note**: The majority of the plots and visualizations will be generated using data stored in *pandas* dataframes. Therefore, in this lab, we provide a brief crash course on *pandas*. However, if you are interested in learning more about the *pandas* library, detailed description and explanation of how to use it and how to clean, munge, and process data stored in a *pandas* dataframe are provided in our course [**Analyzing Data with Python**](https://www.edx.org/course/data-analysis-with-python?utm_medium=Exinfluencer&utm_source=Exinfluencer&utm_content=000026UJ&utm_term=10006555&utm_id=NA-SkillsNetwork-Channel-SkillsNetworkCoursesIBMDeveloperSkillsNetworkDV0101ENSkillsNetwork20297740-2021-01-01).\n",
    "\n",
    "***\n"
   ]
  },
  {
   "cell_type": "markdown",
   "metadata": {
    "button": false,
    "new_sheet": false,
    "run_control": {
     "read_only": false
    }
   },
   "source": [
    "## Table of Contents\n",
    "\n",
    "<div class=\"alert alert-block alert-info\" style=\"margin-top: 20px\">\n",
    "\n",
    "1.  [Exploring Datasets with *pandas*](#0)<br>\n",
    "\n",
    "1.1 [The Dataset: Immigration to Canada from 1980 to 2013](#2)<br>\n",
    "1.2 [*pandas* Basics](#4) <br>\n",
    "1.3 [*pandas* Intermediate: Indexing and Selection](#6) <br>\n",
    "2\\. [Visualizing Data using Matplotlib](#8) <br>\n",
    "2.1 [Matplotlib: Standard Python Visualization Library](#10) <br>\n",
    "3\\. [Line Plots](#12)\n",
    "\n",
    "</div>\n"
   ]
  },
  {
   "cell_type": "markdown",
   "metadata": {
    "button": false,
    "new_sheet": false,
    "run_control": {
     "read_only": false
    }
   },
   "source": [
    "# Exploring Datasets with *pandas* <a id=\"0\"></a>\n",
    "\n",
    "*pandas* is an essential data analysis toolkit for Python. From their [website](http://pandas.pydata.org/?utm_medium=Exinfluencer&utm_source=Exinfluencer&utm_content=000026UJ&utm_term=10006555&utm_id=NA-SkillsNetwork-Channel-SkillsNetworkCoursesIBMDeveloperSkillsNetworkDV0101ENSkillsNetwork20297740-2021-01-01):\n",
    "\n",
    "> *pandas* is a Python package providing fast, flexible, and expressive data structures designed to make working with “relational” or “labeled” data both easy and intuitive. It aims to be the fundamental high-level building block for doing practical, **real world** data analysis in Python.\n",
    "\n",
    "The course heavily relies on *pandas* for data wrangling, analysis, and visualization. We encourage you to spend some time and familiarize yourself with the *pandas* API Reference: [http://pandas.pydata.org/pandas-docs/stable/api.html](http://pandas.pydata.org/pandas-docs/stable/api.html?utm_medium=Exinfluencer&utm_source=Exinfluencer&utm_content=000026UJ&utm_term=10006555&utm_id=NA-SkillsNetwork-Channel-SkillsNetworkCoursesIBMDeveloperSkillsNetworkDV0101ENSkillsNetwork20297740-2021-01-01).\n"
   ]
  },
  {
   "cell_type": "markdown",
   "metadata": {
    "button": false,
    "new_sheet": false,
    "run_control": {
     "read_only": false
    }
   },
   "source": [
    "## The Dataset: Immigration to Canada from 1980 to 2013 <a id=\"2\"></a>\n"
   ]
  },
  {
   "cell_type": "markdown",
   "metadata": {
    "button": false,
    "new_sheet": false,
    "run_control": {
     "read_only": false
    }
   },
   "source": [
    "Dataset Source: [International migration flows to and from selected countries - The 2015 revision](http://www.un.org/en/development/desa/population/migration/data/empirical2/migrationflows.shtml?utm_medium=Exinfluencer&utm_source=Exinfluencer&utm_content=000026UJ&utm_term=10006555&utm_id=NA-SkillsNetwork-Channel-SkillsNetworkCoursesIBMDeveloperSkillsNetworkDV0101ENSkillsNetwork20297740-2021-01-01).\n",
    "\n",
    "The dataset contains annual data on the flows of international immigrants as recorded by the countries of destination. The data presents both inflows and outflows according to the place of birth, citizenship or place of previous / next residence both for foreigners and nationals. The current version presents data pertaining to 45 countries.\n",
    "\n",
    "In this lab, we will focus on the Canadian immigration data.\n",
    "\n",
    "![Data Preview](https://cf-courses-data.s3.us.cloud-object-storage.appdomain.cloud/IBMDeveloperSkillsNetwork-DV0101EN-SkillsNetwork/labs/Module%201/images/DataSnapshot.png)\n",
    "\n",
    "The Canada Immigration dataset can be fetched from <a href=\"https://cf-courses-data.s3.us.cloud-object-storage.appdomain.cloud/IBMDeveloperSkillsNetwork-DV0101EN-SkillsNetwork/Data%20Files/Canada.xlsx?utm_medium=Exinfluencer&utm_source=Exinfluencer&utm_content=000026UJ&utm_term=10006555&utm_id=NA-SkillsNetwork-Channel-SkillsNetworkCoursesIBMDeveloperSkillsNetworkDV0101ENSkillsNetwork20297740-2021-01-01\">here</a>.\n",
    "\n",
    "***\n"
   ]
  },
  {
   "cell_type": "markdown",
   "metadata": {
    "button": false,
    "new_sheet": false,
    "run_control": {
     "read_only": false
    }
   },
   "source": [
    "## *pandas* Basics<a id=\"4\"></a>\n"
   ]
  },
  {
   "cell_type": "markdown",
   "metadata": {
    "button": false,
    "new_sheet": false,
    "run_control": {
     "read_only": false
    }
   },
   "source": [
    "The first thing we'll do is import two key data analysis modules: *pandas* and *numpy*.\n"
   ]
  },
  {
   "cell_type": "code",
   "execution_count": 2,
   "metadata": {
    "button": false,
    "new_sheet": false,
    "run_control": {
     "read_only": false
    },
    "scrolled": false
   },
   "outputs": [],
   "source": [
    "import numpy as np  # useful for many scientific computing in Python\n",
    "import pandas as pd # primary data structure library"
   ]
  },
  {
   "cell_type": "markdown",
   "metadata": {
    "button": false,
    "new_sheet": false,
    "run_control": {
     "read_only": false
    }
   },
   "source": [
    "Let's download and import our primary Canadian Immigration dataset using *pandas*'s `read_excel()` method. Normally, before we can do that, we would need to download a module which *pandas* requires reading in Excel files. This module was **openpyxl** (formerlly **xlrd**). For your convenience, we have pre-installed this module, so you would not have to worry about that. Otherwise, you would need to run the following line of code to install the **openpyxl** module:\n",
    "\n",
    "```\n",
    "! pip3 install openpyxl\n",
    "```\n"
   ]
  },
  {
   "cell_type": "markdown",
   "metadata": {
    "button": false,
    "new_sheet": false,
    "run_control": {
     "read_only": false
    }
   },
   "source": [
    "Now we are ready to read in our data.\n"
   ]
  },
  {
   "cell_type": "code",
   "execution_count": 4,
   "metadata": {
    "button": false,
    "new_sheet": false,
    "run_control": {
     "read_only": false
    },
    "scrolled": false
   },
   "outputs": [
    {
     "name": "stdout",
     "output_type": "stream",
     "text": [
      "Data read into a pandas dataframe!\n"
     ]
    }
   ],
   "source": [
    "df_can = pd.read_excel(\n",
    "    'https://cf-courses-data.s3.us.cloud-object-storage.appdomain.cloud/IBMDeveloperSkillsNetwork-DV0101EN-SkillsNetwork/Data%20Files/Canada.xlsx',\n",
    "    sheet_name='Canada by Citizenship',\n",
    "    skiprows=range(20),\n",
    "    skipfooter=2)\n",
    "\n",
    "print('Data read into a pandas dataframe!')"
   ]
  },
  {
   "cell_type": "markdown",
   "metadata": {
    "button": false,
    "new_sheet": false,
    "run_control": {
     "read_only": false
    }
   },
   "source": [
    "Let's view the top 5 rows of the dataset using the `head()` function.\n"
   ]
  },
  {
   "cell_type": "code",
   "execution_count": 5,
   "metadata": {
    "button": false,
    "new_sheet": false,
    "run_control": {
     "read_only": false
    }
   },
   "outputs": [
    {
     "data": {
      "text/html": [
       "<div>\n",
       "<style scoped>\n",
       "    .dataframe tbody tr th:only-of-type {\n",
       "        vertical-align: middle;\n",
       "    }\n",
       "\n",
       "    .dataframe tbody tr th {\n",
       "        vertical-align: top;\n",
       "    }\n",
       "\n",
       "    .dataframe thead th {\n",
       "        text-align: right;\n",
       "    }\n",
       "</style>\n",
       "<table border=\"1\" class=\"dataframe\">\n",
       "  <thead>\n",
       "    <tr style=\"text-align: right;\">\n",
       "      <th></th>\n",
       "      <th>Type</th>\n",
       "      <th>Coverage</th>\n",
       "      <th>OdName</th>\n",
       "      <th>AREA</th>\n",
       "      <th>AreaName</th>\n",
       "      <th>REG</th>\n",
       "      <th>RegName</th>\n",
       "      <th>DEV</th>\n",
       "      <th>DevName</th>\n",
       "      <th>1980</th>\n",
       "      <th>...</th>\n",
       "      <th>2004</th>\n",
       "      <th>2005</th>\n",
       "      <th>2006</th>\n",
       "      <th>2007</th>\n",
       "      <th>2008</th>\n",
       "      <th>2009</th>\n",
       "      <th>2010</th>\n",
       "      <th>2011</th>\n",
       "      <th>2012</th>\n",
       "      <th>2013</th>\n",
       "    </tr>\n",
       "  </thead>\n",
       "  <tbody>\n",
       "    <tr>\n",
       "      <th>0</th>\n",
       "      <td>Immigrants</td>\n",
       "      <td>Foreigners</td>\n",
       "      <td>Afghanistan</td>\n",
       "      <td>935</td>\n",
       "      <td>Asia</td>\n",
       "      <td>5501</td>\n",
       "      <td>Southern Asia</td>\n",
       "      <td>902</td>\n",
       "      <td>Developing regions</td>\n",
       "      <td>16</td>\n",
       "      <td>...</td>\n",
       "      <td>2978</td>\n",
       "      <td>3436</td>\n",
       "      <td>3009</td>\n",
       "      <td>2652</td>\n",
       "      <td>2111</td>\n",
       "      <td>1746</td>\n",
       "      <td>1758</td>\n",
       "      <td>2203</td>\n",
       "      <td>2635</td>\n",
       "      <td>2004</td>\n",
       "    </tr>\n",
       "    <tr>\n",
       "      <th>1</th>\n",
       "      <td>Immigrants</td>\n",
       "      <td>Foreigners</td>\n",
       "      <td>Albania</td>\n",
       "      <td>908</td>\n",
       "      <td>Europe</td>\n",
       "      <td>925</td>\n",
       "      <td>Southern Europe</td>\n",
       "      <td>901</td>\n",
       "      <td>Developed regions</td>\n",
       "      <td>1</td>\n",
       "      <td>...</td>\n",
       "      <td>1450</td>\n",
       "      <td>1223</td>\n",
       "      <td>856</td>\n",
       "      <td>702</td>\n",
       "      <td>560</td>\n",
       "      <td>716</td>\n",
       "      <td>561</td>\n",
       "      <td>539</td>\n",
       "      <td>620</td>\n",
       "      <td>603</td>\n",
       "    </tr>\n",
       "    <tr>\n",
       "      <th>2</th>\n",
       "      <td>Immigrants</td>\n",
       "      <td>Foreigners</td>\n",
       "      <td>Algeria</td>\n",
       "      <td>903</td>\n",
       "      <td>Africa</td>\n",
       "      <td>912</td>\n",
       "      <td>Northern Africa</td>\n",
       "      <td>902</td>\n",
       "      <td>Developing regions</td>\n",
       "      <td>80</td>\n",
       "      <td>...</td>\n",
       "      <td>3616</td>\n",
       "      <td>3626</td>\n",
       "      <td>4807</td>\n",
       "      <td>3623</td>\n",
       "      <td>4005</td>\n",
       "      <td>5393</td>\n",
       "      <td>4752</td>\n",
       "      <td>4325</td>\n",
       "      <td>3774</td>\n",
       "      <td>4331</td>\n",
       "    </tr>\n",
       "    <tr>\n",
       "      <th>3</th>\n",
       "      <td>Immigrants</td>\n",
       "      <td>Foreigners</td>\n",
       "      <td>American Samoa</td>\n",
       "      <td>909</td>\n",
       "      <td>Oceania</td>\n",
       "      <td>957</td>\n",
       "      <td>Polynesia</td>\n",
       "      <td>902</td>\n",
       "      <td>Developing regions</td>\n",
       "      <td>0</td>\n",
       "      <td>...</td>\n",
       "      <td>0</td>\n",
       "      <td>0</td>\n",
       "      <td>1</td>\n",
       "      <td>0</td>\n",
       "      <td>0</td>\n",
       "      <td>0</td>\n",
       "      <td>0</td>\n",
       "      <td>0</td>\n",
       "      <td>0</td>\n",
       "      <td>0</td>\n",
       "    </tr>\n",
       "    <tr>\n",
       "      <th>4</th>\n",
       "      <td>Immigrants</td>\n",
       "      <td>Foreigners</td>\n",
       "      <td>Andorra</td>\n",
       "      <td>908</td>\n",
       "      <td>Europe</td>\n",
       "      <td>925</td>\n",
       "      <td>Southern Europe</td>\n",
       "      <td>901</td>\n",
       "      <td>Developed regions</td>\n",
       "      <td>0</td>\n",
       "      <td>...</td>\n",
       "      <td>0</td>\n",
       "      <td>0</td>\n",
       "      <td>1</td>\n",
       "      <td>1</td>\n",
       "      <td>0</td>\n",
       "      <td>0</td>\n",
       "      <td>0</td>\n",
       "      <td>0</td>\n",
       "      <td>1</td>\n",
       "      <td>1</td>\n",
       "    </tr>\n",
       "  </tbody>\n",
       "</table>\n",
       "<p>5 rows × 43 columns</p>\n",
       "</div>"
      ],
      "text/plain": [
       "         Type    Coverage          OdName  AREA AreaName   REG  \\\n",
       "0  Immigrants  Foreigners     Afghanistan   935     Asia  5501   \n",
       "1  Immigrants  Foreigners         Albania   908   Europe   925   \n",
       "2  Immigrants  Foreigners         Algeria   903   Africa   912   \n",
       "3  Immigrants  Foreigners  American Samoa   909  Oceania   957   \n",
       "4  Immigrants  Foreigners         Andorra   908   Europe   925   \n",
       "\n",
       "           RegName  DEV             DevName  1980  ...  2004  2005  2006  \\\n",
       "0    Southern Asia  902  Developing regions    16  ...  2978  3436  3009   \n",
       "1  Southern Europe  901   Developed regions     1  ...  1450  1223   856   \n",
       "2  Northern Africa  902  Developing regions    80  ...  3616  3626  4807   \n",
       "3        Polynesia  902  Developing regions     0  ...     0     0     1   \n",
       "4  Southern Europe  901   Developed regions     0  ...     0     0     1   \n",
       "\n",
       "   2007  2008  2009  2010  2011  2012  2013  \n",
       "0  2652  2111  1746  1758  2203  2635  2004  \n",
       "1   702   560   716   561   539   620   603  \n",
       "2  3623  4005  5393  4752  4325  3774  4331  \n",
       "3     0     0     0     0     0     0     0  \n",
       "4     1     0     0     0     0     1     1  \n",
       "\n",
       "[5 rows x 43 columns]"
      ]
     },
     "execution_count": 5,
     "metadata": {},
     "output_type": "execute_result"
    }
   ],
   "source": [
    "df_can.head()\n",
    "# tip: You can specify the number of rows you'd like to see as follows: df_can.head(10) "
   ]
  },
  {
   "cell_type": "markdown",
   "metadata": {
    "button": false,
    "new_sheet": false,
    "run_control": {
     "read_only": false
    }
   },
   "source": [
    "We can also view the bottom 5 rows of the dataset using the `tail()` function.\n"
   ]
  },
  {
   "cell_type": "code",
   "execution_count": 6,
   "metadata": {
    "button": false,
    "new_sheet": false,
    "run_control": {
     "read_only": false
    }
   },
   "outputs": [
    {
     "data": {
      "text/html": [
       "<div>\n",
       "<style scoped>\n",
       "    .dataframe tbody tr th:only-of-type {\n",
       "        vertical-align: middle;\n",
       "    }\n",
       "\n",
       "    .dataframe tbody tr th {\n",
       "        vertical-align: top;\n",
       "    }\n",
       "\n",
       "    .dataframe thead th {\n",
       "        text-align: right;\n",
       "    }\n",
       "</style>\n",
       "<table border=\"1\" class=\"dataframe\">\n",
       "  <thead>\n",
       "    <tr style=\"text-align: right;\">\n",
       "      <th></th>\n",
       "      <th>Type</th>\n",
       "      <th>Coverage</th>\n",
       "      <th>OdName</th>\n",
       "      <th>AREA</th>\n",
       "      <th>AreaName</th>\n",
       "      <th>REG</th>\n",
       "      <th>RegName</th>\n",
       "      <th>DEV</th>\n",
       "      <th>DevName</th>\n",
       "      <th>1980</th>\n",
       "      <th>...</th>\n",
       "      <th>2004</th>\n",
       "      <th>2005</th>\n",
       "      <th>2006</th>\n",
       "      <th>2007</th>\n",
       "      <th>2008</th>\n",
       "      <th>2009</th>\n",
       "      <th>2010</th>\n",
       "      <th>2011</th>\n",
       "      <th>2012</th>\n",
       "      <th>2013</th>\n",
       "    </tr>\n",
       "  </thead>\n",
       "  <tbody>\n",
       "    <tr>\n",
       "      <th>190</th>\n",
       "      <td>Immigrants</td>\n",
       "      <td>Foreigners</td>\n",
       "      <td>Viet Nam</td>\n",
       "      <td>935</td>\n",
       "      <td>Asia</td>\n",
       "      <td>920</td>\n",
       "      <td>South-Eastern Asia</td>\n",
       "      <td>902</td>\n",
       "      <td>Developing regions</td>\n",
       "      <td>1191</td>\n",
       "      <td>...</td>\n",
       "      <td>1816</td>\n",
       "      <td>1852</td>\n",
       "      <td>3153</td>\n",
       "      <td>2574</td>\n",
       "      <td>1784</td>\n",
       "      <td>2171</td>\n",
       "      <td>1942</td>\n",
       "      <td>1723</td>\n",
       "      <td>1731</td>\n",
       "      <td>2112</td>\n",
       "    </tr>\n",
       "    <tr>\n",
       "      <th>191</th>\n",
       "      <td>Immigrants</td>\n",
       "      <td>Foreigners</td>\n",
       "      <td>Western Sahara</td>\n",
       "      <td>903</td>\n",
       "      <td>Africa</td>\n",
       "      <td>912</td>\n",
       "      <td>Northern Africa</td>\n",
       "      <td>902</td>\n",
       "      <td>Developing regions</td>\n",
       "      <td>0</td>\n",
       "      <td>...</td>\n",
       "      <td>0</td>\n",
       "      <td>0</td>\n",
       "      <td>1</td>\n",
       "      <td>0</td>\n",
       "      <td>0</td>\n",
       "      <td>0</td>\n",
       "      <td>0</td>\n",
       "      <td>0</td>\n",
       "      <td>0</td>\n",
       "      <td>0</td>\n",
       "    </tr>\n",
       "    <tr>\n",
       "      <th>192</th>\n",
       "      <td>Immigrants</td>\n",
       "      <td>Foreigners</td>\n",
       "      <td>Yemen</td>\n",
       "      <td>935</td>\n",
       "      <td>Asia</td>\n",
       "      <td>922</td>\n",
       "      <td>Western Asia</td>\n",
       "      <td>902</td>\n",
       "      <td>Developing regions</td>\n",
       "      <td>1</td>\n",
       "      <td>...</td>\n",
       "      <td>124</td>\n",
       "      <td>161</td>\n",
       "      <td>140</td>\n",
       "      <td>122</td>\n",
       "      <td>133</td>\n",
       "      <td>128</td>\n",
       "      <td>211</td>\n",
       "      <td>160</td>\n",
       "      <td>174</td>\n",
       "      <td>217</td>\n",
       "    </tr>\n",
       "    <tr>\n",
       "      <th>193</th>\n",
       "      <td>Immigrants</td>\n",
       "      <td>Foreigners</td>\n",
       "      <td>Zambia</td>\n",
       "      <td>903</td>\n",
       "      <td>Africa</td>\n",
       "      <td>910</td>\n",
       "      <td>Eastern Africa</td>\n",
       "      <td>902</td>\n",
       "      <td>Developing regions</td>\n",
       "      <td>11</td>\n",
       "      <td>...</td>\n",
       "      <td>56</td>\n",
       "      <td>91</td>\n",
       "      <td>77</td>\n",
       "      <td>71</td>\n",
       "      <td>64</td>\n",
       "      <td>60</td>\n",
       "      <td>102</td>\n",
       "      <td>69</td>\n",
       "      <td>46</td>\n",
       "      <td>59</td>\n",
       "    </tr>\n",
       "    <tr>\n",
       "      <th>194</th>\n",
       "      <td>Immigrants</td>\n",
       "      <td>Foreigners</td>\n",
       "      <td>Zimbabwe</td>\n",
       "      <td>903</td>\n",
       "      <td>Africa</td>\n",
       "      <td>910</td>\n",
       "      <td>Eastern Africa</td>\n",
       "      <td>902</td>\n",
       "      <td>Developing regions</td>\n",
       "      <td>72</td>\n",
       "      <td>...</td>\n",
       "      <td>1450</td>\n",
       "      <td>615</td>\n",
       "      <td>454</td>\n",
       "      <td>663</td>\n",
       "      <td>611</td>\n",
       "      <td>508</td>\n",
       "      <td>494</td>\n",
       "      <td>434</td>\n",
       "      <td>437</td>\n",
       "      <td>407</td>\n",
       "    </tr>\n",
       "  </tbody>\n",
       "</table>\n",
       "<p>5 rows × 43 columns</p>\n",
       "</div>"
      ],
      "text/plain": [
       "           Type    Coverage          OdName  AREA AreaName  REG  \\\n",
       "190  Immigrants  Foreigners        Viet Nam   935     Asia  920   \n",
       "191  Immigrants  Foreigners  Western Sahara   903   Africa  912   \n",
       "192  Immigrants  Foreigners           Yemen   935     Asia  922   \n",
       "193  Immigrants  Foreigners          Zambia   903   Africa  910   \n",
       "194  Immigrants  Foreigners        Zimbabwe   903   Africa  910   \n",
       "\n",
       "                RegName  DEV             DevName  1980  ...  2004  2005  2006  \\\n",
       "190  South-Eastern Asia  902  Developing regions  1191  ...  1816  1852  3153   \n",
       "191     Northern Africa  902  Developing regions     0  ...     0     0     1   \n",
       "192        Western Asia  902  Developing regions     1  ...   124   161   140   \n",
       "193      Eastern Africa  902  Developing regions    11  ...    56    91    77   \n",
       "194      Eastern Africa  902  Developing regions    72  ...  1450   615   454   \n",
       "\n",
       "     2007  2008  2009  2010  2011  2012  2013  \n",
       "190  2574  1784  2171  1942  1723  1731  2112  \n",
       "191     0     0     0     0     0     0     0  \n",
       "192   122   133   128   211   160   174   217  \n",
       "193    71    64    60   102    69    46    59  \n",
       "194   663   611   508   494   434   437   407  \n",
       "\n",
       "[5 rows x 43 columns]"
      ]
     },
     "execution_count": 6,
     "metadata": {},
     "output_type": "execute_result"
    }
   ],
   "source": [
    "df_can.tail()"
   ]
  },
  {
   "cell_type": "markdown",
   "metadata": {
    "button": false,
    "new_sheet": false,
    "run_control": {
     "read_only": false
    }
   },
   "source": [
    "When analyzing a dataset, it's always a good idea to start by getting basic information about your dataframe. We can do this by using the `info()` method.\n",
    "\n",
    "This method can be used to get a short summary of the dataframe.\n"
   ]
  },
  {
   "cell_type": "code",
   "execution_count": 9,
   "metadata": {},
   "outputs": [
    {
     "name": "stdout",
     "output_type": "stream",
     "text": [
      "<class 'pandas.core.frame.DataFrame'>\n",
      "RangeIndex: 195 entries, 0 to 194\n",
      "Columns: 43 entries, Type to 2013\n",
      "dtypes: int64(37), object(6)\n",
      "memory usage: 65.6+ KB\n"
     ]
    }
   ],
   "source": [
    "df_can.info(verbose=False)"
   ]
  },
  {
   "cell_type": "markdown",
   "metadata": {
    "button": false,
    "new_sheet": false,
    "run_control": {
     "read_only": false
    }
   },
   "source": [
    "To get the list of column headers we can call upon the data frame's `columns` instance variable.\n"
   ]
  },
  {
   "cell_type": "code",
   "execution_count": 10,
   "metadata": {
    "button": false,
    "new_sheet": false,
    "run_control": {
     "read_only": false
    },
    "scrolled": false
   },
   "outputs": [
    {
     "data": {
      "text/plain": [
       "Index([    'Type', 'Coverage',   'OdName',     'AREA', 'AreaName',      'REG',\n",
       "        'RegName',      'DEV',  'DevName',       1980,       1981,       1982,\n",
       "             1983,       1984,       1985,       1986,       1987,       1988,\n",
       "             1989,       1990,       1991,       1992,       1993,       1994,\n",
       "             1995,       1996,       1997,       1998,       1999,       2000,\n",
       "             2001,       2002,       2003,       2004,       2005,       2006,\n",
       "             2007,       2008,       2009,       2010,       2011,       2012,\n",
       "             2013],\n",
       "      dtype='object')"
      ]
     },
     "execution_count": 10,
     "metadata": {},
     "output_type": "execute_result"
    }
   ],
   "source": [
    "df_can.columns"
   ]
  },
  {
   "cell_type": "markdown",
   "metadata": {
    "button": false,
    "new_sheet": false,
    "run_control": {
     "read_only": false
    }
   },
   "source": [
    "Similarly, to get the list of indices we use the `.index` instance variables.\n"
   ]
  },
  {
   "cell_type": "code",
   "execution_count": 11,
   "metadata": {
    "button": false,
    "new_sheet": false,
    "run_control": {
     "read_only": false
    },
    "scrolled": true
   },
   "outputs": [
    {
     "data": {
      "text/plain": [
       "RangeIndex(start=0, stop=195, step=1)"
      ]
     },
     "execution_count": 11,
     "metadata": {},
     "output_type": "execute_result"
    }
   ],
   "source": [
    "df_can.index"
   ]
  },
  {
   "cell_type": "markdown",
   "metadata": {
    "button": false,
    "new_sheet": false,
    "run_control": {
     "read_only": false
    }
   },
   "source": [
    "Note: The default type of intance variables `index` and `columns` are **NOT** `list`.\n"
   ]
  },
  {
   "cell_type": "code",
   "execution_count": 12,
   "metadata": {
    "button": false,
    "new_sheet": false,
    "run_control": {
     "read_only": false
    },
    "scrolled": false
   },
   "outputs": [
    {
     "name": "stdout",
     "output_type": "stream",
     "text": [
      "<class 'pandas.core.indexes.base.Index'>\n",
      "<class 'pandas.core.indexes.range.RangeIndex'>\n"
     ]
    }
   ],
   "source": [
    "print(type(df_can.columns))\n",
    "print(type(df_can.index))"
   ]
  },
  {
   "cell_type": "markdown",
   "metadata": {
    "button": false,
    "new_sheet": false,
    "run_control": {
     "read_only": false
    }
   },
   "source": [
    "To get the index and columns as lists, we can use the `tolist()` method.\n"
   ]
  },
  {
   "cell_type": "code",
   "execution_count": 13,
   "metadata": {
    "pycharm": {
     "name": "#%%\n"
    }
   },
   "outputs": [
    {
     "data": {
      "text/plain": [
       "['Type',\n",
       " 'Coverage',\n",
       " 'OdName',\n",
       " 'AREA',\n",
       " 'AreaName',\n",
       " 'REG',\n",
       " 'RegName',\n",
       " 'DEV',\n",
       " 'DevName',\n",
       " 1980,\n",
       " 1981,\n",
       " 1982,\n",
       " 1983,\n",
       " 1984,\n",
       " 1985,\n",
       " 1986,\n",
       " 1987,\n",
       " 1988,\n",
       " 1989,\n",
       " 1990,\n",
       " 1991,\n",
       " 1992,\n",
       " 1993,\n",
       " 1994,\n",
       " 1995,\n",
       " 1996,\n",
       " 1997,\n",
       " 1998,\n",
       " 1999,\n",
       " 2000,\n",
       " 2001,\n",
       " 2002,\n",
       " 2003,\n",
       " 2004,\n",
       " 2005,\n",
       " 2006,\n",
       " 2007,\n",
       " 2008,\n",
       " 2009,\n",
       " 2010,\n",
       " 2011,\n",
       " 2012,\n",
       " 2013]"
      ]
     },
     "execution_count": 13,
     "metadata": {},
     "output_type": "execute_result"
    }
   ],
   "source": [
    "df_can.columns.tolist()"
   ]
  },
  {
   "cell_type": "code",
   "execution_count": 14,
   "metadata": {
    "pycharm": {
     "name": "#%%\n"
    }
   },
   "outputs": [
    {
     "data": {
      "text/plain": [
       "[0,\n",
       " 1,\n",
       " 2,\n",
       " 3,\n",
       " 4,\n",
       " 5,\n",
       " 6,\n",
       " 7,\n",
       " 8,\n",
       " 9,\n",
       " 10,\n",
       " 11,\n",
       " 12,\n",
       " 13,\n",
       " 14,\n",
       " 15,\n",
       " 16,\n",
       " 17,\n",
       " 18,\n",
       " 19,\n",
       " 20,\n",
       " 21,\n",
       " 22,\n",
       " 23,\n",
       " 24,\n",
       " 25,\n",
       " 26,\n",
       " 27,\n",
       " 28,\n",
       " 29,\n",
       " 30,\n",
       " 31,\n",
       " 32,\n",
       " 33,\n",
       " 34,\n",
       " 35,\n",
       " 36,\n",
       " 37,\n",
       " 38,\n",
       " 39,\n",
       " 40,\n",
       " 41,\n",
       " 42,\n",
       " 43,\n",
       " 44,\n",
       " 45,\n",
       " 46,\n",
       " 47,\n",
       " 48,\n",
       " 49,\n",
       " 50,\n",
       " 51,\n",
       " 52,\n",
       " 53,\n",
       " 54,\n",
       " 55,\n",
       " 56,\n",
       " 57,\n",
       " 58,\n",
       " 59,\n",
       " 60,\n",
       " 61,\n",
       " 62,\n",
       " 63,\n",
       " 64,\n",
       " 65,\n",
       " 66,\n",
       " 67,\n",
       " 68,\n",
       " 69,\n",
       " 70,\n",
       " 71,\n",
       " 72,\n",
       " 73,\n",
       " 74,\n",
       " 75,\n",
       " 76,\n",
       " 77,\n",
       " 78,\n",
       " 79,\n",
       " 80,\n",
       " 81,\n",
       " 82,\n",
       " 83,\n",
       " 84,\n",
       " 85,\n",
       " 86,\n",
       " 87,\n",
       " 88,\n",
       " 89,\n",
       " 90,\n",
       " 91,\n",
       " 92,\n",
       " 93,\n",
       " 94,\n",
       " 95,\n",
       " 96,\n",
       " 97,\n",
       " 98,\n",
       " 99,\n",
       " 100,\n",
       " 101,\n",
       " 102,\n",
       " 103,\n",
       " 104,\n",
       " 105,\n",
       " 106,\n",
       " 107,\n",
       " 108,\n",
       " 109,\n",
       " 110,\n",
       " 111,\n",
       " 112,\n",
       " 113,\n",
       " 114,\n",
       " 115,\n",
       " 116,\n",
       " 117,\n",
       " 118,\n",
       " 119,\n",
       " 120,\n",
       " 121,\n",
       " 122,\n",
       " 123,\n",
       " 124,\n",
       " 125,\n",
       " 126,\n",
       " 127,\n",
       " 128,\n",
       " 129,\n",
       " 130,\n",
       " 131,\n",
       " 132,\n",
       " 133,\n",
       " 134,\n",
       " 135,\n",
       " 136,\n",
       " 137,\n",
       " 138,\n",
       " 139,\n",
       " 140,\n",
       " 141,\n",
       " 142,\n",
       " 143,\n",
       " 144,\n",
       " 145,\n",
       " 146,\n",
       " 147,\n",
       " 148,\n",
       " 149,\n",
       " 150,\n",
       " 151,\n",
       " 152,\n",
       " 153,\n",
       " 154,\n",
       " 155,\n",
       " 156,\n",
       " 157,\n",
       " 158,\n",
       " 159,\n",
       " 160,\n",
       " 161,\n",
       " 162,\n",
       " 163,\n",
       " 164,\n",
       " 165,\n",
       " 166,\n",
       " 167,\n",
       " 168,\n",
       " 169,\n",
       " 170,\n",
       " 171,\n",
       " 172,\n",
       " 173,\n",
       " 174,\n",
       " 175,\n",
       " 176,\n",
       " 177,\n",
       " 178,\n",
       " 179,\n",
       " 180,\n",
       " 181,\n",
       " 182,\n",
       " 183,\n",
       " 184,\n",
       " 185,\n",
       " 186,\n",
       " 187,\n",
       " 188,\n",
       " 189,\n",
       " 190,\n",
       " 191,\n",
       " 192,\n",
       " 193,\n",
       " 194]"
      ]
     },
     "execution_count": 14,
     "metadata": {},
     "output_type": "execute_result"
    }
   ],
   "source": [
    "df_can.index.tolist()"
   ]
  },
  {
   "cell_type": "code",
   "execution_count": 15,
   "metadata": {
    "button": false,
    "new_sheet": false,
    "run_control": {
     "read_only": false
    },
    "scrolled": false
   },
   "outputs": [
    {
     "name": "stdout",
     "output_type": "stream",
     "text": [
      "<class 'list'>\n",
      "<class 'list'>\n"
     ]
    }
   ],
   "source": [
    "print(type(df_can.columns.tolist()))\n",
    "print(type(df_can.index.tolist()))"
   ]
  },
  {
   "cell_type": "markdown",
   "metadata": {
    "button": false,
    "new_sheet": false,
    "run_control": {
     "read_only": false
    }
   },
   "source": [
    "To view the dimensions of the dataframe, we use the `shape` instance variable of it.\n"
   ]
  },
  {
   "cell_type": "code",
   "execution_count": 16,
   "metadata": {
    "button": false,
    "new_sheet": false,
    "run_control": {
     "read_only": false
    },
    "scrolled": false
   },
   "outputs": [
    {
     "data": {
      "text/plain": [
       "(195, 43)"
      ]
     },
     "execution_count": 16,
     "metadata": {},
     "output_type": "execute_result"
    }
   ],
   "source": [
    "# size of dataframe (rows, columns)\n",
    "df_can.shape    "
   ]
  },
  {
   "cell_type": "markdown",
   "metadata": {
    "button": false,
    "new_sheet": false,
    "run_control": {
     "read_only": false
    }
   },
   "source": [
    "**Note**: The main types stored in *pandas* objects are `float`, `int`, `bool`, `datetime64[ns]`, `datetime64[ns, tz]`, `timedelta[ns]`, `category`, and `object` (string). In addition, these dtypes have item sizes, e.g. `int64` and `int32`.\n"
   ]
  },
  {
   "cell_type": "markdown",
   "metadata": {
    "button": false,
    "new_sheet": false,
    "run_control": {
     "read_only": false
    }
   },
   "source": [
    "Let's clean the data set to remove a few unnecessary columns. We can use *pandas* `drop()` method as follows:\n"
   ]
  },
  {
   "cell_type": "code",
   "execution_count": 17,
   "metadata": {
    "button": false,
    "new_sheet": false,
    "run_control": {
     "read_only": false
    },
    "scrolled": false
   },
   "outputs": [
    {
     "data": {
      "text/html": [
       "<div>\n",
       "<style scoped>\n",
       "    .dataframe tbody tr th:only-of-type {\n",
       "        vertical-align: middle;\n",
       "    }\n",
       "\n",
       "    .dataframe tbody tr th {\n",
       "        vertical-align: top;\n",
       "    }\n",
       "\n",
       "    .dataframe thead th {\n",
       "        text-align: right;\n",
       "    }\n",
       "</style>\n",
       "<table border=\"1\" class=\"dataframe\">\n",
       "  <thead>\n",
       "    <tr style=\"text-align: right;\">\n",
       "      <th></th>\n",
       "      <th>OdName</th>\n",
       "      <th>AreaName</th>\n",
       "      <th>RegName</th>\n",
       "      <th>DevName</th>\n",
       "      <th>1980</th>\n",
       "      <th>1981</th>\n",
       "      <th>1982</th>\n",
       "      <th>1983</th>\n",
       "      <th>1984</th>\n",
       "      <th>1985</th>\n",
       "      <th>...</th>\n",
       "      <th>2004</th>\n",
       "      <th>2005</th>\n",
       "      <th>2006</th>\n",
       "      <th>2007</th>\n",
       "      <th>2008</th>\n",
       "      <th>2009</th>\n",
       "      <th>2010</th>\n",
       "      <th>2011</th>\n",
       "      <th>2012</th>\n",
       "      <th>2013</th>\n",
       "    </tr>\n",
       "  </thead>\n",
       "  <tbody>\n",
       "    <tr>\n",
       "      <th>0</th>\n",
       "      <td>Afghanistan</td>\n",
       "      <td>Asia</td>\n",
       "      <td>Southern Asia</td>\n",
       "      <td>Developing regions</td>\n",
       "      <td>16</td>\n",
       "      <td>39</td>\n",
       "      <td>39</td>\n",
       "      <td>47</td>\n",
       "      <td>71</td>\n",
       "      <td>340</td>\n",
       "      <td>...</td>\n",
       "      <td>2978</td>\n",
       "      <td>3436</td>\n",
       "      <td>3009</td>\n",
       "      <td>2652</td>\n",
       "      <td>2111</td>\n",
       "      <td>1746</td>\n",
       "      <td>1758</td>\n",
       "      <td>2203</td>\n",
       "      <td>2635</td>\n",
       "      <td>2004</td>\n",
       "    </tr>\n",
       "    <tr>\n",
       "      <th>1</th>\n",
       "      <td>Albania</td>\n",
       "      <td>Europe</td>\n",
       "      <td>Southern Europe</td>\n",
       "      <td>Developed regions</td>\n",
       "      <td>1</td>\n",
       "      <td>0</td>\n",
       "      <td>0</td>\n",
       "      <td>0</td>\n",
       "      <td>0</td>\n",
       "      <td>0</td>\n",
       "      <td>...</td>\n",
       "      <td>1450</td>\n",
       "      <td>1223</td>\n",
       "      <td>856</td>\n",
       "      <td>702</td>\n",
       "      <td>560</td>\n",
       "      <td>716</td>\n",
       "      <td>561</td>\n",
       "      <td>539</td>\n",
       "      <td>620</td>\n",
       "      <td>603</td>\n",
       "    </tr>\n",
       "  </tbody>\n",
       "</table>\n",
       "<p>2 rows × 38 columns</p>\n",
       "</div>"
      ],
      "text/plain": [
       "        OdName AreaName          RegName             DevName  1980  1981  \\\n",
       "0  Afghanistan     Asia    Southern Asia  Developing regions    16    39   \n",
       "1      Albania   Europe  Southern Europe   Developed regions     1     0   \n",
       "\n",
       "   1982  1983  1984  1985  ...  2004  2005  2006  2007  2008  2009  2010  \\\n",
       "0    39    47    71   340  ...  2978  3436  3009  2652  2111  1746  1758   \n",
       "1     0     0     0     0  ...  1450  1223   856   702   560   716   561   \n",
       "\n",
       "   2011  2012  2013  \n",
       "0  2203  2635  2004  \n",
       "1   539   620   603  \n",
       "\n",
       "[2 rows x 38 columns]"
      ]
     },
     "execution_count": 17,
     "metadata": {},
     "output_type": "execute_result"
    }
   ],
   "source": [
    "# in pandas axis=0 represents rows (default) and axis=1 represents columns.\n",
    "df_can.drop(['AREA','REG','DEV','Type','Coverage'], axis=1, inplace=True)\n",
    "df_can.head(2)"
   ]
  },
  {
   "cell_type": "markdown",
   "metadata": {
    "button": false,
    "new_sheet": false,
    "run_control": {
     "read_only": false
    }
   },
   "source": [
    "Let's rename the columns so that they make sense. We can use `rename()` method by passing in a dictionary of old and new names as follows:\n"
   ]
  },
  {
   "cell_type": "code",
   "execution_count": 18,
   "metadata": {
    "button": false,
    "new_sheet": false,
    "run_control": {
     "read_only": false
    },
    "scrolled": false
   },
   "outputs": [
    {
     "data": {
      "text/plain": [
       "Index([  'Country', 'Continent',    'Region',   'DevName',        1980,\n",
       "              1981,        1982,        1983,        1984,        1985,\n",
       "              1986,        1987,        1988,        1989,        1990,\n",
       "              1991,        1992,        1993,        1994,        1995,\n",
       "              1996,        1997,        1998,        1999,        2000,\n",
       "              2001,        2002,        2003,        2004,        2005,\n",
       "              2006,        2007,        2008,        2009,        2010,\n",
       "              2011,        2012,        2013],\n",
       "      dtype='object')"
      ]
     },
     "execution_count": 18,
     "metadata": {},
     "output_type": "execute_result"
    }
   ],
   "source": [
    "df_can.rename(columns={'OdName':'Country', 'AreaName':'Continent', 'RegName':'Region'}, inplace=True)\n",
    "df_can.columns"
   ]
  },
  {
   "cell_type": "markdown",
   "metadata": {
    "button": false,
    "new_sheet": false,
    "run_control": {
     "read_only": false
    }
   },
   "source": [
    "We will also add a 'Total' column that sums up the total immigrants by country over the entire period 1980 - 2013, as follows:\n"
   ]
  },
  {
   "cell_type": "code",
   "execution_count": 21,
   "metadata": {
    "button": false,
    "new_sheet": false,
    "run_control": {
     "read_only": false
    },
    "scrolled": false
   },
   "outputs": [],
   "source": [
    "df_can['Total'] = df_can.sum(axis=1, numeric_only=True)"
   ]
  },
  {
   "cell_type": "markdown",
   "metadata": {
    "button": false,
    "new_sheet": false,
    "run_control": {
     "read_only": false
    }
   },
   "source": [
    "We can check to see how many null objects we have in the dataset as follows:\n"
   ]
  },
  {
   "cell_type": "code",
   "execution_count": 23,
   "metadata": {
    "button": false,
    "new_sheet": false,
    "run_control": {
     "read_only": false
    },
    "scrolled": true
   },
   "outputs": [
    {
     "data": {
      "text/plain": [
       "0"
      ]
     },
     "execution_count": 23,
     "metadata": {},
     "output_type": "execute_result"
    }
   ],
   "source": [
    "df_can.isnull().sum().sum()"
   ]
  },
  {
   "cell_type": "markdown",
   "metadata": {
    "button": false,
    "new_sheet": false,
    "run_control": {
     "read_only": false
    }
   },
   "source": [
    "Finally, let's view a quick summary of each column in our dataframe using the `describe()` method.\n"
   ]
  },
  {
   "cell_type": "code",
   "execution_count": 24,
   "metadata": {
    "button": false,
    "new_sheet": false,
    "run_control": {
     "read_only": false
    },
    "scrolled": false
   },
   "outputs": [
    {
     "data": {
      "text/html": [
       "<div>\n",
       "<style scoped>\n",
       "    .dataframe tbody tr th:only-of-type {\n",
       "        vertical-align: middle;\n",
       "    }\n",
       "\n",
       "    .dataframe tbody tr th {\n",
       "        vertical-align: top;\n",
       "    }\n",
       "\n",
       "    .dataframe thead th {\n",
       "        text-align: right;\n",
       "    }\n",
       "</style>\n",
       "<table border=\"1\" class=\"dataframe\">\n",
       "  <thead>\n",
       "    <tr style=\"text-align: right;\">\n",
       "      <th></th>\n",
       "      <th>1980</th>\n",
       "      <th>1981</th>\n",
       "      <th>1982</th>\n",
       "      <th>1983</th>\n",
       "      <th>1984</th>\n",
       "      <th>1985</th>\n",
       "      <th>1986</th>\n",
       "      <th>1987</th>\n",
       "      <th>1988</th>\n",
       "      <th>1989</th>\n",
       "      <th>...</th>\n",
       "      <th>2005</th>\n",
       "      <th>2006</th>\n",
       "      <th>2007</th>\n",
       "      <th>2008</th>\n",
       "      <th>2009</th>\n",
       "      <th>2010</th>\n",
       "      <th>2011</th>\n",
       "      <th>2012</th>\n",
       "      <th>2013</th>\n",
       "      <th>Total</th>\n",
       "    </tr>\n",
       "  </thead>\n",
       "  <tbody>\n",
       "    <tr>\n",
       "      <th>count</th>\n",
       "      <td>195.000000</td>\n",
       "      <td>195.000000</td>\n",
       "      <td>195.000000</td>\n",
       "      <td>195.000000</td>\n",
       "      <td>195.000000</td>\n",
       "      <td>195.000000</td>\n",
       "      <td>195.000000</td>\n",
       "      <td>195.000000</td>\n",
       "      <td>195.000000</td>\n",
       "      <td>195.000000</td>\n",
       "      <td>...</td>\n",
       "      <td>195.000000</td>\n",
       "      <td>195.000000</td>\n",
       "      <td>195.000000</td>\n",
       "      <td>195.000000</td>\n",
       "      <td>195.000000</td>\n",
       "      <td>195.000000</td>\n",
       "      <td>195.000000</td>\n",
       "      <td>195.000000</td>\n",
       "      <td>195.000000</td>\n",
       "      <td>1.950000e+02</td>\n",
       "    </tr>\n",
       "    <tr>\n",
       "      <th>mean</th>\n",
       "      <td>508.394872</td>\n",
       "      <td>566.989744</td>\n",
       "      <td>534.723077</td>\n",
       "      <td>387.435897</td>\n",
       "      <td>376.497436</td>\n",
       "      <td>358.861538</td>\n",
       "      <td>441.271795</td>\n",
       "      <td>691.133333</td>\n",
       "      <td>714.389744</td>\n",
       "      <td>843.241026</td>\n",
       "      <td>...</td>\n",
       "      <td>1320.292308</td>\n",
       "      <td>1266.958974</td>\n",
       "      <td>1191.820513</td>\n",
       "      <td>1246.394872</td>\n",
       "      <td>1275.733333</td>\n",
       "      <td>1420.287179</td>\n",
       "      <td>1262.533333</td>\n",
       "      <td>1313.958974</td>\n",
       "      <td>1320.702564</td>\n",
       "      <td>9.860235e+04</td>\n",
       "    </tr>\n",
       "    <tr>\n",
       "      <th>std</th>\n",
       "      <td>1949.588546</td>\n",
       "      <td>2152.643752</td>\n",
       "      <td>1866.997511</td>\n",
       "      <td>1204.333597</td>\n",
       "      <td>1198.246371</td>\n",
       "      <td>1079.309600</td>\n",
       "      <td>1225.576630</td>\n",
       "      <td>2109.205607</td>\n",
       "      <td>2443.606788</td>\n",
       "      <td>2555.048874</td>\n",
       "      <td>...</td>\n",
       "      <td>4425.957828</td>\n",
       "      <td>3926.717747</td>\n",
       "      <td>3443.542409</td>\n",
       "      <td>3694.573544</td>\n",
       "      <td>3829.630424</td>\n",
       "      <td>4462.946328</td>\n",
       "      <td>4030.084313</td>\n",
       "      <td>4247.555161</td>\n",
       "      <td>4237.951988</td>\n",
       "      <td>2.753565e+05</td>\n",
       "    </tr>\n",
       "    <tr>\n",
       "      <th>min</th>\n",
       "      <td>0.000000</td>\n",
       "      <td>0.000000</td>\n",
       "      <td>0.000000</td>\n",
       "      <td>0.000000</td>\n",
       "      <td>0.000000</td>\n",
       "      <td>0.000000</td>\n",
       "      <td>0.000000</td>\n",
       "      <td>0.000000</td>\n",
       "      <td>0.000000</td>\n",
       "      <td>0.000000</td>\n",
       "      <td>...</td>\n",
       "      <td>0.000000</td>\n",
       "      <td>0.000000</td>\n",
       "      <td>0.000000</td>\n",
       "      <td>0.000000</td>\n",
       "      <td>0.000000</td>\n",
       "      <td>0.000000</td>\n",
       "      <td>0.000000</td>\n",
       "      <td>0.000000</td>\n",
       "      <td>0.000000</td>\n",
       "      <td>3.000000e+00</td>\n",
       "    </tr>\n",
       "    <tr>\n",
       "      <th>25%</th>\n",
       "      <td>0.000000</td>\n",
       "      <td>0.000000</td>\n",
       "      <td>0.000000</td>\n",
       "      <td>0.000000</td>\n",
       "      <td>0.000000</td>\n",
       "      <td>0.000000</td>\n",
       "      <td>0.500000</td>\n",
       "      <td>0.500000</td>\n",
       "      <td>1.000000</td>\n",
       "      <td>1.000000</td>\n",
       "      <td>...</td>\n",
       "      <td>28.500000</td>\n",
       "      <td>25.000000</td>\n",
       "      <td>31.000000</td>\n",
       "      <td>31.000000</td>\n",
       "      <td>36.000000</td>\n",
       "      <td>40.500000</td>\n",
       "      <td>37.500000</td>\n",
       "      <td>42.500000</td>\n",
       "      <td>45.000000</td>\n",
       "      <td>2.856000e+03</td>\n",
       "    </tr>\n",
       "    <tr>\n",
       "      <th>50%</th>\n",
       "      <td>13.000000</td>\n",
       "      <td>10.000000</td>\n",
       "      <td>11.000000</td>\n",
       "      <td>12.000000</td>\n",
       "      <td>13.000000</td>\n",
       "      <td>17.000000</td>\n",
       "      <td>18.000000</td>\n",
       "      <td>26.000000</td>\n",
       "      <td>34.000000</td>\n",
       "      <td>44.000000</td>\n",
       "      <td>...</td>\n",
       "      <td>210.000000</td>\n",
       "      <td>218.000000</td>\n",
       "      <td>198.000000</td>\n",
       "      <td>205.000000</td>\n",
       "      <td>214.000000</td>\n",
       "      <td>211.000000</td>\n",
       "      <td>179.000000</td>\n",
       "      <td>233.000000</td>\n",
       "      <td>213.000000</td>\n",
       "      <td>1.505400e+04</td>\n",
       "    </tr>\n",
       "    <tr>\n",
       "      <th>75%</th>\n",
       "      <td>251.500000</td>\n",
       "      <td>295.500000</td>\n",
       "      <td>275.000000</td>\n",
       "      <td>173.000000</td>\n",
       "      <td>181.000000</td>\n",
       "      <td>197.000000</td>\n",
       "      <td>254.000000</td>\n",
       "      <td>434.000000</td>\n",
       "      <td>409.000000</td>\n",
       "      <td>508.500000</td>\n",
       "      <td>...</td>\n",
       "      <td>832.000000</td>\n",
       "      <td>842.000000</td>\n",
       "      <td>899.000000</td>\n",
       "      <td>934.500000</td>\n",
       "      <td>888.000000</td>\n",
       "      <td>932.000000</td>\n",
       "      <td>772.000000</td>\n",
       "      <td>783.000000</td>\n",
       "      <td>796.000000</td>\n",
       "      <td>6.671850e+04</td>\n",
       "    </tr>\n",
       "    <tr>\n",
       "      <th>max</th>\n",
       "      <td>22045.000000</td>\n",
       "      <td>24796.000000</td>\n",
       "      <td>20620.000000</td>\n",
       "      <td>10015.000000</td>\n",
       "      <td>10170.000000</td>\n",
       "      <td>9564.000000</td>\n",
       "      <td>9470.000000</td>\n",
       "      <td>21337.000000</td>\n",
       "      <td>27359.000000</td>\n",
       "      <td>23795.000000</td>\n",
       "      <td>...</td>\n",
       "      <td>42584.000000</td>\n",
       "      <td>33848.000000</td>\n",
       "      <td>28742.000000</td>\n",
       "      <td>30037.000000</td>\n",
       "      <td>29622.000000</td>\n",
       "      <td>38617.000000</td>\n",
       "      <td>36765.000000</td>\n",
       "      <td>34315.000000</td>\n",
       "      <td>34129.000000</td>\n",
       "      <td>2.075712e+06</td>\n",
       "    </tr>\n",
       "  </tbody>\n",
       "</table>\n",
       "<p>8 rows × 35 columns</p>\n",
       "</div>"
      ],
      "text/plain": [
       "               1980          1981          1982          1983          1984  \\\n",
       "count    195.000000    195.000000    195.000000    195.000000    195.000000   \n",
       "mean     508.394872    566.989744    534.723077    387.435897    376.497436   \n",
       "std     1949.588546   2152.643752   1866.997511   1204.333597   1198.246371   \n",
       "min        0.000000      0.000000      0.000000      0.000000      0.000000   \n",
       "25%        0.000000      0.000000      0.000000      0.000000      0.000000   \n",
       "50%       13.000000     10.000000     11.000000     12.000000     13.000000   \n",
       "75%      251.500000    295.500000    275.000000    173.000000    181.000000   \n",
       "max    22045.000000  24796.000000  20620.000000  10015.000000  10170.000000   \n",
       "\n",
       "              1985         1986          1987          1988          1989  \\\n",
       "count   195.000000   195.000000    195.000000    195.000000    195.000000   \n",
       "mean    358.861538   441.271795    691.133333    714.389744    843.241026   \n",
       "std    1079.309600  1225.576630   2109.205607   2443.606788   2555.048874   \n",
       "min       0.000000     0.000000      0.000000      0.000000      0.000000   \n",
       "25%       0.000000     0.500000      0.500000      1.000000      1.000000   \n",
       "50%      17.000000    18.000000     26.000000     34.000000     44.000000   \n",
       "75%     197.000000   254.000000    434.000000    409.000000    508.500000   \n",
       "max    9564.000000  9470.000000  21337.000000  27359.000000  23795.000000   \n",
       "\n",
       "       ...          2005          2006          2007          2008  \\\n",
       "count  ...    195.000000    195.000000    195.000000    195.000000   \n",
       "mean   ...   1320.292308   1266.958974   1191.820513   1246.394872   \n",
       "std    ...   4425.957828   3926.717747   3443.542409   3694.573544   \n",
       "min    ...      0.000000      0.000000      0.000000      0.000000   \n",
       "25%    ...     28.500000     25.000000     31.000000     31.000000   \n",
       "50%    ...    210.000000    218.000000    198.000000    205.000000   \n",
       "75%    ...    832.000000    842.000000    899.000000    934.500000   \n",
       "max    ...  42584.000000  33848.000000  28742.000000  30037.000000   \n",
       "\n",
       "               2009          2010          2011          2012          2013  \\\n",
       "count    195.000000    195.000000    195.000000    195.000000    195.000000   \n",
       "mean    1275.733333   1420.287179   1262.533333   1313.958974   1320.702564   \n",
       "std     3829.630424   4462.946328   4030.084313   4247.555161   4237.951988   \n",
       "min        0.000000      0.000000      0.000000      0.000000      0.000000   \n",
       "25%       36.000000     40.500000     37.500000     42.500000     45.000000   \n",
       "50%      214.000000    211.000000    179.000000    233.000000    213.000000   \n",
       "75%      888.000000    932.000000    772.000000    783.000000    796.000000   \n",
       "max    29622.000000  38617.000000  36765.000000  34315.000000  34129.000000   \n",
       "\n",
       "              Total  \n",
       "count  1.950000e+02  \n",
       "mean   9.860235e+04  \n",
       "std    2.753565e+05  \n",
       "min    3.000000e+00  \n",
       "25%    2.856000e+03  \n",
       "50%    1.505400e+04  \n",
       "75%    6.671850e+04  \n",
       "max    2.075712e+06  \n",
       "\n",
       "[8 rows x 35 columns]"
      ]
     },
     "execution_count": 24,
     "metadata": {},
     "output_type": "execute_result"
    }
   ],
   "source": [
    "df_can.describe()"
   ]
  },
  {
   "cell_type": "markdown",
   "metadata": {
    "button": false,
    "new_sheet": false,
    "run_control": {
     "read_only": false
    }
   },
   "source": [
    "***\n",
    "\n",
    "## *pandas* Intermediate: Indexing and Selection (slicing)<a id=\"6\"></a>\n"
   ]
  },
  {
   "cell_type": "markdown",
   "metadata": {
    "button": false,
    "new_sheet": false,
    "run_control": {
     "read_only": false
    }
   },
   "source": [
    "### Select Column\n",
    "\n",
    "**There are two ways to filter on a column name:**\n",
    "\n",
    "Method 1: Quick and easy, but only works if the column name does NOT have spaces or special characters.\n",
    "\n",
    "```python\n",
    "    df.column_name               # returns series\n",
    "```\n",
    "\n",
    "Method 2: More robust, and can filter on multiple columns.\n",
    "\n",
    "```python\n",
    "    df['column']                  # returns series\n",
    "```\n",
    "\n",
    "```python\n",
    "    df[['column 1', 'column 2']]  # returns dataframe\n",
    "```\n",
    "\n",
    "***\n"
   ]
  },
  {
   "cell_type": "markdown",
   "metadata": {
    "button": false,
    "new_sheet": false,
    "run_control": {
     "read_only": false
    }
   },
   "source": [
    "Example: Let's try filtering on the list of countries ('Country').\n"
   ]
  },
  {
   "cell_type": "code",
   "execution_count": null,
   "metadata": {
    "button": false,
    "new_sheet": false,
    "run_control": {
     "read_only": false
    },
    "scrolled": true
   },
   "outputs": [],
   "source": [
    "df_can.Country  # returns a series"
   ]
  },
  {
   "cell_type": "markdown",
   "metadata": {
    "button": false,
    "new_sheet": false,
    "run_control": {
     "read_only": false
    }
   },
   "source": [
    "Let's try filtering on the list of countries ('Country') and the data for years: 1980 - 1985.\n"
   ]
  },
  {
   "cell_type": "code",
   "execution_count": null,
   "metadata": {
    "button": false,
    "new_sheet": false,
    "run_control": {
     "read_only": false
    }
   },
   "outputs": [],
   "source": [
    "df_can[['Country', 1980, 1981, 1982, 1983, 1984, 1985]] # returns a dataframe\n",
    "# notice that 'Country' is string, and the years are integers. \n",
    "# for the sake of consistency, we will convert all column names to string later on."
   ]
  },
  {
   "cell_type": "markdown",
   "metadata": {
    "button": false,
    "new_sheet": false,
    "run_control": {
     "read_only": false
    }
   },
   "source": [
    "### Select Row\n",
    "\n",
    "There are main 2 ways to select rows:\n",
    "\n",
    "```python\n",
    "    df.loc[label]    # filters by the labels of the index/column\n",
    "    df.iloc[index]   # filters by the positions of the index/column\n",
    "```\n"
   ]
  },
  {
   "cell_type": "markdown",
   "metadata": {
    "button": false,
    "new_sheet": false,
    "run_control": {
     "read_only": false
    }
   },
   "source": [
    "Before we proceed, notice that the default index of the dataset is a numeric range from 0 to 194. This makes it very difficult to do a query by a specific country. For example to search for data on Japan, we need to know the corresponding index value.\n",
    "\n",
    "This can be fixed very easily by setting the 'Country' column as the index using `set_index()` method.\n"
   ]
  },
  {
   "cell_type": "code",
   "execution_count": 25,
   "metadata": {
    "button": false,
    "new_sheet": false,
    "run_control": {
     "read_only": false
    },
    "scrolled": true
   },
   "outputs": [],
   "source": [
    "df_can.set_index('Country', inplace=True)\n",
    "# tip: The opposite of set is reset. So to reset the index, we can use df_can.reset_index()"
   ]
  },
  {
   "cell_type": "code",
   "execution_count": 26,
   "metadata": {
    "button": false,
    "new_sheet": false,
    "run_control": {
     "read_only": false
    },
    "scrolled": false
   },
   "outputs": [
    {
     "data": {
      "text/html": [
       "<div>\n",
       "<style scoped>\n",
       "    .dataframe tbody tr th:only-of-type {\n",
       "        vertical-align: middle;\n",
       "    }\n",
       "\n",
       "    .dataframe tbody tr th {\n",
       "        vertical-align: top;\n",
       "    }\n",
       "\n",
       "    .dataframe thead th {\n",
       "        text-align: right;\n",
       "    }\n",
       "</style>\n",
       "<table border=\"1\" class=\"dataframe\">\n",
       "  <thead>\n",
       "    <tr style=\"text-align: right;\">\n",
       "      <th></th>\n",
       "      <th>Continent</th>\n",
       "      <th>Region</th>\n",
       "      <th>DevName</th>\n",
       "      <th>1980</th>\n",
       "      <th>1981</th>\n",
       "      <th>1982</th>\n",
       "      <th>1983</th>\n",
       "      <th>1984</th>\n",
       "      <th>1985</th>\n",
       "      <th>1986</th>\n",
       "      <th>...</th>\n",
       "      <th>2005</th>\n",
       "      <th>2006</th>\n",
       "      <th>2007</th>\n",
       "      <th>2008</th>\n",
       "      <th>2009</th>\n",
       "      <th>2010</th>\n",
       "      <th>2011</th>\n",
       "      <th>2012</th>\n",
       "      <th>2013</th>\n",
       "      <th>Total</th>\n",
       "    </tr>\n",
       "    <tr>\n",
       "      <th>Country</th>\n",
       "      <th></th>\n",
       "      <th></th>\n",
       "      <th></th>\n",
       "      <th></th>\n",
       "      <th></th>\n",
       "      <th></th>\n",
       "      <th></th>\n",
       "      <th></th>\n",
       "      <th></th>\n",
       "      <th></th>\n",
       "      <th></th>\n",
       "      <th></th>\n",
       "      <th></th>\n",
       "      <th></th>\n",
       "      <th></th>\n",
       "      <th></th>\n",
       "      <th></th>\n",
       "      <th></th>\n",
       "      <th></th>\n",
       "      <th></th>\n",
       "      <th></th>\n",
       "    </tr>\n",
       "  </thead>\n",
       "  <tbody>\n",
       "    <tr>\n",
       "      <th>Afghanistan</th>\n",
       "      <td>Asia</td>\n",
       "      <td>Southern Asia</td>\n",
       "      <td>Developing regions</td>\n",
       "      <td>16</td>\n",
       "      <td>39</td>\n",
       "      <td>39</td>\n",
       "      <td>47</td>\n",
       "      <td>71</td>\n",
       "      <td>340</td>\n",
       "      <td>496</td>\n",
       "      <td>...</td>\n",
       "      <td>3436</td>\n",
       "      <td>3009</td>\n",
       "      <td>2652</td>\n",
       "      <td>2111</td>\n",
       "      <td>1746</td>\n",
       "      <td>1758</td>\n",
       "      <td>2203</td>\n",
       "      <td>2635</td>\n",
       "      <td>2004</td>\n",
       "      <td>175917</td>\n",
       "    </tr>\n",
       "    <tr>\n",
       "      <th>Albania</th>\n",
       "      <td>Europe</td>\n",
       "      <td>Southern Europe</td>\n",
       "      <td>Developed regions</td>\n",
       "      <td>1</td>\n",
       "      <td>0</td>\n",
       "      <td>0</td>\n",
       "      <td>0</td>\n",
       "      <td>0</td>\n",
       "      <td>0</td>\n",
       "      <td>1</td>\n",
       "      <td>...</td>\n",
       "      <td>1223</td>\n",
       "      <td>856</td>\n",
       "      <td>702</td>\n",
       "      <td>560</td>\n",
       "      <td>716</td>\n",
       "      <td>561</td>\n",
       "      <td>539</td>\n",
       "      <td>620</td>\n",
       "      <td>603</td>\n",
       "      <td>47097</td>\n",
       "    </tr>\n",
       "    <tr>\n",
       "      <th>Algeria</th>\n",
       "      <td>Africa</td>\n",
       "      <td>Northern Africa</td>\n",
       "      <td>Developing regions</td>\n",
       "      <td>80</td>\n",
       "      <td>67</td>\n",
       "      <td>71</td>\n",
       "      <td>69</td>\n",
       "      <td>63</td>\n",
       "      <td>44</td>\n",
       "      <td>69</td>\n",
       "      <td>...</td>\n",
       "      <td>3626</td>\n",
       "      <td>4807</td>\n",
       "      <td>3623</td>\n",
       "      <td>4005</td>\n",
       "      <td>5393</td>\n",
       "      <td>4752</td>\n",
       "      <td>4325</td>\n",
       "      <td>3774</td>\n",
       "      <td>4331</td>\n",
       "      <td>208317</td>\n",
       "    </tr>\n",
       "  </tbody>\n",
       "</table>\n",
       "<p>3 rows × 38 columns</p>\n",
       "</div>"
      ],
      "text/plain": [
       "            Continent           Region             DevName  1980  1981  1982  \\\n",
       "Country                                                                        \n",
       "Afghanistan      Asia    Southern Asia  Developing regions    16    39    39   \n",
       "Albania        Europe  Southern Europe   Developed regions     1     0     0   \n",
       "Algeria        Africa  Northern Africa  Developing regions    80    67    71   \n",
       "\n",
       "             1983  1984  1985  1986  ...  2005  2006  2007  2008  2009  2010  \\\n",
       "Country                              ...                                       \n",
       "Afghanistan    47    71   340   496  ...  3436  3009  2652  2111  1746  1758   \n",
       "Albania         0     0     0     1  ...  1223   856   702   560   716   561   \n",
       "Algeria        69    63    44    69  ...  3626  4807  3623  4005  5393  4752   \n",
       "\n",
       "             2011  2012  2013   Total  \n",
       "Country                                \n",
       "Afghanistan  2203  2635  2004  175917  \n",
       "Albania       539   620   603   47097  \n",
       "Algeria      4325  3774  4331  208317  \n",
       "\n",
       "[3 rows x 38 columns]"
      ]
     },
     "execution_count": 26,
     "metadata": {},
     "output_type": "execute_result"
    }
   ],
   "source": [
    "df_can.head(3)"
   ]
  },
  {
   "cell_type": "code",
   "execution_count": 27,
   "metadata": {
    "button": false,
    "new_sheet": false,
    "run_control": {
     "read_only": false
    },
    "scrolled": false
   },
   "outputs": [],
   "source": [
    "# optional: to remove the name of the index\n",
    "df_can.index.name = None"
   ]
  },
  {
   "cell_type": "markdown",
   "metadata": {
    "button": false,
    "new_sheet": false,
    "run_control": {
     "read_only": false
    }
   },
   "source": [
    "Example: Let's view the number of immigrants from Japan (row 87) for the following scenarios:\n",
    "1\\. The full row data (all columns)\n",
    "2\\. For year 2013\n",
    "3\\. For years 1980 to 1985\n"
   ]
  },
  {
   "cell_type": "code",
   "execution_count": 28,
   "metadata": {
    "button": false,
    "new_sheet": false,
    "run_control": {
     "read_only": false
    },
    "scrolled": true
   },
   "outputs": [
    {
     "data": {
      "text/plain": [
       "Continent                 Asia\n",
       "Region            Eastern Asia\n",
       "DevName      Developed regions\n",
       "1980                       701\n",
       "1981                       756\n",
       "1982                       598\n",
       "1983                       309\n",
       "1984                       246\n",
       "1985                       198\n",
       "1986                       248\n",
       "1987                       422\n",
       "1988                       324\n",
       "1989                       494\n",
       "1990                       379\n",
       "1991                       506\n",
       "1992                       605\n",
       "1993                       907\n",
       "1994                       956\n",
       "1995                       826\n",
       "1996                       994\n",
       "1997                       924\n",
       "1998                       897\n",
       "1999                      1083\n",
       "2000                      1010\n",
       "2001                      1092\n",
       "2002                       806\n",
       "2003                       817\n",
       "2004                       973\n",
       "2005                      1067\n",
       "2006                      1212\n",
       "2007                      1250\n",
       "2008                      1284\n",
       "2009                      1194\n",
       "2010                      1168\n",
       "2011                      1265\n",
       "2012                      1214\n",
       "2013                       982\n",
       "Total                    83121\n",
       "Name: Japan, dtype: object"
      ]
     },
     "execution_count": 28,
     "metadata": {},
     "output_type": "execute_result"
    }
   ],
   "source": [
    "# 1. the full row data (all columns)\n",
    "df_can.loc['Japan']"
   ]
  },
  {
   "cell_type": "code",
   "execution_count": 29,
   "metadata": {
    "pycharm": {
     "name": "#%%\n"
    }
   },
   "outputs": [
    {
     "data": {
      "text/plain": [
       "Continent                 Asia\n",
       "Region            Eastern Asia\n",
       "DevName      Developed regions\n",
       "1980                       701\n",
       "1981                       756\n",
       "1982                       598\n",
       "1983                       309\n",
       "1984                       246\n",
       "1985                       198\n",
       "1986                       248\n",
       "1987                       422\n",
       "1988                       324\n",
       "1989                       494\n",
       "1990                       379\n",
       "1991                       506\n",
       "1992                       605\n",
       "1993                       907\n",
       "1994                       956\n",
       "1995                       826\n",
       "1996                       994\n",
       "1997                       924\n",
       "1998                       897\n",
       "1999                      1083\n",
       "2000                      1010\n",
       "2001                      1092\n",
       "2002                       806\n",
       "2003                       817\n",
       "2004                       973\n",
       "2005                      1067\n",
       "2006                      1212\n",
       "2007                      1250\n",
       "2008                      1284\n",
       "2009                      1194\n",
       "2010                      1168\n",
       "2011                      1265\n",
       "2012                      1214\n",
       "2013                       982\n",
       "Total                    83121\n",
       "Name: Japan, dtype: object"
      ]
     },
     "execution_count": 29,
     "metadata": {},
     "output_type": "execute_result"
    }
   ],
   "source": [
    "# alternate methods\n",
    "df_can.iloc[87]"
   ]
  },
  {
   "cell_type": "code",
   "execution_count": 30,
   "metadata": {
    "pycharm": {
     "name": "#%%\n"
    }
   },
   "outputs": [
    {
     "data": {
      "text/html": [
       "<div>\n",
       "<style scoped>\n",
       "    .dataframe tbody tr th:only-of-type {\n",
       "        vertical-align: middle;\n",
       "    }\n",
       "\n",
       "    .dataframe tbody tr th {\n",
       "        vertical-align: top;\n",
       "    }\n",
       "\n",
       "    .dataframe thead th {\n",
       "        text-align: right;\n",
       "    }\n",
       "</style>\n",
       "<table border=\"1\" class=\"dataframe\">\n",
       "  <thead>\n",
       "    <tr style=\"text-align: right;\">\n",
       "      <th></th>\n",
       "      <th>Continent</th>\n",
       "      <th>Region</th>\n",
       "      <th>DevName</th>\n",
       "      <th>1980</th>\n",
       "      <th>1981</th>\n",
       "      <th>1982</th>\n",
       "      <th>1983</th>\n",
       "      <th>1984</th>\n",
       "      <th>1985</th>\n",
       "      <th>1986</th>\n",
       "      <th>...</th>\n",
       "      <th>2005</th>\n",
       "      <th>2006</th>\n",
       "      <th>2007</th>\n",
       "      <th>2008</th>\n",
       "      <th>2009</th>\n",
       "      <th>2010</th>\n",
       "      <th>2011</th>\n",
       "      <th>2012</th>\n",
       "      <th>2013</th>\n",
       "      <th>Total</th>\n",
       "    </tr>\n",
       "  </thead>\n",
       "  <tbody>\n",
       "    <tr>\n",
       "      <th>Japan</th>\n",
       "      <td>Asia</td>\n",
       "      <td>Eastern Asia</td>\n",
       "      <td>Developed regions</td>\n",
       "      <td>701</td>\n",
       "      <td>756</td>\n",
       "      <td>598</td>\n",
       "      <td>309</td>\n",
       "      <td>246</td>\n",
       "      <td>198</td>\n",
       "      <td>248</td>\n",
       "      <td>...</td>\n",
       "      <td>1067</td>\n",
       "      <td>1212</td>\n",
       "      <td>1250</td>\n",
       "      <td>1284</td>\n",
       "      <td>1194</td>\n",
       "      <td>1168</td>\n",
       "      <td>1265</td>\n",
       "      <td>1214</td>\n",
       "      <td>982</td>\n",
       "      <td>83121</td>\n",
       "    </tr>\n",
       "  </tbody>\n",
       "</table>\n",
       "<p>1 rows × 38 columns</p>\n",
       "</div>"
      ],
      "text/plain": [
       "      Continent        Region            DevName  1980  1981  1982  1983  \\\n",
       "Japan      Asia  Eastern Asia  Developed regions   701   756   598   309   \n",
       "\n",
       "       1984  1985  1986  ...  2005  2006  2007  2008  2009  2010  2011  2012  \\\n",
       "Japan   246   198   248  ...  1067  1212  1250  1284  1194  1168  1265  1214   \n",
       "\n",
       "       2013  Total  \n",
       "Japan   982  83121  \n",
       "\n",
       "[1 rows x 38 columns]"
      ]
     },
     "execution_count": 30,
     "metadata": {},
     "output_type": "execute_result"
    }
   ],
   "source": [
    "df_can[df_can.index == 'Japan']"
   ]
  },
  {
   "cell_type": "code",
   "execution_count": 31,
   "metadata": {
    "button": false,
    "new_sheet": false,
    "run_control": {
     "read_only": false
    },
    "scrolled": true
   },
   "outputs": [
    {
     "data": {
      "text/plain": [
       "982"
      ]
     },
     "execution_count": 31,
     "metadata": {},
     "output_type": "execute_result"
    }
   ],
   "source": [
    "# 2. for year 2013\n",
    "df_can.loc['Japan', 2013]"
   ]
  },
  {
   "cell_type": "code",
   "execution_count": 32,
   "metadata": {
    "pycharm": {
     "name": "#%%\n"
    }
   },
   "outputs": [
    {
     "data": {
      "text/plain": [
       "982"
      ]
     },
     "execution_count": 32,
     "metadata": {},
     "output_type": "execute_result"
    }
   ],
   "source": [
    "# alternate method\n",
    "# year 2013 is the last column, with a positional index of 36\n",
    "df_can.iloc[87, 36]"
   ]
  },
  {
   "cell_type": "code",
   "execution_count": 33,
   "metadata": {
    "button": false,
    "new_sheet": false,
    "run_control": {
     "read_only": false
    }
   },
   "outputs": [
    {
     "data": {
      "text/plain": [
       "1980    701\n",
       "1981    756\n",
       "1982    598\n",
       "1983    309\n",
       "1984    246\n",
       "1984    246\n",
       "Name: Japan, dtype: object"
      ]
     },
     "execution_count": 33,
     "metadata": {},
     "output_type": "execute_result"
    }
   ],
   "source": [
    "# 3. for years 1980 to 1985\n",
    "df_can.loc['Japan', [1980, 1981, 1982, 1983, 1984, 1984]]"
   ]
  },
  {
   "cell_type": "code",
   "execution_count": 34,
   "metadata": {
    "pycharm": {
     "name": "#%%\n"
    }
   },
   "outputs": [
    {
     "data": {
      "text/plain": [
       "1980    701\n",
       "1981    756\n",
       "1982    598\n",
       "1983    309\n",
       "1984    246\n",
       "1985    198\n",
       "Name: Japan, dtype: object"
      ]
     },
     "execution_count": 34,
     "metadata": {},
     "output_type": "execute_result"
    }
   ],
   "source": [
    "# Alternative Method\n",
    "df_can.iloc[87, [3, 4, 5, 6, 7, 8]]"
   ]
  },
  {
   "cell_type": "markdown",
   "metadata": {
    "button": false,
    "new_sheet": false,
    "run_control": {
     "read_only": false
    }
   },
   "source": [
    "Column names that are integers (such as the years) might introduce some confusion. For example, when we are referencing the year 2013, one might confuse that when the 2013th positional index.\n",
    "\n",
    "To avoid this ambuigity, let's convert the column names into strings: '1980' to '2013'.\n"
   ]
  },
  {
   "cell_type": "code",
   "execution_count": 41,
   "metadata": {
    "button": false,
    "new_sheet": false,
    "run_control": {
     "read_only": false
    },
    "scrolled": false
   },
   "outputs": [],
   "source": [
    "df_can.columns = list(map(str, df_can.columns))\n",
    "#print([type(x) for x in df_can.columns.values]) #<-- uncomment to check type of column headers"
   ]
  },
  {
   "cell_type": "markdown",
   "metadata": {
    "button": false,
    "new_sheet": false,
    "run_control": {
     "read_only": false
    }
   },
   "source": [
    "Since we converted the years to string, let's declare a variable that will allow us to easily call upon the full range of years:\n"
   ]
  },
  {
   "cell_type": "code",
   "execution_count": 46,
   "metadata": {
    "button": false,
    "new_sheet": false,
    "run_control": {
     "read_only": false
    },
    "scrolled": false
   },
   "outputs": [],
   "source": [
    "# useful for plotting later on\n",
    "years = list(map(str, range(1980, 2014)))"
   ]
  },
  {
   "cell_type": "markdown",
   "metadata": {
    "button": false,
    "new_sheet": false,
    "run_control": {
     "read_only": false
    }
   },
   "source": [
    "### Filtering based on a criteria\n",
    "\n",
    "To filter the dataframe based on a condition, we simply pass the condition as a boolean vector.\n",
    "\n",
    "For example, Let's filter the dataframe to show the data on Asian countries (AreaName = Asia).\n"
   ]
  },
  {
   "cell_type": "code",
   "execution_count": null,
   "metadata": {
    "button": false,
    "new_sheet": false,
    "run_control": {
     "read_only": false
    },
    "scrolled": true
   },
   "outputs": [],
   "source": [
    "# 1. create the condition boolean series\n",
    "condition = df_can['Continent'] == 'Asia'\n",
    "print(condition)"
   ]
  },
  {
   "cell_type": "code",
   "execution_count": null,
   "metadata": {
    "button": false,
    "new_sheet": false,
    "run_control": {
     "read_only": false
    }
   },
   "outputs": [],
   "source": [
    "# 2. pass this condition into the dataFrame\n",
    "df_can[condition]"
   ]
  },
  {
   "cell_type": "code",
   "execution_count": null,
   "metadata": {
    "button": false,
    "new_sheet": false,
    "run_control": {
     "read_only": false
    }
   },
   "outputs": [],
   "source": [
    "# we can pass multiple criteria in the same line.\n",
    "# let's filter for AreaNAme = Asia and RegName = Southern Asia\n",
    "\n",
    "df_can[(df_can['Continent']=='Asia') & (df_can['Region']=='Southern Asia')]\n",
    "\n",
    "# note: When using 'and' and 'or' operators, pandas requires we use '&' and '|' instead of 'and' and 'or'\n",
    "# don't forget to enclose the two conditions in parentheses"
   ]
  },
  {
   "cell_type": "markdown",
   "metadata": {
    "button": false,
    "new_sheet": false,
    "run_control": {
     "read_only": false
    }
   },
   "source": [
    "Before we proceed: let's review the changes we have made to our dataframe.\n"
   ]
  },
  {
   "cell_type": "code",
   "execution_count": null,
   "metadata": {
    "button": false,
    "new_sheet": false,
    "run_control": {
     "read_only": false
    },
    "scrolled": true
   },
   "outputs": [],
   "source": [
    "print('data dimensions:', df_can.shape)\n",
    "print(df_can.columns)\n",
    "df_can.head(2)"
   ]
  },
  {
   "cell_type": "markdown",
   "metadata": {
    "button": false,
    "new_sheet": false,
    "run_control": {
     "read_only": false
    }
   },
   "source": [
    "***\n",
    "\n",
    "# Visualizing Data using Matplotlib<a id=\"8\"></a>\n"
   ]
  },
  {
   "cell_type": "markdown",
   "metadata": {
    "button": false,
    "new_sheet": false,
    "run_control": {
     "read_only": false
    }
   },
   "source": [
    "## Matplotlib: Standard Python Visualization Library<a id=\"10\"></a>\n",
    "\n",
    "The primary plotting library we will explore in the course is [Matplotlib](http://matplotlib.org/?utm_medium=Exinfluencer&utm_source=Exinfluencer&utm_content=000026UJ&utm_term=10006555&utm_id=NA-SkillsNetwork-Channel-SkillsNetworkCoursesIBMDeveloperSkillsNetworkDV0101ENSkillsNetwork20297740-2021-01-01).  As mentioned on their website:\n",
    "\n",
    "> Matplotlib is a Python 2D plotting library which produces publication quality figures in a variety of hardcopy formats and interactive environments across platforms. Matplotlib can be used in Python scripts, the Python and IPython shell, the jupyter notebook, web application servers, and four graphical user interface toolkits.\n",
    "\n",
    "If you are aspiring to create impactful visualization with python, Matplotlib is an essential tool to have at your disposal.\n"
   ]
  },
  {
   "cell_type": "markdown",
   "metadata": {
    "button": false,
    "new_sheet": false,
    "run_control": {
     "read_only": false
    }
   },
   "source": [
    "### Matplotlib.Pyplot\n",
    "\n",
    "One of the core aspects of Matplotlib is `matplotlib.pyplot`. It is Matplotlib's scripting layer which we studied in details in the videos about Matplotlib. Recall that it is a collection of command style functions that make Matplotlib work like MATLAB. Each `pyplot` function makes some change to a figure: e.g., creates a figure, creates a plotting area in a figure, plots some lines in a plotting area, decorates the plot with labels, etc. In this lab, we will work with the scripting layer to learn how to generate line plots. In future labs, we will get to work with the Artist layer as well to experiment first hand how it differs from the scripting layer.\n"
   ]
  },
  {
   "cell_type": "markdown",
   "metadata": {
    "button": false,
    "new_sheet": false,
    "run_control": {
     "read_only": false
    }
   },
   "source": [
    "Let's start by importing `matplotlib` and `matplotlib.pyplot` as follows:\n"
   ]
  },
  {
   "cell_type": "code",
   "execution_count": 47,
   "metadata": {
    "button": false,
    "new_sheet": false,
    "run_control": {
     "read_only": false
    },
    "scrolled": false
   },
   "outputs": [],
   "source": [
    "# we are using the inline backend\n",
    "%matplotlib inline \n",
    "\n",
    "import matplotlib as mpl\n",
    "import matplotlib.pyplot as plt"
   ]
  },
  {
   "cell_type": "markdown",
   "metadata": {
    "button": false,
    "new_sheet": false,
    "run_control": {
     "read_only": false
    }
   },
   "source": [
    "\\*optional: check if Matplotlib is loaded.\n"
   ]
  },
  {
   "cell_type": "code",
   "execution_count": 48,
   "metadata": {
    "button": false,
    "new_sheet": false,
    "run_control": {
     "read_only": false
    },
    "scrolled": false
   },
   "outputs": [
    {
     "name": "stdout",
     "output_type": "stream",
     "text": [
      "Matplotlib version:  3.0.2\n"
     ]
    }
   ],
   "source": [
    "print('Matplotlib version: ', mpl.__version__)  # >= 2.0.0"
   ]
  },
  {
   "cell_type": "markdown",
   "metadata": {
    "button": false,
    "new_sheet": false,
    "run_control": {
     "read_only": false
    }
   },
   "source": [
    "\\*optional: apply a style to Matplotlib.\n"
   ]
  },
  {
   "cell_type": "code",
   "execution_count": 54,
   "metadata": {
    "button": false,
    "new_sheet": false,
    "run_control": {
     "read_only": false
    },
    "scrolled": false
   },
   "outputs": [
    {
     "name": "stdout",
     "output_type": "stream",
     "text": [
      "['seaborn-dark', 'seaborn-darkgrid', 'seaborn-ticks', 'fivethirtyeight', 'seaborn-whitegrid', 'classic', '_classic_test', 'fast', 'seaborn-talk', 'seaborn-dark-palette', 'seaborn-bright', 'seaborn-pastel', 'grayscale', 'seaborn-notebook', 'ggplot', 'seaborn-colorblind', 'seaborn-muted', 'seaborn', 'Solarize_Light2', 'seaborn-paper', 'bmh', 'tableau-colorblind10', 'seaborn-white', 'dark_background', 'seaborn-poster', 'seaborn-deep']\n"
     ]
    }
   ],
   "source": [
    "print(plt.style.available)\n",
    "mpl.style.use(['ggplot']) # optional: for ggplot-like style"
   ]
  },
  {
   "cell_type": "markdown",
   "metadata": {
    "button": false,
    "new_sheet": false,
    "run_control": {
     "read_only": false
    }
   },
   "source": [
    "### Plotting in *pandas*\n",
    "\n",
    "Fortunately, pandas has a built-in implementation of Matplotlib that we can use. Plotting in *pandas* is as simple as appending a `.plot()` method to a series or dataframe.\n",
    "\n",
    "Documentation:\n",
    "\n",
    "*   [Plotting with Series](http://pandas.pydata.org/pandas-docs/stable/api.html?utm_medium=Exinfluencer&utm_source=Exinfluencer&utm_content=000026UJ&utm_term=10006555&utm_id=NA-SkillsNetwork-Channel-SkillsNetworkCoursesIBMDeveloperSkillsNetworkDV0101ENSkillsNetwork20297740-2021-01-01#plotting)<br>\n",
    "*   [Plotting with Dataframes](http://pandas.pydata.org/pandas-docs/stable/api.html?utm_medium=Exinfluencer&utm_source=Exinfluencer&utm_content=000026UJ&utm_term=10006555&utm_id=NA-SkillsNetwork-Channel-SkillsNetworkCoursesIBMDeveloperSkillsNetworkDV0101ENSkillsNetwork20297740-2021-01-01#api-dataframe-plotting)\n"
   ]
  },
  {
   "cell_type": "markdown",
   "metadata": {
    "button": false,
    "new_sheet": false,
    "run_control": {
     "read_only": false
    }
   },
   "source": [
    "# Line Pots (Series/Dataframe) <a id=\"12\"></a>\n"
   ]
  },
  {
   "cell_type": "markdown",
   "metadata": {
    "button": false,
    "new_sheet": false,
    "run_control": {
     "read_only": false
    }
   },
   "source": [
    "**What is a line plot and why use it?**\n",
    "\n",
    "A line chart or line plot is a type of plot which displays information as a series of data points called 'markers' connected by straight line segments. It is a basic type of chart common in many fields.\n",
    "Use line plot when you have a continuous data set. These are best suited for trend-based visualizations of data over a period of time.\n"
   ]
  },
  {
   "cell_type": "markdown",
   "metadata": {
    "button": false,
    "new_sheet": false,
    "run_control": {
     "read_only": false
    }
   },
   "source": [
    "**Let's start with a case study:**\n",
    "\n",
    "In 2010, Haiti suffered a catastrophic magnitude 7.0 earthquake. The quake caused widespread devastation and loss of life and aout three million people were affected by this natural disaster. As part of Canada's humanitarian effort, the Government of Canada stepped up its effort in accepting refugees from Haiti. We can quickly visualize this effort using a `Line` plot:\n",
    "\n",
    "**Question:** Plot a line graph of immigration from Haiti using `df.plot()`.\n"
   ]
  },
  {
   "cell_type": "markdown",
   "metadata": {
    "button": false,
    "new_sheet": false,
    "run_control": {
     "read_only": false
    }
   },
   "source": [
    "First, we will extract the data series for Haiti.\n"
   ]
  },
  {
   "cell_type": "code",
   "execution_count": 50,
   "metadata": {
    "button": false,
    "new_sheet": false,
    "run_control": {
     "read_only": false
    },
    "scrolled": false
   },
   "outputs": [
    {
     "data": {
      "text/plain": [
       "1980    1666\n",
       "1981    3692\n",
       "1982    3498\n",
       "1983    2860\n",
       "1984    1418\n",
       "Name: Haiti, dtype: object"
      ]
     },
     "execution_count": 50,
     "metadata": {},
     "output_type": "execute_result"
    }
   ],
   "source": [
    "haiti = df_can.loc['Haiti', years] # passing in years 1980 - 2013 to exclude the 'total' column\n",
    "haiti.head()"
   ]
  },
  {
   "cell_type": "markdown",
   "metadata": {
    "button": false,
    "new_sheet": false,
    "run_control": {
     "read_only": false
    }
   },
   "source": [
    "Next, we will plot a line plot by appending `.plot()` to the `haiti` dataframe.\n"
   ]
  },
  {
   "cell_type": "code",
   "execution_count": 56,
   "metadata": {
    "button": false,
    "new_sheet": false,
    "run_control": {
     "read_only": false
    },
    "scrolled": false
   },
   "outputs": [
    {
     "data": {
      "text/plain": [
       "<matplotlib.axes._subplots.AxesSubplot at 0x127a184a8>"
      ]
     },
     "execution_count": 56,
     "metadata": {},
     "output_type": "execute_result"
    },
    {
     "data": {
      "image/png": "[encoded data removed]",
      "text/plain": [
       "<Figure size 432x288 with 1 Axes>"
      ]
     },
     "metadata": {},
     "output_type": "display_data"
    }
   ],
   "source": [
    "haiti.plot()"
   ]
  },
  {
   "cell_type": "markdown",
   "metadata": {
    "button": false,
    "new_sheet": false,
    "run_control": {
     "read_only": false
    }
   },
   "source": [
    "*pandas* automatically populated the x-axis with the index values (years), and the y-axis with the column values (population). However, notice how the years were not displayed because they are of type *string*. Therefore, let's change the type of the index values to *integer* for plotting.\n",
    "\n",
    "Also, let's label the x and y axis using `plt.title()`, `plt.ylabel()`, and `plt.xlabel()` as follows:\n"
   ]
  },
  {
   "cell_type": "code",
   "execution_count": 55,
   "metadata": {
    "button": false,
    "new_sheet": false,
    "run_control": {
     "read_only": false
    },
    "scrolled": true
   },
   "outputs": [
    {
     "data": {
      "image/png": "[encoded data removed]",
      "text/plain": [
       "<Figure size 432x288 with 1 Axes>"
      ]
     },
     "metadata": {},
     "output_type": "display_data"
    }
   ],
   "source": [
    "haiti.index = haiti.index.map(int) # let's change the index values of Haiti to type integer for plotting\n",
    "haiti.plot(kind='line')\n",
    "\n",
    "plt.title('Immigration from Haiti')\n",
    "plt.ylabel('Number of immigrants')\n",
    "plt.xlabel('Years')\n",
    "\n",
    "plt.show() # need this line to show the updates made to the figure"
   ]
  },
  {
   "cell_type": "markdown",
   "metadata": {
    "button": false,
    "new_sheet": false,
    "run_control": {
     "read_only": false
    }
   },
   "source": [
    "We can clearly notice how number of immigrants from Haiti spiked up from 2010 as Canada stepped up its efforts to accept refugees from Haiti. Let's annotate this spike in the plot by using the `plt.text()` method.\n"
   ]
  },
  {
   "cell_type": "code",
   "execution_count": 57,
   "metadata": {
    "button": false,
    "new_sheet": false,
    "run_control": {
     "read_only": false
    }
   },
   "outputs": [
    {
     "data": {
      "image/png": "[encoded data removed]",
      "text/plain": [
       "<Figure size 432x288 with 1 Axes>"
      ]
     },
     "metadata": {},
     "output_type": "display_data"
    }
   ],
   "source": [
    "haiti.plot(kind='line')\n",
    "\n",
    "plt.title('Immigration from Haiti')\n",
    "plt.ylabel('Number of Immigrants')\n",
    "plt.xlabel('Years')\n",
    "\n",
    "# annotate the 2010 Earthquake. \n",
    "# syntax: plt.text(x, y, label)\n",
    "plt.text(2000, 6000, '2010 Earthquake') # see note below\n",
    "\n",
    "plt.show() "
   ]
  },
  {
   "cell_type": "markdown",
   "metadata": {
    "button": false,
    "new_sheet": false,
    "run_control": {
     "read_only": false
    }
   },
   "source": [
    "With just a few lines of code, you were able to quickly identify and visualize the spike in immigration!\n",
    "\n",
    "Quick note on x and y values in `plt.text(x, y, label)`:\n",
    "\n",
    "```\n",
    " Since the x-axis (years) is type 'integer', we specified x as a year. The y axis (number of immigrants) is type 'integer', so we can just specify the value y = 6000.\n",
    "```\n",
    "\n",
    "```python\n",
    "    plt.text(2000, 6000, '2010 Earthquake') # years stored as type int\n",
    "```\n",
    "\n",
    "```\n",
    "If the years were stored as type 'string', we would need to specify x as the index position of the year. Eg 20th index is year 2000 since it is the 20th year with a base year of 1980.\n",
    "```\n",
    "\n",
    "```python\n",
    "    plt.text(20, 6000, '2010 Earthquake') # years stored as type int\n",
    "```\n",
    "\n",
    "```\n",
    "We will cover advanced annotation methods in later modules.\n",
    "```\n"
   ]
  },
  {
   "cell_type": "markdown",
   "metadata": {
    "button": false,
    "new_sheet": false,
    "run_control": {
     "read_only": false
    }
   },
   "source": [
    "We can easily add more countries to line plot to make meaningful comparisons immigration from different countries.\n",
    "\n",
    "**Question:** Let's compare the number of immigrants from India and China from 1980 to 2013.\n"
   ]
  },
  {
   "cell_type": "markdown",
   "metadata": {
    "button": false,
    "new_sheet": false,
    "run_control": {
     "read_only": false
    }
   },
   "source": [
    "Step 1: Get the data set for China and India, and display the dataframe.\n"
   ]
  },
  {
   "cell_type": "code",
   "execution_count": 60,
   "metadata": {
    "button": false,
    "new_sheet": false,
    "run_control": {
     "read_only": false
    },
    "scrolled": false
   },
   "outputs": [
    {
     "data": {
      "text/html": [
       "<div>\n",
       "<style scoped>\n",
       "    .dataframe tbody tr th:only-of-type {\n",
       "        vertical-align: middle;\n",
       "    }\n",
       "\n",
       "    .dataframe tbody tr th {\n",
       "        vertical-align: top;\n",
       "    }\n",
       "\n",
       "    .dataframe thead th {\n",
       "        text-align: right;\n",
       "    }\n",
       "</style>\n",
       "<table border=\"1\" class=\"dataframe\">\n",
       "  <thead>\n",
       "    <tr style=\"text-align: right;\">\n",
       "      <th></th>\n",
       "      <th>1980</th>\n",
       "      <th>1981</th>\n",
       "      <th>1982</th>\n",
       "      <th>1983</th>\n",
       "      <th>1984</th>\n",
       "      <th>1985</th>\n",
       "      <th>1986</th>\n",
       "      <th>1987</th>\n",
       "      <th>1988</th>\n",
       "      <th>1989</th>\n",
       "      <th>...</th>\n",
       "      <th>2004</th>\n",
       "      <th>2005</th>\n",
       "      <th>2006</th>\n",
       "      <th>2007</th>\n",
       "      <th>2008</th>\n",
       "      <th>2009</th>\n",
       "      <th>2010</th>\n",
       "      <th>2011</th>\n",
       "      <th>2012</th>\n",
       "      <th>2013</th>\n",
       "    </tr>\n",
       "  </thead>\n",
       "  <tbody>\n",
       "    <tr>\n",
       "      <th>China</th>\n",
       "      <td>5123</td>\n",
       "      <td>6682</td>\n",
       "      <td>3308</td>\n",
       "      <td>1863</td>\n",
       "      <td>1527</td>\n",
       "      <td>1816</td>\n",
       "      <td>1960</td>\n",
       "      <td>2643</td>\n",
       "      <td>2758</td>\n",
       "      <td>4323</td>\n",
       "      <td>...</td>\n",
       "      <td>36619</td>\n",
       "      <td>42584</td>\n",
       "      <td>33518</td>\n",
       "      <td>27642</td>\n",
       "      <td>30037</td>\n",
       "      <td>29622</td>\n",
       "      <td>30391</td>\n",
       "      <td>28502</td>\n",
       "      <td>33024</td>\n",
       "      <td>34129</td>\n",
       "    </tr>\n",
       "    <tr>\n",
       "      <th>India</th>\n",
       "      <td>8880</td>\n",
       "      <td>8670</td>\n",
       "      <td>8147</td>\n",
       "      <td>7338</td>\n",
       "      <td>5704</td>\n",
       "      <td>4211</td>\n",
       "      <td>7150</td>\n",
       "      <td>10189</td>\n",
       "      <td>11522</td>\n",
       "      <td>10343</td>\n",
       "      <td>...</td>\n",
       "      <td>28235</td>\n",
       "      <td>36210</td>\n",
       "      <td>33848</td>\n",
       "      <td>28742</td>\n",
       "      <td>28261</td>\n",
       "      <td>29456</td>\n",
       "      <td>34235</td>\n",
       "      <td>27509</td>\n",
       "      <td>30933</td>\n",
       "      <td>33087</td>\n",
       "    </tr>\n",
       "  </tbody>\n",
       "</table>\n",
       "<p>2 rows × 34 columns</p>\n",
       "</div>"
      ],
      "text/plain": [
       "       1980  1981  1982  1983  1984  1985  1986   1987   1988   1989  ...  \\\n",
       "China  5123  6682  3308  1863  1527  1816  1960   2643   2758   4323  ...   \n",
       "India  8880  8670  8147  7338  5704  4211  7150  10189  11522  10343  ...   \n",
       "\n",
       "        2004   2005   2006   2007   2008   2009   2010   2011   2012   2013  \n",
       "China  36619  42584  33518  27642  30037  29622  30391  28502  33024  34129  \n",
       "India  28235  36210  33848  28742  28261  29456  34235  27509  30933  33087  \n",
       "\n",
       "[2 rows x 34 columns]"
      ]
     },
     "execution_count": 60,
     "metadata": {},
     "output_type": "execute_result"
    }
   ],
   "source": [
    "### type your answer here\n",
    "df_CI = df_can.loc[['China', 'India'], years]\n",
    "df_CI"
   ]
  },
  {
   "cell_type": "markdown",
   "metadata": {
    "button": false,
    "new_sheet": false,
    "run_control": {
     "read_only": false
    }
   },
   "source": [
    "<details><summary>Click here for a sample python solution</summary>\n",
    "\n",
    "```python\n",
    "    #The correct answer is:\n",
    "    df_CI = df_can.loc[['India', 'China'], years]\n",
    "    df_CI\n",
    "```\n",
    "\n",
    "</details>\n"
   ]
  },
  {
   "cell_type": "markdown",
   "metadata": {
    "button": false,
    "new_sheet": false,
    "run_control": {
     "read_only": false
    }
   },
   "source": [
    "Step 2: Plot graph. We will explicitly specify line plot by passing in `kind` parameter to `plot()`.\n"
   ]
  },
  {
   "cell_type": "code",
   "execution_count": 61,
   "metadata": {
    "button": false,
    "new_sheet": false,
    "run_control": {
     "read_only": false
    },
    "scrolled": true
   },
   "outputs": [
    {
     "data": {
      "text/plain": [
       "<matplotlib.axes._subplots.AxesSubplot at 0x127ae7a90>"
      ]
     },
     "execution_count": 61,
     "metadata": {},
     "output_type": "execute_result"
    },
    {
     "data": {
      "image/png": "[encoded data removed]",
      "text/plain": [
       "<Figure size 432x288 with 1 Axes>"
      ]
     },
     "metadata": {},
     "output_type": "display_data"
    }
   ],
   "source": [
    "### type your answer here\n",
    "df_CI.plot(kind='line')\n"
   ]
  },
  {
   "cell_type": "markdown",
   "metadata": {
    "button": false,
    "new_sheet": false,
    "run_control": {
     "read_only": false
    }
   },
   "source": [
    "<details><summary>Click here for a sample python solution</summary>\n",
    "\n",
    "```python\n",
    "    #The correct answer is:\n",
    "    df_CI.plot(kind='line')\n",
    "```\n",
    "\n",
    "</details>\n"
   ]
  },
  {
   "cell_type": "markdown",
   "metadata": {
    "button": false,
    "new_sheet": false,
    "run_control": {
     "read_only": false
    }
   },
   "source": [
    "That doesn't look right...\n",
    "\n",
    "Recall that *pandas* plots the indices on the x-axis and the columns as individual lines on the y-axis. Since `df_CI` is a dataframe with the `country` as the index and `years` as the columns, we must first transpose the dataframe using `transpose()` method to swap the row and columns.\n"
   ]
  },
  {
   "cell_type": "code",
   "execution_count": 62,
   "metadata": {
    "button": false,
    "new_sheet": false,
    "run_control": {
     "read_only": false
    }
   },
   "outputs": [
    {
     "data": {
      "text/html": [
       "<div>\n",
       "<style scoped>\n",
       "    .dataframe tbody tr th:only-of-type {\n",
       "        vertical-align: middle;\n",
       "    }\n",
       "\n",
       "    .dataframe tbody tr th {\n",
       "        vertical-align: top;\n",
       "    }\n",
       "\n",
       "    .dataframe thead th {\n",
       "        text-align: right;\n",
       "    }\n",
       "</style>\n",
       "<table border=\"1\" class=\"dataframe\">\n",
       "  <thead>\n",
       "    <tr style=\"text-align: right;\">\n",
       "      <th></th>\n",
       "      <th>China</th>\n",
       "      <th>India</th>\n",
       "    </tr>\n",
       "  </thead>\n",
       "  <tbody>\n",
       "    <tr>\n",
       "      <th>1980</th>\n",
       "      <td>5123</td>\n",
       "      <td>8880</td>\n",
       "    </tr>\n",
       "    <tr>\n",
       "      <th>1981</th>\n",
       "      <td>6682</td>\n",
       "      <td>8670</td>\n",
       "    </tr>\n",
       "    <tr>\n",
       "      <th>1982</th>\n",
       "      <td>3308</td>\n",
       "      <td>8147</td>\n",
       "    </tr>\n",
       "    <tr>\n",
       "      <th>1983</th>\n",
       "      <td>1863</td>\n",
       "      <td>7338</td>\n",
       "    </tr>\n",
       "    <tr>\n",
       "      <th>1984</th>\n",
       "      <td>1527</td>\n",
       "      <td>5704</td>\n",
       "    </tr>\n",
       "  </tbody>\n",
       "</table>\n",
       "</div>"
      ],
      "text/plain": [
       "      China  India\n",
       "1980   5123   8880\n",
       "1981   6682   8670\n",
       "1982   3308   8147\n",
       "1983   1863   7338\n",
       "1984   1527   5704"
      ]
     },
     "execution_count": 62,
     "metadata": {},
     "output_type": "execute_result"
    }
   ],
   "source": [
    "df_CI = df_CI.transpose()\n",
    "df_CI.head()"
   ]
  },
  {
   "cell_type": "markdown",
   "metadata": {
    "button": false,
    "new_sheet": false,
    "run_control": {
     "read_only": false
    }
   },
   "source": [
    "*pandas* will auomatically graph the two countries on the same graph. Go ahead and plot the new transposed dataframe. Make sure to add a title to the plot and label the axes.\n"
   ]
  },
  {
   "cell_type": "code",
   "execution_count": 66,
   "metadata": {
    "button": false,
    "new_sheet": false,
    "run_control": {
     "read_only": false
    }
   },
   "outputs": [
    {
     "data": {
      "image/png": "[encoded data removed]",
      "text/plain": [
       "<Figure size 432x288 with 1 Axes>"
      ]
     },
     "metadata": {},
     "output_type": "display_data"
    }
   ],
   "source": [
    "### type your answer here\n",
    "df_CI.plot(kind='line')\n",
    "plt.xlabel('Years')\n",
    "plt.ylabel('Number of Immigrants')\n",
    "plt.title('China & India Immigration Trends')\n",
    "plt.show()"
   ]
  },
  {
   "cell_type": "markdown",
   "metadata": {
    "button": false,
    "new_sheet": false,
    "run_control": {
     "read_only": false
    }
   },
   "source": [
    "<details><summary>Click here for a sample python solution</summary>\n",
    "\n",
    "```python\n",
    "    #The correct answer is:\n",
    "    df_CI.index = df_CI.index.map(int) # let's change the index values of df_CI to type integer for plotting\n",
    "    df_CI.plot(kind='line')\n",
    "\n",
    "    plt.title('Immigrants from China and India')\n",
    "    plt.ylabel('Number of Immigrants')\n",
    "    plt.xlabel('Years')\n",
    "\n",
    "    plt.show()\n",
    "```\n",
    "\n",
    "</details>\n"
   ]
  },
  {
   "cell_type": "markdown",
   "metadata": {
    "button": false,
    "new_sheet": false,
    "run_control": {
     "read_only": false
    }
   },
   "source": [
    "<br>From the above plot, we can observe that the China and India have very similar immigration trends through the years.\n"
   ]
  },
  {
   "cell_type": "markdown",
   "metadata": {
    "button": false,
    "new_sheet": false,
    "run_control": {
     "read_only": false
    }
   },
   "source": [
    "*Note*: How come we didn't need to transpose Haiti's dataframe before plotting (like we did for df_CI)?\n",
    "\n",
    "That's because `haiti` is a series as opposed to a dataframe, and has the years as its indices as shown below.\n",
    "\n",
    "```python\n",
    "print(type(haiti))\n",
    "print(haiti.head(5))\n",
    "```\n",
    "\n",
    "> class 'pandas.core.series.Series' <br>\n",
    "> 1980    1666 <br>\n",
    "> 1981    3692 <br>\n",
    "> 1982    3498 <br>\n",
    "> 1983    2860 <br>\n",
    "> 1984    1418 <br>\n",
    "> Name: Haiti, dtype: int64 <br>\n"
   ]
  },
  {
   "cell_type": "markdown",
   "metadata": {
    "button": false,
    "new_sheet": false,
    "run_control": {
     "read_only": false
    }
   },
   "source": [
    "Line plot is a handy tool to display several dependent variables against one independent variable. However, it is recommended that no more than 5-10 lines on a single graph; any more than that and it becomes difficult to interpret.\n"
   ]
  },
  {
   "cell_type": "markdown",
   "metadata": {
    "button": false,
    "new_sheet": false,
    "run_control": {
     "read_only": false
    }
   },
   "source": [
    "**Question:** Compare the trend of top 5 countries that contributed the most to immigration to Canada.\n"
   ]
  },
  {
   "cell_type": "code",
   "execution_count": 94,
   "metadata": {},
   "outputs": [
    {
     "data": {
      "image/png": "[encoded data removed]",
      "text/plain": [
       "<Figure size 1008x576 with 1 Axes>"
      ]
     },
     "metadata": {},
     "output_type": "display_data"
    }
   ],
   "source": [
    "### type your answer here\n",
    "top5_df = df_can.nlargest(5, 'Total').loc[:, years]\n",
    "top5_df = top5_df.transpose()\n",
    "top5_df.index = top5_df.index.map(int)\n",
    "top5_df.plot(kind='line', figsize=(14, 8))\n",
    "plt.title('Immigration Trends of Top 5 Countries')\n",
    "plt.xlabel('Years')\n",
    "plt.ylabel('Number of Immigrants')\n",
    "plt.show()"
   ]
  },
  {
   "cell_type": "markdown",
   "metadata": {
    "button": false,
    "new_sheet": false,
    "run_control": {
     "read_only": false
    }
   },
   "source": [
    "<details><summary>Click here for a sample python solution</summary>\n",
    "\n",
    "```python\n",
    "    #The correct answer is:    \n",
    "    #Step 1: Get the dataset. Recall that we created a Total column that calculates cumulative immigration by country. \n",
    "    #We will sort on this column to get our top 5 countries using pandas sort_values() method.\n",
    "    \n",
    "    inplace = True # paramemter saves the changes to the original df_can dataframe\n",
    "    df_can.sort_values(by='Total', ascending=False, axis=0, inplace=True)\n",
    "\n",
    "    # get the top 5 entries\n",
    "    df_top5 = df_can.head(5)\n",
    "\n",
    "    # transpose the dataframe\n",
    "    df_top5 = df_top5[years].transpose() \n",
    "\n",
    "    print(df_top5)\n",
    "\n",
    "\n",
    "    #Step 2: Plot the dataframe. To make the plot more readeable, we will change the size using the `figsize` parameter.\n",
    "    df_top5.index = df_top5.index.map(int) # let's change the index values of df_top5 to type integer for plotting\n",
    "    df_top5.plot(kind='line', figsize=(14, 8)) # pass a tuple (x, y) size\n",
    "\n",
    "\n",
    "\n",
    "    plt.title('Immigration Trend of Top 5 Countries')\n",
    "    plt.ylabel('Number of Immigrants')\n",
    "    plt.xlabel('Years')\n",
    "\n",
    "\n",
    "    plt.show()\n",
    "\n",
    "```\n",
    "\n",
    "</details>\n"
   ]
  },
  {
   "cell_type": "markdown",
   "metadata": {
    "button": false,
    "new_sheet": false,
    "run_control": {
     "read_only": false
    }
   },
   "source": [
    "### Other Plots\n",
    "\n",
    "Congratulations! you have learned how to wrangle data with python and create a line plot with Matplotlib. There are many other plotting styles available other than the default Line plot, all of which can be accessed by passing `kind` keyword to `plot()`. The full list of available plots are as follows:\n",
    "\n",
    "*   `bar` for vertical bar plots\n",
    "*   `barh` for horizontal bar plots\n",
    "*   `hist` for histogram\n",
    "*   `box` for boxplot\n",
    "*   `kde` or `density` for density plots\n",
    "*   `area` for area plots\n",
    "*   `pie` for pie plots\n",
    "*   `scatter` for scatter plots\n",
    "*   `hexbin` for hexbin plot\n"
   ]
  },
  {
   "cell_type": "markdown",
   "metadata": {
    "button": false,
    "new_sheet": false,
    "run_control": {
     "read_only": false
    }
   },
   "source": [
    "### Thank you for completing this lab!\n",
    "\n",
    "## Author\n",
    "\n",
    "<a href=\"https://www.linkedin.com/in/aklson/?utm_medium=Exinfluencer&utm_source=Exinfluencer&utm_content=000026UJ&utm_term=10006555&utm_id=NA-SkillsNetwork-Channel-SkillsNetworkCoursesIBMDeveloperSkillsNetworkDV0101ENSkillsNetwork20297740-2021-01-01\" target=\"_blank\">Alex Aklson</a>\n",
    "\n",
    "### Other Contributors\n",
    "\n",
    "[Jay Rajasekharan](https://www.linkedin.com/in/jayrajasekharan?utm_medium=Exinfluencer&utm_source=Exinfluencer&utm_content=000026UJ&utm_term=10006555&utm_id=NA-SkillsNetwork-Channel-SkillsNetworkCoursesIBMDeveloperSkillsNetworkDV0101ENSkillsNetwork20297740-2021-01-01),\n",
    "[Ehsan M. Kermani](https://www.linkedin.com/in/ehsanmkermani?utm_medium=Exinfluencer&utm_source=Exinfluencer&utm_content=000026UJ&utm_term=10006555&utm_id=NA-SkillsNetwork-Channel-SkillsNetworkCoursesIBMDeveloperSkillsNetworkDV0101ENSkillsNetwork20297740-2021-01-01),\n",
    "[Slobodan Markovic](https://www.linkedin.com/in/slobodan-markovic?utm_medium=Exinfluencer&utm_source=Exinfluencer&utm_content=000026UJ&utm_term=10006555&utm_id=NA-SkillsNetwork-Channel-SkillsNetworkCoursesIBMDeveloperSkillsNetworkDV0101ENSkillsNetwork20297740-2021-01-01),\n",
    "[Weiqing Wang](https://www.linkedin.com/in/weiqing-wang-641640133/?utm_medium=Exinfluencer&utm_source=Exinfluencer&utm_content=000026UJ&utm_term=10006555&utm_id=NA-SkillsNetwork-Channel-SkillsNetworkCoursesIBMDeveloperSkillsNetworkDV0101ENSkillsNetwork20297740-2021-01-01)\n",
    "\n",
    "## Change Log\n",
    "\n",
    "| Date (YYYY-MM-DD) | Version | Changed By    | Change Description                 |\n",
    "| ----------------- | ------- | ------------- | ---------------------------------- |\n",
    "| 2021-05-29        | 2.4     | Weiqing Wang  | Fixed typos and code smells.       |\n",
    "| 2021-01-20        | 2.3     | Lakshmi Holla | Changed TOC cell markdown          |\n",
    "| 2020-11-20        | 2.2     | Lakshmi Holla | Changed IBM box URL                |\n",
    "| 2020-11-03        | 2.1     | Lakshmi Holla | Changed URL and info method        |\n",
    "| 2020-08-27        | 2.0     | Lavanya       | Moved Lab to course repo in GitLab |\n",
    "\n",
    "## <h3 align=\"center\"> © IBM Corporation 2020. All rights reserved. <h3/>\n"
   ]
  }
 ],
 "metadata": {
  "kernelspec": {
   "display_name": "Python 3",
   "language": "python",
   "name": "python3"
  },
  "language_info": {
   "codemirror_mode": {
    "name": "ipython",
    "version": 3
   },
   "file_extension": ".py",
   "mimetype": "text/x-python",
   "name": "python",
   "nbconvert_exporter": "python",
   "pygments_lexer": "ipython3",
   "version": "3.7.1"
  },
  "widgets": {
   "state": {},
   "version": "1.1.2"
  }
 },
 "nbformat": 4,
 "nbformat_minor": 2
}
